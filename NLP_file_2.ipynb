{
  "nbformat": 4,
  "nbformat_minor": 0,
  "metadata": {
    "colab": {
      "provenance": [],
      "authorship_tag": "ABX9TyP8/QeggumBxu8EDUOYXM5Y",
      "include_colab_link": true
    },
    "kernelspec": {
      "name": "python3",
      "display_name": "Python 3"
    },
    "language_info": {
      "name": "python"
    }
  },
  "cells": [
    {
      "cell_type": "markdown",
      "metadata": {
        "id": "view-in-github",
        "colab_type": "text"
      },
      "source": [
        "<a href=\"https://colab.research.google.com/github/Mancykaur/branching2/blob/master/NLP_file_2.ipynb\" target=\"_parent\"><img src=\"https://colab.research.google.com/assets/colab-badge.svg\" alt=\"Open In Colab\"/></a>"
      ]
    },
    {
      "cell_type": "markdown",
      "source": [
        "\n",
        "\n",
        "***1.   Extracting the data from PDF***\n",
        "\n"
      ],
      "metadata": {
        "id": "FSv15IGO7_Ez"
      }
    },
    {
      "cell_type": "code",
      "execution_count": null,
      "metadata": {
        "colab": {
          "base_uri": "https://localhost:8080/"
        },
        "id": "r-F5Zec5jJ7c",
        "outputId": "4ee0def8-e9b5-444d-e365-ecbd1a2de253"
      },
      "outputs": [
        {
          "output_type": "stream",
          "name": "stdout",
          "text": [
            "Collecting PyPDF2\n",
            "  Downloading pypdf2-3.0.1-py3-none-any.whl.metadata (6.8 kB)\n",
            "Downloading pypdf2-3.0.1-py3-none-any.whl (232 kB)\n",
            "\u001b[2K   \u001b[90m━━━━━━━━━━━━━━━━━━━━━━━━━━━━━━━━━━━━━━━━\u001b[0m \u001b[32m232.6/232.6 kB\u001b[0m \u001b[31m1.6 MB/s\u001b[0m eta \u001b[36m0:00:00\u001b[0m\n",
            "\u001b[?25hInstalling collected packages: PyPDF2\n",
            "Successfully installed PyPDF2-3.0.1\n"
          ]
        }
      ],
      "source": [
        "# Install the PyPDF2 package\n",
        "!pip install PyPDF2\n",
        "\n",
        "# Import the package\n",
        "import PyPDF2\n",
        "from PyPDF2 import PdfFileReader"
      ]
    },
    {
      "cell_type": "code",
      "source": [
        "from PyPDF2 import PdfReader\n",
        "path = r'/content/sample_data/python.pdf'\n",
        "with open(path,'rb') as f:\n",
        "    pdf = PdfReader(f)\n",
        "    # Removed extra space before the for loop\n",
        "    for i in range(len(pdf.pages)):\n",
        "      page = pdf.pages[i]\n",
        "      text = page.extract_text()\n",
        "      print(text)"
      ],
      "metadata": {
        "colab": {
          "base_uri": "https://localhost:8080/"
        },
        "id": "HR4cDtqejQAm",
        "outputId": "e022a963-76e4-4214-c46c-2f81dea4db56"
      },
      "execution_count": null,
      "outputs": [
        {
          "output_type": "stream",
          "name": "stdout",
          "text": [
            "\n",
            "Languages\n",
            "•Solve problems using a computer, give the \n",
            "computer instructions.\n",
            "•Remember our diaper -changing exercise? \n",
            "\n",
            "Talk the talk\n",
            "•Speak its language\n",
            "–High -level: Python, C++, Java\n",
            "–Low-level: machine language, computers can only \n",
            "execute these\n",
            "–High -level languages have to be processed into \n",
            "low-level before the computer can run them\n",
            "–But high -level languages can run on different kinds \n",
            "of computers and are easier for humans to write \n",
            "and read, so most programs are written in high -\n",
            "level\n",
            "Translation\n",
            "•How does high -level get translated into low -\n",
            "level?\n",
            "–Interpreters and compilers!\n",
            "–Interpreter processes the program a little bit at a \n",
            "time and runs it\n",
            "–Compiler translates everything before running it\n",
            "\n",
            "What is                  ?\n",
            "Python is a programming language that \n",
            "lets you work more quickly and integrate \n",
            "your systems more effectively .\n",
            "(in other words, magic!)\n",
            "http://www.python.org/\n",
            "\n",
            "Python Vocab\n",
            "•Program –A larger file of code that may contain one or \n",
            "more functions.\n",
            "•Variable -names that you can assign values to, allowing \n",
            "you to reuse them later on.\n",
            "E.g.:  x = 1 or msg= “Hi, I’m a message!”\n",
            "•Comments –These are notes ignored by the computer. In \n",
            "Python, comments start with a hash mark (#) and end at \n",
            "the end of the line.\n",
            "E.g.: >>> x + y #both variables store user \n",
            "input\n",
            "•Operators –Mathematical symbols, like +, -, *, and /, but \n",
            "also ** (for exponents).\n",
            "\n",
            "Python Vocab\n",
            "•Keyword –Words with meaning/purpose in \n",
            "Python. E.g. “ and ”, “print ”, and “if”.\n",
            "•Function –A chunk of code that performs an \n",
            "action. Functions have names and are reusable. \n",
            "Kinds: built -in ones, and “user -defined” ones.\n",
            "•Expression –Statements that produce values. \n",
            "Examples include 3 + 5, \"Hello world!“.\n",
            "•Error –When your program has a problem, the \n",
            "command area will provide an error message. \n",
            "\n",
            "What is JES?\n",
            "Jython Environment for Students allows you to \n",
            "program and experiment with python.\n",
            "The top part (the white window with the tiny \n",
            "number 1, which tells you that that’s line \n",
            "number 1), or the “program area”, works like \n",
            "any text editor would, where you can type \n",
            "stuff and save it under some file name so you \n",
            "can close it and pull it back up later. \n",
            "The bottom part (in black), the “command \n",
            "area”, is the brains of the operation.\n",
            "After you are done writing a program here\n",
            "Click Load Program to compile the program\n",
            "Writing Your Program\n",
            "Header Comments:\n",
            "# file name: circ.py\n",
            "# author: DurrahAlmansour\n",
            "# description: a program to \n",
            "calculate the area of a circle.\n",
            "\n",
            "Indentation\n",
            "•Not an Option, but a Requirement! \n",
            "•In Python, indenting specifies the “scope” of \n",
            "different chunks of your code.\n",
            "def main():\n",
            "print \"Hello world!\"\n",
            "The print line will be executed when you invoke  \n",
            "main(). \n",
            "\n",
            "Writing Your Program\n",
            "•Always plan what you want your program to \n",
            "do (pseudocode ).\n",
            "•Divide it into parts, it will make it easier to \n",
            "debug and update later.\n",
            "\n",
            "Writing Your Program\n",
            "Defining Functions:\n",
            "def main():\n",
            "print \"Hello world!\"\n",
            "-Name the function for the purpose you wrote \n",
            "it for.\n",
            "-Don’t forget to indent the instructions that go \n",
            "inside the function.\n",
            "\n",
            "Argument\n",
            "A value passed to a function or method, \n",
            "assigned to a named local variable in the \n",
            "function body. \n",
            "Ex. def addUp(a,b):\n",
            "print(“this is a+b: “, a+b)\n",
            "#a and b are the parameters , 1 and  3 are the \n",
            "arguments we passed in. \n",
            "#The function outputs : this is 1+3: 4\n",
            "http://docs.python.org/glossary.html#glossary\n",
            "\n",
            "Calling Functions\n",
            "main()\n",
            "will give the output\n",
            "Hello world!\n",
            "-There is no colon when calling a function!\n",
            "-Use colons with “def”.:\n",
            "\n",
            "•Try this yourself\n",
            "\n",
            "Output\n",
            "E.g. Print:\n",
            "print \"Hello world!\"\n",
            "will give the output\n",
            "Hello world!\n",
            "\n",
            "Similar formatting, different output\n",
            "•print \"Hello\", \"world\", \"!\"\n",
            "will output\n",
            "Hello world !\n",
            "•print \"Hello\" + \"world\" + \"!\"\n",
            "will output\n",
            "Helloworld !\n",
            "\n",
            "Similar formatting, different output\n",
            "•print \"Hello\"\n",
            "print \"world\"\n",
            "print \"!“\n",
            "•will give the output\n",
            "Hello\n",
            "world\n",
            "!\n",
            "•print \"Hello“,\n",
            "print \"world“,\n",
            "print \"!“\n",
            "•will give the output\n",
            "Hello world !\n",
            "Data Types\n",
            "The data type of an object determines the values it can \n",
            "hold, and the operations which can be performed on \n",
            "it.\n",
            "•Numeric Data\n",
            "Numeric data comes in 2 main flavors:\n",
            "–Integers (whole numbers) 2, 5, -7, etc.\n",
            "–Floating Point Numbers (non -integers) 0.2, 5.125, etc.\n",
            "(CS108 Notes, Prof. Aaron Stevens)\n",
            "\n",
            "Data Types\n",
            "•Non -numeric Data Types:\n",
            "Those include strings (text), lists, dictionaries, \n",
            "etc.. \n",
            "Basically anything you can not add up using a \n",
            "simple plus sign (+).\n",
            "\n",
            "Not a String? Not a Problem!\n",
            "You can also format outputting variables you’ve \n",
            "defined:\n",
            "•x = 42\n",
            "print“ The value of x is\", x, \".“\n",
            "•will give the output\n",
            "The value of x is 42 .\n",
            "\n",
            "Not a String? Not a Problem!\n",
            "•x = 42\n",
            "print \"$\" + x\n",
            "causes an error.\n",
            "•So what do we do?\n",
            "x = 42\n",
            "print \"$\" + str(x)\n",
            "will give the output\n",
            "$42\n",
            "\n",
            "Defining Variables\n",
            "Rules for naming variables:\n",
            "•Have to start with a letter or underscore (_)\n",
            "•Can contain letters, numbers, and underscores\n",
            "•Can’t contain spaces, punctuation, etc.\n",
            "•Can’t be Python keywords\n",
            "•Are case sensitive\n",
            "\n",
            "Defining Variables\n",
            "Things that aren’t rules, but are worth considering:\n",
            "•You should give your variables sensible names \n",
            "(“price”, “ pixelColor , or “ samplingRate ” instead of \n",
            "“x”)\n",
            "•Just because you technically can start your \n",
            "variable names with underscores doesn’t mean \n",
            "you should. \n",
            "\n",
            "Defining Variables\n",
            "•For multi -word variable names, two options:\n",
            "–start capitalizing each word after the first “ myCar ”\n",
            "–separate words with underscores. For instance, a \n",
            "variable for “Ford Focus” could be “ my_car ”.\n",
            "•Abbreviating is common for longer words. So, a \n",
            "variable for “average price” could be “ avgPrice ” \n",
            "or even “ avg”.\n",
            "Variables\n",
            "•Variables can hold all kinds of values, including \n",
            "strings, different types of numbers, and user \n",
            "input.\n",
            "•To assign a string value to a variable, you have to \n",
            "wrap the string in quotes (like usual).\n",
            "firstName = \"John\"\n",
            "lastName = \"Doe\"\n",
            "mathProblem = \"5 + 5\"\n",
            "print lastName , \",\", firstName , \";\", \n",
            "mathProblem\n",
            "will give the output\n",
            "Doe , John ; 5 + 5\n",
            "\n",
            "Variables\n",
            "•Variables can also be assigned new values that \n",
            "are relative to their old values. For example:\n",
            "total = 10\n",
            "print \"Original total:\", total\n",
            "total = total + 4\n",
            "print \"New total:\", total\n",
            "will give the output\n",
            "Original total: 10\n",
            "New total: 14\n",
            "\n",
            "Variables\n",
            "•Remember: A variable has to have been \n",
            "defined on a previous line before it can be \n",
            "used on the right -hand side of an equation, \n",
            "so:\n",
            "•total = total + 4\n",
            "print \"Total:\", total\n",
            "causes an error, since there was no mention of \n",
            "the value of “total” before the line trying to \n",
            "redefine it.\n",
            "Numeric Operators\n",
            "•Python built -in numeric operators:\n",
            "•+  addition\n",
            "•-subtraction\n",
            "•* multiplication\n",
            "•/ division\n",
            "•** exponentiation\n",
            "•% remainder (modulo)\n",
            "(CS108 Notes, Prof. Aaron Stevens)\n",
            "Python Arithmetic\n",
            "•Try writing the following code in your program area and see what it \n",
            "outputs\n",
            "Def main():\n",
            "a = 12\n",
            "b = 2\n",
            "c = 16\n",
            "d = 3\n",
            "e = 2.5\n",
            "print \"the value of a is\", a\n",
            "print (a / b) * 5\n",
            "print a + b * d\n",
            "print (a + b) * d\n",
            "print b ** d\n",
            "print c -e\n",
            "a = a + b\n",
            "print \"the value of a is\", a\n",
            "Python Arithmetic\n",
            "•Is this what you got?\n",
            "the value of a is 12\n",
            "30\n",
            "18\n",
            "42\n",
            "8\n",
            "13.5\n",
            "the value of a is 14\n",
            "Exercise Time!\n",
            "•Write a program that takes in a birthday ( dd, \n",
            "mm, yy) and returns: \n",
            "–The age\n",
            "–Number of days until next birthday\n",
            "Taking User Input\n",
            "Sometimes, instead of passing in arguments, \n",
            "you can ask for them after calling the function.\n",
            "Taking User Input\n",
            "•requestNumber ()\n",
            "•requestInteger ()\n",
            "•requestIntegerInRange ()\n",
            "•requestString ()\n",
            "\n",
            "Taking User Input\n",
            "name = requestString (\"Enter your name:\")\n",
            "print name\n",
            "first pops up a dialog box (where you can enter a name, say \n",
            "‘John Doe’):\n",
            "then outputs\n",
            "John Doe\n",
            "\n",
            "Ex. Try it with Numbers!\n",
            "num = requestNumber (\"Enter a number:\")\n",
            "print \"Your number:\", num\n",
            "print \"Your number squared:\", num*num\n",
            "This is where you put the message \n",
            "you want to appear with your \n",
            "input box!\n",
            "Ex. Try Inputting a String\n",
            "•Make JES print “<input> is awesome! ”\n",
            "name = requestString (\"Enter your name:\")\n",
            "print name, “is awesome!”\n",
            "\n",
            "The For Loop\n",
            "•Also known as the “definite loop”.\n",
            "•Allows you to specify a list of items (numbers, \n",
            "words, letters, etc.), and specify action(s) to \n",
            "be performed on each one.\n",
            "•The official form for the for loop is this: \n",
            "for < var> in <sequence>:\n",
            "<body>\n",
            "(Note that the body is indented to in the loop)\n",
            "The Kittens Need Your Help!\n",
            "You are working at an animals shelter, you are \n",
            "asked to take a group of kittens, bathe, dry, \n",
            "and feed each one individually. \n",
            "\n",
            "The Kittens Need a Loop!\n",
            "Using a for -loop type notation, your instructions \n",
            "would look like this:\n",
            "Kittens = [kitty #1, kitty#2, \n",
            "kitty#3, ...] \n",
            "for kitty in Kittens:\n",
            "bathe kitty\n",
            "dry kitty\n",
            "feed kitty\n",
            "\n",
            "Ex. For Loop\n",
            "•phrase = \"Hello world!\"\n",
            "for letter in phrase:\n",
            "print \"the next letter is:\", letter\n",
            "will give the output\n",
            "the next letter is: H\n",
            "the next letter is: e\n",
            "the next letter is: l\n",
            "the next letter is: l\n",
            "the next letter is: o\n",
            "the next letter is:\n",
            "the next letter is: w\n",
            "the next letter is: o\n",
            "the next letter is: r\n",
            "the next letter is: l\n",
            "the next letter is: d\n",
            "the next letter is: !\n",
            "\n",
            "What Just Happened? \n",
            "•What Python did was that it went through the \n",
            "line one character at a time, treating the line \n",
            "like a sequence. \n",
            "•That means that the line can be split into its \n",
            "components (the characters).\n",
            "\n",
            "split()\n",
            "Want to work with units of a phrase that aren’t \n",
            "characters?\n",
            "Put something in the <sequence> position that \n",
            "isn’t just a string.\n",
            "The result is a list of all the items in the phrase \n",
            "that are separated by spaces.\n",
            "\n",
            "split()\n",
            "phrase = \"Hello beautiful world!\"\n",
            "for word in phrase.split ():\n",
            "print \"the next word is:\", word\n",
            "will give the output\n",
            "the next word is: Hello\n",
            "the next word is: beautiful\n",
            "the next word is: world!\n",
            "split()\n",
            "In fact, if you printed phrase.split () to see \n",
            "what it looked like, you’d get *'Hello', \n",
            "'beautiful', 'world!'], a list containing each \n",
            "“word”\n",
            "(You will learn about lists tomorrow )\n",
            "\n",
            "Accumulator Variables\n",
            "When you’re using a for loop, sometimes you \n",
            "want to keep a running total of numbers \n",
            "you’re calculating, or re -combine bits of a \n",
            "string.\n",
            "\n",
            "Accumulator Variables\n",
            "Steps:\n",
            "1. Define it for the first time before the for loop starts.\n",
            "2. Redefine it as itself plus some operation in the body of \n",
            "the for loop.\n",
            "total = 0\n",
            "for num in [1,2,4,10,20]:\n",
            "total = total + num\n",
            "print \"Total:\", total\n",
            "will give the output\n",
            "Total: 37\n",
            "\n",
            "Accumulator Variables\n",
            "What is the point of accumulator variables?\n",
            "-Counting.\n",
            "-keeping score (affects program does).\n",
            "-debugging.\n",
            "\n",
            "Conditional Statements\n",
            "Equals: ==\n",
            "Does not equal: != \n",
            "Try this:\n",
            "x = 1 \n",
            "If( x != 2)\n",
            "print “Artemis rocks”\n",
            "\n",
            "Pictures\n",
            "\n",
            "File Functions\n",
            "-pictures live within files.\n",
            "-You must get your program to go find and \n",
            "read a file that’s somewhere else on your \n",
            "computer.\n",
            "\n",
            "Steps: \n",
            "1.Store the “address” for the file you want as a \n",
            "variable\n",
            "2.Use functions to read, display, or modify the \n",
            "file at that location.\n",
            "File Functions\n",
            "myFile= pickAFile ()\n",
            "This function notes the ‘path name’ (as a string) of your \n",
            "file, i.e. the “address” of that file on your computer.\n",
            "It brings up the ‘file \n",
            "selector dialog’.File Functions\n",
            "File Functions\n",
            "If it is a picture, and you wish to treat it as such:\n",
            "myPic= makePicture (myFile)\n",
            "These functions will not make anything appear. \n",
            "So far, things are just stored in the computer’s \n",
            "memory, invisible to the user.\n",
            "After modifying your sound/picture you may \n",
            "want to save it as a new file, since ‘repainting’ \n",
            "a picture or ‘playing’ a sound will simply show \n",
            "you your work, not save it anywhere.\n",
            "Pictures\n",
            "\n",
            "Pictures\n",
            "How?\n",
            "UsewritePictureTo after you specify the path. \n",
            "Try this in the command area\n",
            "path =\"/Users/ Durrah/Documents/stuff/editedpic.jpg\"\n",
            "writePictureTo (pic,path )\n",
            "\n",
            "Pictures\n",
            "Try writing this simple function\n",
            "This shows a \n",
            "window \n",
            "containing \n",
            "the picture.\n",
            "Pictures\n",
            "-Find a small picture (use Google)\n",
            "-Save it in Documents.\n",
            "-Enter the following\n",
            "\n",
            "Pictures\n",
            "Your picture should appear\n",
            "\n",
            "Pictures\n",
            "Now enter explore( pic)\n",
            "Click anywhere in \n",
            "the picture that \n",
            "just popped up \n",
            "and you’ll see \n",
            "theX & Y \n",
            "coordinates of \n",
            "the pixel. \n",
            "Pictures\n",
            "This function is useful when you are trying to \n",
            "locate a certain pixel that you want to play \n",
            "with. It gives you the Red, Green and Blue\n",
            "values of that pixel. This is the stuff of which \n",
            "Photoshop is made !\n",
            "\n",
            "Pixel Functions\n",
            "So how do you make changes to your picture?\n",
            "-Target one pixel \n",
            "-Target all pixel\n",
            "\n",
            "Getting a Pixel\n",
            "getPixel takes three parameters, the picture \n",
            "to take the pixel info from, the x -value of the \n",
            "desired pixel, and the y -value of the pixel, in \n",
            "the formgetPixel (pic, x, y)\n",
            "Add this to your command area\n",
            "\n",
            "Pixel Functions\n",
            "aPixel= getPixel (pic, x, y) stores \n",
            "the color information of the pixel located at \n",
            "(5, 10) in the picture pic in the variable \n",
            "aPixel .\n",
            "But what if we want ALL the pixels?\n",
            "\n",
            "Get Those Pixels!\n",
            "getPixels (pic)\n",
            "\n",
            "PIXELIZATION!\n",
            "Now we want to change every single pixel… How \n",
            "will we ever do that?\n",
            "\n",
            "There are New \n",
            "Pixels in Town\n",
            "Don’t forget to indent!\n",
            "\n",
            "Your picture has not changed yet? That is \n",
            "because you haven’t applied the changes to it!\n",
            "Enter: \n",
            "repaint( pic)\n",
            "Pictures\n",
            "\n",
            "THE CHALLENGE\n",
            "Can you write a program (in the program area) \n",
            "that changes the color of the  picture the way \n",
            "we did?\n",
            "You have all the functions in your command \n",
            "area. \n",
            "I will give you the pseudocode and you have to \n",
            "code it however you see fit. \n",
            "\n",
            "Remember to start with def main(): and to \n",
            "indent everything to be inside it! \n",
            "The program should have 9 lines of code. I will \n",
            "show one line of code every TWO minutes\n",
            "Can you beat the PowerPoint?THE CHALLENGE\n",
            "\n",
            "Pictures\n",
            "Get the file\n",
            "Make it a picture\n",
            "Display it\n",
            "Explore it\n",
            "Get one pixel\n",
            "Change the color \n",
            "of the picture\n",
            "Apply the changes\n",
            "\n",
            "Negative\n",
            "When creating a negative, we  want the \n",
            "opposite of each of the current values for red, \n",
            "green, and blue. If we have a red component \n",
            "of 0, we want 255 instead, If we have 255, we \n",
            "want 0. \n",
            "In other words, we are getting |255 -current| for \n",
            "every pixel in the picture.\n",
            "Negative\n",
            "Def negative():\n",
            "file = pickAFile () \n",
            "pic= makePicture (file)\n",
            "for pxin getPixels (pic):\n",
            "red = getRed(px)\n",
            "green = getGreen (px)\n",
            "Blue = getBlue(px)\n",
            "negColor = makeColor (255-red, 255 -green, 255 -blue)\n",
            "setColor (px, negColor )\n",
            "repaint( pic)\n",
            "show(pic)\n",
            "\n",
            "\n",
            "Mirror, Mirror on the Wall\n",
            "•We can use Python to manipulate more than \n",
            "the colors of the picture. We can do this:\n",
            "\n",
            "#Starting with pseudocode\n",
            "mirrorVertical ():\n",
            "Get a picture\n",
            "Identify its middle.\n",
            "in every row \n",
            "replace each column with the at the same \n",
            "distance from the middle until you reach the \n",
            "middle\n",
            "apply changes \n",
            "show the pictureCode, Code on the Screen\n",
            "\n",
            "def mirrorVertical ():\n",
            "file = pickAFile () \n",
            "pic= makePicture (file)\n",
            "mirrorpoint = getWidth (pic)/2\n",
            "for y in range(1, getHeight (pic)):\n",
            "for xOffset in range(1, mirrorpoint ):\n",
            "pright= getPixel (pic, mirrorpoint+xOffset , y)\n",
            "pleft= getPixel (pic, mirrorpoint -xOffset,y )\n",
            "c = getColor (pleft)\n",
            "setColor (pright, c)\n",
            "repaint( pic)\n",
            "show(pic)Code, Code on the Screen\n",
            "\n",
            "Extra Challenge\n",
            "•As you can see, the right side mirrored the left \n",
            "side (and that’s why the creature has two \n",
            "heads).  \n",
            "•Can you change your code\n",
            "So it does the opposite?\n",
            "(i.e. let the left side mirror \n",
            "the right side)\n",
            "\n",
            "Reversed Mirroring\n",
            "•This is the result I got:\n",
            "\n",
            "Are the soldiers, clouds, big creature \n",
            "actually there?\n",
            "\n",
            "\n",
            "The Green Screen\n",
            "•Placing an object (foreground) in a \n",
            "background of our choice.\n",
            "\n",
            "The Green Screen\n",
            "•Tell the computer look at each pixel, and see if \n",
            "its red and blue values are less than its green \n",
            "value. \n",
            "•If (red+blue < green) then that pixel is likely to \n",
            "belong to the green screen. Now tell the \n",
            "computer to get the pixel at the same location \n",
            "from the background and paint it on the green \n",
            "screen.\n",
            "\n",
            "The Green Screen\n",
            "So in a way, you are actually placing the \n",
            "background on the foreground, not the other \n",
            "way around.\n",
            "Also, it could be a blue screen. (How will the \n",
            "code change?)\n",
            "\n",
            "The Green Screen Code\n",
            "•How do you think the code should look like?\n",
            "\n",
            "The Green Screen Effect\n",
            "You do not get perfect \n",
            "results all the time…\n",
            "\n",
            "Our Journey Ends Here\n",
            "But yours doesn’t need to! \n",
            "\n",
            "Want to learn more?\n",
            "Go to: \n",
            "wiki. python .org/ moin /BeginnersGuide\n",
            "This presentations was based on the CS101  Guide to Python and JES \n",
            "(http://www.cs.bu.edu/courses/cs101b1/jes )\n",
            "Questions?\n"
          ]
        }
      ]
    },
    {
      "cell_type": "markdown",
      "source": [
        "***2a. Collecting data from WORD Files.***"
      ],
      "metadata": {
        "id": "UsUQmyHJ89FY"
      }
    },
    {
      "cell_type": "code",
      "source": [
        "!pip install python-docx\n",
        "from docx import Document"
      ],
      "metadata": {
        "colab": {
          "base_uri": "https://localhost:8080/"
        },
        "id": "UTXoT1K088Bb",
        "outputId": "b2d30525-e0ef-448b-bbb3-1f4bb4f0e89b"
      },
      "execution_count": null,
      "outputs": [
        {
          "output_type": "stream",
          "name": "stdout",
          "text": [
            "Collecting python-docx\n",
            "  Downloading python_docx-1.1.2-py3-none-any.whl.metadata (2.0 kB)\n",
            "Requirement already satisfied: lxml>=3.1.0 in /usr/local/lib/python3.10/dist-packages (from python-docx) (5.3.0)\n",
            "Requirement already satisfied: typing-extensions>=4.9.0 in /usr/local/lib/python3.10/dist-packages (from python-docx) (4.12.2)\n",
            "Downloading python_docx-1.1.2-py3-none-any.whl (244 kB)\n",
            "\u001b[?25l   \u001b[90m━━━━━━━━━━━━━━━━━━━━━━━━━━━━━━━━━━━━━━━━\u001b[0m \u001b[32m0.0/244.3 kB\u001b[0m \u001b[31m?\u001b[0m eta \u001b[36m-:--:--\u001b[0m\r\u001b[2K   \u001b[91m━━━━━━━━━━━━━━━━━━━━━━━━━━━━━━━━━\u001b[0m\u001b[91m╸\u001b[0m\u001b[90m━━━━━━\u001b[0m \u001b[32m204.8/244.3 kB\u001b[0m \u001b[31m6.5 MB/s\u001b[0m eta \u001b[36m0:00:01\u001b[0m\r\u001b[2K   \u001b[90m━━━━━━━━━━━━━━━━━━━━━━━━━━━━━━━━━━━━━━━━\u001b[0m \u001b[32m244.3/244.3 kB\u001b[0m \u001b[31m4.3 MB/s\u001b[0m eta \u001b[36m0:00:00\u001b[0m\n",
            "\u001b[?25hInstalling collected packages: python-docx\n",
            "Successfully installed python-docx-1.1.2\n"
          ]
        }
      ]
    },
    {
      "cell_type": "code",
      "source": [
        "doc_path = \"/content/sample_data/kaur.docx\"\n",
        "document = Document(doc_path)\n",
        "doc=\"\"\n",
        "for para in document.paragraphs:\n",
        "  doc+=para.text\n",
        "print(doc)\n"
      ],
      "metadata": {
        "colab": {
          "base_uri": "https://localhost:8080/"
        },
        "id": "IG99J0rm9W7a",
        "outputId": "802de476-8fda-45f3-8c7a-ddf5f58af9d2"
      },
      "execution_count": null,
      "outputs": [
        {
          "output_type": "stream",
          "name": "stdout",
          "text": [
            "DATABASE DESIGNTable Name: LOGIN Description - To store the customer DetailsTable Name: Admin Description- To store the admin DetailsTable Name: booking Description- To store the booking DetailsTable name: country detailsDescription- To store country detailsE-R Diagram\t2nd level data flow diagram2nd level Dfd for Admin:\tVerification\tUser name, pwd\t                                                                                                              \t0 Level Data flow diagram                                 Search Packages                                                      Add Packages\tBooking                                                           Booking details\tHotel reg                                                        Customer details                                                                                                                                                                  SECOND SYNOPSIS ON TRAVEL & TOURISM Submitted in partial fulfillment of the requirement for the award of the degree ofBACHELOR IN COMPUTER APPLICATIONSDEPARTMENT OF COMPUTER SCIENCESAROOP RANI GOVERNMENT COLLEGE FOR WOMENAMRITSARSUPERVISED BY: \t\t\t\t\t\t\t\tSUBMITTED BY :NAME OF THE GUIDE-\tMANCYMR. PANKAJ MISHRA\t10722010138NAME OF SUPERVISOR-MS.ANJALI MAMGURU NANAK DEV UNIVERSITY, AMRITSAR\n"
          ]
        }
      ]
    },
    {
      "cell_type": "markdown",
      "source": [
        "***2b***. ***Extracting data from JSON File***"
      ],
      "metadata": {
        "id": "6XUMLCzpBiwb"
      }
    },
    {
      "cell_type": "code",
      "source": [
        "import requests\n",
        "import json"
      ],
      "metadata": {
        "id": "S1Og4yffBkJP"
      },
      "execution_count": null,
      "outputs": []
    },
    {
      "cell_type": "code",
      "source": [
        "with open(\"/content/sample_data/anscombe.json\",'r')as file:\n",
        "  content = file.read()\n",
        "  print(content)"
      ],
      "metadata": {
        "colab": {
          "base_uri": "https://localhost:8080/"
        },
        "id": "stJ56nwlBq1b",
        "outputId": "aa6cf52e-8a7c-4a6e-b2ab-227b5b7ad4f5"
      },
      "execution_count": null,
      "outputs": [
        {
          "output_type": "stream",
          "name": "stdout",
          "text": [
            "[\n",
            "  {\"Series\":\"I\", \"X\":10.0, \"Y\":8.04},\n",
            "  {\"Series\":\"I\", \"X\":8.0, \"Y\":6.95},\n",
            "  {\"Series\":\"I\", \"X\":13.0, \"Y\":7.58},\n",
            "  {\"Series\":\"I\", \"X\":9.0, \"Y\":8.81},\n",
            "  {\"Series\":\"I\", \"X\":11.0, \"Y\":8.33},\n",
            "  {\"Series\":\"I\", \"X\":14.0, \"Y\":9.96},\n",
            "  {\"Series\":\"I\", \"X\":6.0, \"Y\":7.24},\n",
            "  {\"Series\":\"I\", \"X\":4.0, \"Y\":4.26},\n",
            "  {\"Series\":\"I\", \"X\":12.0, \"Y\":10.84},\n",
            "  {\"Series\":\"I\", \"X\":7.0, \"Y\":4.81},\n",
            "  {\"Series\":\"I\", \"X\":5.0, \"Y\":5.68},\n",
            "\n",
            "  {\"Series\":\"II\", \"X\":10.0, \"Y\":9.14},\n",
            "  {\"Series\":\"II\", \"X\":8.0, \"Y\":8.14},\n",
            "  {\"Series\":\"II\", \"X\":13.0, \"Y\":8.74},\n",
            "  {\"Series\":\"II\", \"X\":9.0, \"Y\":8.77},\n",
            "  {\"Series\":\"II\", \"X\":11.0, \"Y\":9.26},\n",
            "  {\"Series\":\"II\", \"X\":14.0, \"Y\":8.10},\n",
            "  {\"Series\":\"II\", \"X\":6.0, \"Y\":6.13},\n",
            "  {\"Series\":\"II\", \"X\":4.0, \"Y\":3.10},\n",
            "  {\"Series\":\"II\", \"X\":12.0, \"Y\":9.13},\n",
            "  {\"Series\":\"II\", \"X\":7.0, \"Y\":7.26},\n",
            "  {\"Series\":\"II\", \"X\":5.0, \"Y\":4.74},\n",
            "\n",
            "  {\"Series\":\"III\", \"X\":10.0, \"Y\":7.46},\n",
            "  {\"Series\":\"III\", \"X\":8.0, \"Y\":6.77},\n",
            "  {\"Series\":\"III\", \"X\":13.0, \"Y\":12.74},\n",
            "  {\"Series\":\"III\", \"X\":9.0, \"Y\":7.11},\n",
            "  {\"Series\":\"III\", \"X\":11.0, \"Y\":7.81},\n",
            "  {\"Series\":\"III\", \"X\":14.0, \"Y\":8.84},\n",
            "  {\"Series\":\"III\", \"X\":6.0, \"Y\":6.08},\n",
            "  {\"Series\":\"III\", \"X\":4.0, \"Y\":5.39},\n",
            "  {\"Series\":\"III\", \"X\":12.0, \"Y\":8.15},\n",
            "  {\"Series\":\"III\", \"X\":7.0, \"Y\":6.42},\n",
            "  {\"Series\":\"III\", \"X\":5.0, \"Y\":5.73},\n",
            "\n",
            "  {\"Series\":\"IV\", \"X\":8.0, \"Y\":6.58},\n",
            "  {\"Series\":\"IV\", \"X\":8.0, \"Y\":5.76},\n",
            "  {\"Series\":\"IV\", \"X\":8.0, \"Y\":7.71},\n",
            "  {\"Series\":\"IV\", \"X\":8.0, \"Y\":8.84},\n",
            "  {\"Series\":\"IV\", \"X\":8.0, \"Y\":8.47},\n",
            "  {\"Series\":\"IV\", \"X\":8.0, \"Y\":7.04},\n",
            "  {\"Series\":\"IV\", \"X\":8.0, \"Y\":5.25},\n",
            "  {\"Series\":\"IV\", \"X\":19.0, \"Y\":12.50},\n",
            "  {\"Series\":\"IV\", \"X\":8.0, \"Y\":5.56},\n",
            "  {\"Series\":\"IV\", \"X\":8.0, \"Y\":7.91},\n",
            "  {\"Series\":\"IV\", \"X\":8.0, \"Y\":6.89}\n",
            "]\n",
            "\n"
          ]
        }
      ]
    },
    {
      "cell_type": "code",
      "source": [
        "with open(\"/content/sample_data/anscombe.json\",'r')as file:\n",
        "  data = json.load(file)\n",
        "  print(data)"
      ],
      "metadata": {
        "colab": {
          "base_uri": "https://localhost:8080/"
        },
        "id": "bjk6MROHB7Dc",
        "outputId": "5eafdd18-a6d4-4469-fab9-238150a991b2"
      },
      "execution_count": null,
      "outputs": [
        {
          "output_type": "stream",
          "name": "stdout",
          "text": [
            "[{'Series': 'I', 'X': 10.0, 'Y': 8.04}, {'Series': 'I', 'X': 8.0, 'Y': 6.95}, {'Series': 'I', 'X': 13.0, 'Y': 7.58}, {'Series': 'I', 'X': 9.0, 'Y': 8.81}, {'Series': 'I', 'X': 11.0, 'Y': 8.33}, {'Series': 'I', 'X': 14.0, 'Y': 9.96}, {'Series': 'I', 'X': 6.0, 'Y': 7.24}, {'Series': 'I', 'X': 4.0, 'Y': 4.26}, {'Series': 'I', 'X': 12.0, 'Y': 10.84}, {'Series': 'I', 'X': 7.0, 'Y': 4.81}, {'Series': 'I', 'X': 5.0, 'Y': 5.68}, {'Series': 'II', 'X': 10.0, 'Y': 9.14}, {'Series': 'II', 'X': 8.0, 'Y': 8.14}, {'Series': 'II', 'X': 13.0, 'Y': 8.74}, {'Series': 'II', 'X': 9.0, 'Y': 8.77}, {'Series': 'II', 'X': 11.0, 'Y': 9.26}, {'Series': 'II', 'X': 14.0, 'Y': 8.1}, {'Series': 'II', 'X': 6.0, 'Y': 6.13}, {'Series': 'II', 'X': 4.0, 'Y': 3.1}, {'Series': 'II', 'X': 12.0, 'Y': 9.13}, {'Series': 'II', 'X': 7.0, 'Y': 7.26}, {'Series': 'II', 'X': 5.0, 'Y': 4.74}, {'Series': 'III', 'X': 10.0, 'Y': 7.46}, {'Series': 'III', 'X': 8.0, 'Y': 6.77}, {'Series': 'III', 'X': 13.0, 'Y': 12.74}, {'Series': 'III', 'X': 9.0, 'Y': 7.11}, {'Series': 'III', 'X': 11.0, 'Y': 7.81}, {'Series': 'III', 'X': 14.0, 'Y': 8.84}, {'Series': 'III', 'X': 6.0, 'Y': 6.08}, {'Series': 'III', 'X': 4.0, 'Y': 5.39}, {'Series': 'III', 'X': 12.0, 'Y': 8.15}, {'Series': 'III', 'X': 7.0, 'Y': 6.42}, {'Series': 'III', 'X': 5.0, 'Y': 5.73}, {'Series': 'IV', 'X': 8.0, 'Y': 6.58}, {'Series': 'IV', 'X': 8.0, 'Y': 5.76}, {'Series': 'IV', 'X': 8.0, 'Y': 7.71}, {'Series': 'IV', 'X': 8.0, 'Y': 8.84}, {'Series': 'IV', 'X': 8.0, 'Y': 8.47}, {'Series': 'IV', 'X': 8.0, 'Y': 7.04}, {'Series': 'IV', 'X': 8.0, 'Y': 5.25}, {'Series': 'IV', 'X': 19.0, 'Y': 12.5}, {'Series': 'IV', 'X': 8.0, 'Y': 5.56}, {'Series': 'IV', 'X': 8.0, 'Y': 7.91}, {'Series': 'IV', 'X': 8.0, 'Y': 6.89}]\n"
          ]
        }
      ]
    },
    {
      "cell_type": "markdown",
      "source": [
        "***3.Exploring and processing Text Data***"
      ],
      "metadata": {
        "id": "GArtxf9nCUs1"
      }
    },
    {
      "cell_type": "code",
      "source": [
        "text = ['This is introduction of Nlp',\n",
        "        'It is likely to be useful,to people',\n",
        "        'machine learning is the new electricity',\n",
        "        'There would be less hype around Ai and more action going forword',\n",
        "        'python is the Best tool!','r is a Good language',\n",
        "        'i like this book','I want more book like this']\n",
        "\n",
        "#Convert list to data frame\n",
        "import pandas as pd\n",
        "df = pd.DataFrame({'tweet':text})\n",
        "print(df)"
      ],
      "metadata": {
        "colab": {
          "base_uri": "https://localhost:8080/"
        },
        "id": "Po9No6P2CVeQ",
        "outputId": "f136e7b5-df1b-4043-8b98-a745bf273c58"
      },
      "execution_count": null,
      "outputs": [
        {
          "output_type": "stream",
          "name": "stdout",
          "text": [
            "                                               tweet\n",
            "0                        This is introduction of Nlp\n",
            "1                It is likely to be useful,to people\n",
            "2            machine learning is the new electricity\n",
            "3  There would be less hype around Ai and more ac...\n",
            "4                           python is the Best tool!\n",
            "5                               r is a Good language\n",
            "6                                   i like this book\n",
            "7                         I want more book like this\n"
          ]
        }
      ]
    },
    {
      "cell_type": "markdown",
      "source": [
        "***a. Converting text into Lowercase letters***\n",
        "\n"
      ],
      "metadata": {
        "id": "5N9va9BSGvJX"
      }
    },
    {
      "cell_type": "code",
      "source": [
        "X = 'Testing'\n",
        "x2 = X.lower()\n",
        "print(x2)"
      ],
      "metadata": {
        "colab": {
          "base_uri": "https://localhost:8080/"
        },
        "id": "bTNqe24YGxdL",
        "outputId": "6087aac8-e57f-4ceb-fe47-5f90e0dcfc0f"
      },
      "execution_count": null,
      "outputs": [
        {
          "output_type": "stream",
          "name": "stdout",
          "text": [
            "testing\n"
          ]
        }
      ]
    },
    {
      "cell_type": "code",
      "source": [
        "df['tweet'] = df['tweet'].apply(lambda x: \" \".join(x.lower() for x in x.split()))\n",
        "df['tweet'].head()\n"
      ],
      "metadata": {
        "colab": {
          "base_uri": "https://localhost:8080/",
          "height": 241
        },
        "id": "oh5UBgvgHBBx",
        "outputId": "43aa20d6-1095-4919-85e6-6f8b73d098ae"
      },
      "execution_count": null,
      "outputs": [
        {
          "output_type": "execute_result",
          "data": {
            "text/plain": [
              "0                          this is introduction of nlp\n",
              "1                  it is likely to be useful,to people\n",
              "2              machine learning is the new electricity\n",
              "3    there would be less hype around ai and more ac...\n",
              "4                             python is the best tool!\n",
              "Name: tweet, dtype: object"
            ],
            "text/html": [
              "<div>\n",
              "<style scoped>\n",
              "    .dataframe tbody tr th:only-of-type {\n",
              "        vertical-align: middle;\n",
              "    }\n",
              "\n",
              "    .dataframe tbody tr th {\n",
              "        vertical-align: top;\n",
              "    }\n",
              "\n",
              "    .dataframe thead th {\n",
              "        text-align: right;\n",
              "    }\n",
              "</style>\n",
              "<table border=\"1\" class=\"dataframe\">\n",
              "  <thead>\n",
              "    <tr style=\"text-align: right;\">\n",
              "      <th></th>\n",
              "      <th>tweet</th>\n",
              "    </tr>\n",
              "  </thead>\n",
              "  <tbody>\n",
              "    <tr>\n",
              "      <th>0</th>\n",
              "      <td>this is introduction of nlp</td>\n",
              "    </tr>\n",
              "    <tr>\n",
              "      <th>1</th>\n",
              "      <td>it is likely to be useful,to people</td>\n",
              "    </tr>\n",
              "    <tr>\n",
              "      <th>2</th>\n",
              "      <td>machine learning is the new electricity</td>\n",
              "    </tr>\n",
              "    <tr>\n",
              "      <th>3</th>\n",
              "      <td>there would be less hype around ai and more ac...</td>\n",
              "    </tr>\n",
              "    <tr>\n",
              "      <th>4</th>\n",
              "      <td>python is the best tool!</td>\n",
              "    </tr>\n",
              "  </tbody>\n",
              "</table>\n",
              "</div><br><label><b>dtype:</b> object</label>"
            ]
          },
          "metadata": {},
          "execution_count": 8
        }
      ]
    },
    {
      "cell_type": "markdown",
      "source": [
        "***b. Removing Punctuation Marks from text.***"
      ],
      "metadata": {
        "id": "48oZvULuIFcN"
      }
    },
    {
      "cell_type": "code",
      "source": [
        "text = ['This is introduction of Nlp.',\n",
        "        'It is likely to be useful,to people.',\n",
        "        'machine learning is the new electricity.',\n",
        "        'There would be less hype around Ai and more action going forword.',\n",
        "        'python is the Best tool!','r is a Good language.',\n",
        "        'i like this book.','I want more book like this.']\n",
        "\n",
        "#Convert list to data frame\n",
        "df = pd.DataFrame({'tweet':text})\n",
        "print(df)\n",
        "import re\n",
        "for i in range(len(df)):\n",
        "      s1 = re.sub(r'[^\\w\\s]','',str(df['tweet'][i]))\n",
        "      print(s1)"
      ],
      "metadata": {
        "colab": {
          "base_uri": "https://localhost:8080/"
        },
        "id": "qY5-P38FIGDV",
        "outputId": "0fede59c-473d-4d6d-ebc8-3035bc924ff7"
      },
      "execution_count": null,
      "outputs": [
        {
          "output_type": "stream",
          "name": "stdout",
          "text": [
            "                                               tweet\n",
            "0                       This is introduction of Nlp.\n",
            "1               It is likely to be useful,to people.\n",
            "2           machine learning is the new electricity.\n",
            "3  There would be less hype around Ai and more ac...\n",
            "4                           python is the Best tool!\n",
            "5                              r is a Good language.\n",
            "6                                  i like this book.\n",
            "7                        I want more book like this.\n",
            "This is introduction of Nlp\n",
            "It is likely to be usefulto people\n",
            "machine learning is the new electricity\n",
            "There would be less hype around Ai and more action going forword\n",
            "python is the Best tool\n",
            "r is a Good language\n",
            "i like this book\n",
            "I want more book like this\n"
          ]
        }
      ]
    },
    {
      "cell_type": "markdown",
      "source": [
        "***4a***. ***Tokenization of Text***"
      ],
      "metadata": {
        "id": "KFwilhJoKHUy"
      }
    },
    {
      "cell_type": "code",
      "source": [
        "text = ['This is introduction of Nlp.',\n",
        "        'It is likely to be useful,to people.',\n",
        "        'machine learning is the new electricity.',\n",
        "        'There would be less hype around Ai and more action going forword.',\n",
        "        'python is the Best tool!','r is a Good language.',\n",
        "        'i like this book.','I want more book like this.']\n",
        "import pandas as pd\n",
        "df = pd.DataFrame({'tweet':text})\n",
        "print(df)\n",
        "import nltk\n",
        "nltk.download('punkt')\n",
        "\n"
      ],
      "metadata": {
        "colab": {
          "base_uri": "https://localhost:8080/"
        },
        "id": "eRBEXkStKIZ9",
        "outputId": "ea77f54b-2cf2-4854-eb36-c228a9a5c731"
      },
      "execution_count": null,
      "outputs": [
        {
          "output_type": "stream",
          "name": "stdout",
          "text": [
            "                                               tweet\n",
            "0                       This is introduction of Nlp.\n",
            "1               It is likely to be useful,to people.\n",
            "2           machine learning is the new electricity.\n",
            "3  There would be less hype around Ai and more ac...\n",
            "4                           python is the Best tool!\n",
            "5                              r is a Good language.\n",
            "6                                  i like this book.\n",
            "7                        I want more book like this.\n"
          ]
        },
        {
          "output_type": "stream",
          "name": "stderr",
          "text": [
            "[nltk_data] Downloading package punkt to /root/nltk_data...\n",
            "[nltk_data]   Unzipping tokenizers/punkt.zip.\n"
          ]
        },
        {
          "output_type": "execute_result",
          "data": {
            "text/plain": [
              "True"
            ]
          },
          "metadata": {},
          "execution_count": 11
        }
      ]
    },
    {
      "cell_type": "code",
      "source": [
        "from textblob import TextBlob\n",
        "text_to_analyze = str(df['tweet'][3])\n",
        "TextBlob(text_to_analyze).words"
      ],
      "metadata": {
        "colab": {
          "base_uri": "https://localhost:8080/"
        },
        "id": "yP6yCSUqLc56",
        "outputId": "3719abf4-5cc7-4fcb-8cf3-46bf22c5d26f"
      },
      "execution_count": null,
      "outputs": [
        {
          "output_type": "execute_result",
          "data": {
            "text/plain": [
              "WordList(['There', 'would', 'be', 'less', 'hype', 'around', 'Ai', 'and', 'more', 'action', 'going', 'forword'])"
            ]
          },
          "metadata": {},
          "execution_count": 12
        }
      ]
    },
    {
      "cell_type": "code",
      "source": [
        "import nltk\n",
        "mystring = \"My favorite color is blue\"\n",
        "nltk.word_tokenize(mystring)"
      ],
      "metadata": {
        "colab": {
          "base_uri": "https://localhost:8080/"
        },
        "id": "hwhvzjwCMQcY",
        "outputId": "856550ec-7abe-4d22-a1d0-c60591ae5775"
      },
      "execution_count": null,
      "outputs": [
        {
          "output_type": "execute_result",
          "data": {
            "text/plain": [
              "['My', 'favorite', 'color', 'is', 'blue']"
            ]
          },
          "metadata": {},
          "execution_count": 13
        }
      ]
    },
    {
      "cell_type": "code",
      "source": [
        "mystring.split()"
      ],
      "metadata": {
        "colab": {
          "base_uri": "https://localhost:8080/"
        },
        "id": "s4l4BLWmMyRo",
        "outputId": "bd4e8af5-5eaf-46ae-88a1-d00ce674faf5"
      },
      "execution_count": null,
      "outputs": [
        {
          "output_type": "execute_result",
          "data": {
            "text/plain": [
              "['My', 'favorite', 'color', 'is', 'blue']"
            ]
          },
          "metadata": {},
          "execution_count": 14
        }
      ]
    },
    {
      "cell_type": "markdown",
      "source": [
        "***b***. ***Remove StopWords from text***"
      ],
      "metadata": {
        "id": "3hfKMkPWJtBd"
      }
    },
    {
      "cell_type": "code",
      "source": [
        "import pandas as pd\n",
        "df = pd.DataFrame({'tweet':text})\n",
        "print(df)\n",
        "!pip install nltk\n",
        "import nltk\n",
        "nltk.download('stopwords')\n",
        "from nltk.corpus import stopwords\n",
        "stop = stopwords.words('english')\n",
        "df['tweet'] = df['tweet'].apply(lambda x: \" \".join(x for x in x.split() if x not in stop))\n",
        "df['tweet']"
      ],
      "metadata": {
        "colab": {
          "base_uri": "https://localhost:8080/",
          "height": 647
        },
        "id": "epht5dYVJqLj",
        "outputId": "66cfe783-34fc-44e4-8f62-4879aa7d483b"
      },
      "execution_count": null,
      "outputs": [
        {
          "output_type": "stream",
          "name": "stdout",
          "text": [
            "                                               tweet\n",
            "0                       This is introduction of Nlp.\n",
            "1               It is likely to be useful,to people.\n",
            "2           machine learning is the new electricity.\n",
            "3  There would be less hype around Ai and more ac...\n",
            "4                           python is the Best tool!\n",
            "5                              r is a Good language.\n",
            "6                                  i like this book.\n",
            "7                        I want more book like this.\n",
            "Requirement already satisfied: nltk in /usr/local/lib/python3.10/dist-packages (3.8.1)\n",
            "Requirement already satisfied: click in /usr/local/lib/python3.10/dist-packages (from nltk) (8.1.7)\n",
            "Requirement already satisfied: joblib in /usr/local/lib/python3.10/dist-packages (from nltk) (1.4.2)\n",
            "Requirement already satisfied: regex>=2021.8.3 in /usr/local/lib/python3.10/dist-packages (from nltk) (2024.9.11)\n",
            "Requirement already satisfied: tqdm in /usr/local/lib/python3.10/dist-packages (from nltk) (4.66.6)\n"
          ]
        },
        {
          "output_type": "stream",
          "name": "stderr",
          "text": [
            "[nltk_data] Downloading package stopwords to /root/nltk_data...\n",
            "[nltk_data]   Unzipping corpora/stopwords.zip.\n"
          ]
        },
        {
          "output_type": "execute_result",
          "data": {
            "text/plain": [
              "0                               This introduction Nlp.\n",
              "1                          It likely useful,to people.\n",
              "2                    machine learning new electricity.\n",
              "3    There would less hype around Ai action going f...\n",
              "4                                    python Best tool!\n",
              "5                                     r Good language.\n",
              "6                                           like book.\n",
              "7                               I want book like this.\n",
              "Name: tweet, dtype: object"
            ],
            "text/html": [
              "<div>\n",
              "<style scoped>\n",
              "    .dataframe tbody tr th:only-of-type {\n",
              "        vertical-align: middle;\n",
              "    }\n",
              "\n",
              "    .dataframe tbody tr th {\n",
              "        vertical-align: top;\n",
              "    }\n",
              "\n",
              "    .dataframe thead th {\n",
              "        text-align: right;\n",
              "    }\n",
              "</style>\n",
              "<table border=\"1\" class=\"dataframe\">\n",
              "  <thead>\n",
              "    <tr style=\"text-align: right;\">\n",
              "      <th></th>\n",
              "      <th>tweet</th>\n",
              "    </tr>\n",
              "  </thead>\n",
              "  <tbody>\n",
              "    <tr>\n",
              "      <th>0</th>\n",
              "      <td>This introduction Nlp.</td>\n",
              "    </tr>\n",
              "    <tr>\n",
              "      <th>1</th>\n",
              "      <td>It likely useful,to people.</td>\n",
              "    </tr>\n",
              "    <tr>\n",
              "      <th>2</th>\n",
              "      <td>machine learning new electricity.</td>\n",
              "    </tr>\n",
              "    <tr>\n",
              "      <th>3</th>\n",
              "      <td>There would less hype around Ai action going f...</td>\n",
              "    </tr>\n",
              "    <tr>\n",
              "      <th>4</th>\n",
              "      <td>python Best tool!</td>\n",
              "    </tr>\n",
              "    <tr>\n",
              "      <th>5</th>\n",
              "      <td>r Good language.</td>\n",
              "    </tr>\n",
              "    <tr>\n",
              "      <th>6</th>\n",
              "      <td>like book.</td>\n",
              "    </tr>\n",
              "    <tr>\n",
              "      <th>7</th>\n",
              "      <td>I want book like this.</td>\n",
              "    </tr>\n",
              "  </tbody>\n",
              "</table>\n",
              "</div><br><label><b>dtype:</b> object</label>"
            ]
          },
          "metadata": {},
          "execution_count": 15
        }
      ]
    },
    {
      "cell_type": "markdown",
      "source": [
        "***5a***. ***Stemming***"
      ],
      "metadata": {
        "id": "ax8sg-tWN5Xy"
      }
    },
    {
      "cell_type": "code",
      "source": [
        "text=['I like fishing','I eat food','There are many books on AI']\n",
        "import pandas as pd\n",
        "df = pd.DataFrame({'tweet':text})\n",
        "print(df)"
      ],
      "metadata": {
        "id": "ndF-25aRN8Is",
        "colab": {
          "base_uri": "https://localhost:8080/"
        },
        "outputId": "abce71ca-7d39-47c0-d0af-fa29dc89e3dc"
      },
      "execution_count": null,
      "outputs": [
        {
          "output_type": "stream",
          "name": "stdout",
          "text": [
            "                        tweet\n",
            "0              I like fishing\n",
            "1                  I eat food\n",
            "2  There are many books on AI\n"
          ]
        }
      ]
    },
    {
      "cell_type": "code",
      "source": [
        "from nltk.stem import PorterStemmer\n",
        "st = PorterStemmer()\n",
        "df['tweet'][:5].apply(lambda x: \" \".join([st.stem(word) for word in x.split()]))"
      ],
      "metadata": {
        "colab": {
          "base_uri": "https://localhost:8080/",
          "height": 178
        },
        "id": "teGWBwGP6W9q",
        "outputId": "f580fe95-1cf5-4505-d883-1e39bacee2c3"
      },
      "execution_count": null,
      "outputs": [
        {
          "output_type": "execute_result",
          "data": {
            "text/plain": [
              "0                  i like fish\n",
              "1                   i eat food\n",
              "2    there are mani book on ai\n",
              "Name: tweet, dtype: object"
            ],
            "text/html": [
              "<div>\n",
              "<style scoped>\n",
              "    .dataframe tbody tr th:only-of-type {\n",
              "        vertical-align: middle;\n",
              "    }\n",
              "\n",
              "    .dataframe tbody tr th {\n",
              "        vertical-align: top;\n",
              "    }\n",
              "\n",
              "    .dataframe thead th {\n",
              "        text-align: right;\n",
              "    }\n",
              "</style>\n",
              "<table border=\"1\" class=\"dataframe\">\n",
              "  <thead>\n",
              "    <tr style=\"text-align: right;\">\n",
              "      <th></th>\n",
              "      <th>tweet</th>\n",
              "    </tr>\n",
              "  </thead>\n",
              "  <tbody>\n",
              "    <tr>\n",
              "      <th>0</th>\n",
              "      <td>i like fish</td>\n",
              "    </tr>\n",
              "    <tr>\n",
              "      <th>1</th>\n",
              "      <td>i eat food</td>\n",
              "    </tr>\n",
              "    <tr>\n",
              "      <th>2</th>\n",
              "      <td>there are mani book on ai</td>\n",
              "    </tr>\n",
              "  </tbody>\n",
              "</table>\n",
              "</div><br><label><b>dtype:</b> object</label>"
            ]
          },
          "metadata": {},
          "execution_count": 2
        }
      ]
    },
    {
      "cell_type": "markdown",
      "source": [
        "***5b.Lemmatizing***"
      ],
      "metadata": {
        "id": "i2ZMkUR47HXp"
      }
    },
    {
      "cell_type": "code",
      "source": [
        "text=['I like fishing','I eat food','There are many books on AI']\n",
        "import pandas as pd\n",
        "df = pd.DataFrame({'tweet':text})\n",
        "print(df)"
      ],
      "metadata": {
        "colab": {
          "base_uri": "https://localhost:8080/"
        },
        "id": "701QsJ4b7X2-",
        "outputId": "295645c8-6abc-4c69-9f8a-e65e2dc9fc6e"
      },
      "execution_count": null,
      "outputs": [
        {
          "output_type": "stream",
          "name": "stdout",
          "text": [
            "                        tweet\n",
            "0              I like fishing\n",
            "1                  I eat food\n",
            "2  There are many books on AI\n"
          ]
        }
      ]
    },
    {
      "cell_type": "code",
      "source": [
        "!pip install textblob\n",
        "import nltk\n",
        "nltk.download('wordnet')\n",
        "from textblob import Word\n",
        "import pandas as pd\n"
      ],
      "metadata": {
        "colab": {
          "base_uri": "https://localhost:8080/"
        },
        "id": "Wo3APjWe8fPW",
        "outputId": "ba4f77b5-a4a3-4f2a-bdb1-a417e7cdf8a8"
      },
      "execution_count": null,
      "outputs": [
        {
          "output_type": "stream",
          "name": "stdout",
          "text": [
            "Requirement already satisfied: textblob in /usr/local/lib/python3.10/dist-packages (0.17.1)\n",
            "Requirement already satisfied: nltk>=3.1 in /usr/local/lib/python3.10/dist-packages (from textblob) (3.8.1)\n",
            "Requirement already satisfied: click in /usr/local/lib/python3.10/dist-packages (from nltk>=3.1->textblob) (8.1.7)\n",
            "Requirement already satisfied: joblib in /usr/local/lib/python3.10/dist-packages (from nltk>=3.1->textblob) (1.4.2)\n",
            "Requirement already satisfied: regex>=2021.8.3 in /usr/local/lib/python3.10/dist-packages (from nltk>=3.1->textblob) (2024.9.11)\n",
            "Requirement already satisfied: tqdm in /usr/local/lib/python3.10/dist-packages (from nltk>=3.1->textblob) (4.66.6)\n"
          ]
        },
        {
          "output_type": "stream",
          "name": "stderr",
          "text": [
            "[nltk_data] Downloading package wordnet to /root/nltk_data...\n"
          ]
        }
      ]
    },
    {
      "cell_type": "code",
      "source": [
        "text=['I like fishing','I eat food','There are many books on AI']\n",
        "df = pd.DataFrame({'tweet':text})\n",
        "df['tweet'] = df['tweet'].apply(lambda x: \" \".join([Word(word).lemmatize() for word in x.split()]))\n",
        "df['tweet']"
      ],
      "metadata": {
        "colab": {
          "base_uri": "https://localhost:8080/",
          "height": 178
        },
        "id": "wg9D1xCA9cu2",
        "outputId": "78f01f73-5fb0-46c8-f37a-46e66b2657dc"
      },
      "execution_count": null,
      "outputs": [
        {
          "output_type": "execute_result",
          "data": {
            "text/plain": [
              "0               I like fishing\n",
              "1                   I eat food\n",
              "2    There are many book on AI\n",
              "Name: tweet, dtype: object"
            ],
            "text/html": [
              "<div>\n",
              "<style scoped>\n",
              "    .dataframe tbody tr th:only-of-type {\n",
              "        vertical-align: middle;\n",
              "    }\n",
              "\n",
              "    .dataframe tbody tr th {\n",
              "        vertical-align: top;\n",
              "    }\n",
              "\n",
              "    .dataframe thead th {\n",
              "        text-align: right;\n",
              "    }\n",
              "</style>\n",
              "<table border=\"1\" class=\"dataframe\">\n",
              "  <thead>\n",
              "    <tr style=\"text-align: right;\">\n",
              "      <th></th>\n",
              "      <th>tweet</th>\n",
              "    </tr>\n",
              "  </thead>\n",
              "  <tbody>\n",
              "    <tr>\n",
              "      <th>0</th>\n",
              "      <td>I like fishing</td>\n",
              "    </tr>\n",
              "    <tr>\n",
              "      <th>1</th>\n",
              "      <td>I eat food</td>\n",
              "    </tr>\n",
              "    <tr>\n",
              "      <th>2</th>\n",
              "      <td>There are many book on AI</td>\n",
              "    </tr>\n",
              "  </tbody>\n",
              "</table>\n",
              "</div><br><label><b>dtype:</b> object</label>"
            ]
          },
          "metadata": {},
          "execution_count": 6
        }
      ]
    },
    {
      "cell_type": "markdown",
      "source": [
        "***6. Exploring text data: Check number of words in the data.***"
      ],
      "metadata": {
        "id": "XXC0aMR__De-"
      }
    },
    {
      "cell_type": "code",
      "source": [
        "import nltk\n",
        "from nltk.corpus import webtext\n",
        "nltk.download('punkt')\n",
        "nltk.download('webtext')\n",
        "wt_sentences = webtext.sents('firefox.txt')\n",
        "wt_words = webtext.words('firefox.txt')"
      ],
      "metadata": {
        "colab": {
          "base_uri": "https://localhost:8080/"
        },
        "id": "uG-AHZkQ_Evj",
        "outputId": "0703050d-76cf-421d-abf5-54d156493182"
      },
      "execution_count": null,
      "outputs": [
        {
          "output_type": "stream",
          "name": "stderr",
          "text": [
            "[nltk_data] Downloading package punkt to /root/nltk_data...\n",
            "[nltk_data]   Unzipping tokenizers/punkt.zip.\n",
            "[nltk_data] Downloading package webtext to /root/nltk_data...\n",
            "[nltk_data]   Package webtext is already up-to-date!\n"
          ]
        }
      ]
    },
    {
      "cell_type": "code",
      "source": [
        "from nltk.probability import FreqDist\n",
        "from nltk.corpus import stopwords\n",
        "import string"
      ],
      "metadata": {
        "id": "anE1AqOYA1tt"
      },
      "execution_count": null,
      "outputs": []
    },
    {
      "cell_type": "code",
      "source": [
        "len(wt_words)"
      ],
      "metadata": {
        "colab": {
          "base_uri": "https://localhost:8080/"
        },
        "id": "yUPkw732CFFs",
        "outputId": "8658a135-1612-4188-826c-9b885b813d20"
      },
      "execution_count": null,
      "outputs": [
        {
          "output_type": "execute_result",
          "data": {
            "text/plain": [
              "102457"
            ]
          },
          "metadata": {},
          "execution_count": 15
        }
      ]
    },
    {
      "cell_type": "code",
      "source": [
        "len(wt_sentences)"
      ],
      "metadata": {
        "colab": {
          "base_uri": "https://localhost:8080/"
        },
        "id": "XoJpxUA7CKJe",
        "outputId": "3cdeb075-7c7b-479a-d3c6-4de973c45180"
      },
      "execution_count": null,
      "outputs": [
        {
          "output_type": "execute_result",
          "data": {
            "text/plain": [
              "1144"
            ]
          },
          "metadata": {},
          "execution_count": 17
        }
      ]
    },
    {
      "cell_type": "code",
      "source": [
        "frequency_dist = FreqDist(wt_words)\n",
        "frequency_dist"
      ],
      "metadata": {
        "colab": {
          "base_uri": "https://localhost:8080/"
        },
        "id": "1HrS_AYJDFbK",
        "outputId": "84c78c33-1767-4355-ecb5-123597cf179c"
      },
      "execution_count": null,
      "outputs": [
        {
          "output_type": "execute_result",
          "data": {
            "text/plain": [
              "FreqDist({'.': 2428, 'in': 2203, 'to': 2130, '\"': 1971, 'the': 1762, \"'\": 1507, 'not': 1472, '-': 1372, 'when': 1255, 'on': 1193, ...})"
            ]
          },
          "metadata": {},
          "execution_count": 18
        }
      ]
    },
    {
      "cell_type": "code",
      "source": [
        "large_words = dict([(m,n) for m,n in frequency_dist.items() if len(m)>3])\n",
        "frequency_dist = nltk.FreqDist(large_words)\n",
        "frequency_dist.plot(30,cumulative=False)"
      ],
      "metadata": {
        "colab": {
          "base_uri": "https://localhost:8080/",
          "height": 531
        },
        "id": "RGXFVHCPDOhR",
        "outputId": "495aca47-9201-4c6f-fddd-9c58d240a45b"
      },
      "execution_count": null,
      "outputs": [
        {
          "output_type": "display_data",
          "data": {
            "text/plain": [
              "<Figure size 640x480 with 1 Axes>"
            ],
            "image/png": "[encoded data removed]"
          },
          "metadata": {}
        },
        {
          "output_type": "execute_result",
          "data": {
            "text/plain": [
              "<Axes: xlabel='Samples', ylabel='Counts'>"
            ]
          },
          "metadata": {},
          "execution_count": 19
        }
      ]
    },
    {
      "cell_type": "code",
      "source": [
        "!pip install wordcloud"
      ],
      "metadata": {
        "colab": {
          "base_uri": "https://localhost:8080/"
        },
        "id": "H2q-sVgaEbjb",
        "outputId": "0a85240f-38e3-4bd5-dc83-76538935866d"
      },
      "execution_count": null,
      "outputs": [
        {
          "output_type": "stream",
          "name": "stdout",
          "text": [
            "Requirement already satisfied: wordcloud in /usr/local/lib/python3.10/dist-packages (1.9.3)\n",
            "Requirement already satisfied: numpy>=1.6.1 in /usr/local/lib/python3.10/dist-packages (from wordcloud) (1.26.4)\n",
            "Requirement already satisfied: pillow in /usr/local/lib/python3.10/dist-packages (from wordcloud) (10.4.0)\n",
            "Requirement already satisfied: matplotlib in /usr/local/lib/python3.10/dist-packages (from wordcloud) (3.8.0)\n",
            "Requirement already satisfied: contourpy>=1.0.1 in /usr/local/lib/python3.10/dist-packages (from matplotlib->wordcloud) (1.3.0)\n",
            "Requirement already satisfied: cycler>=0.10 in /usr/local/lib/python3.10/dist-packages (from matplotlib->wordcloud) (0.12.1)\n",
            "Requirement already satisfied: fonttools>=4.22.0 in /usr/local/lib/python3.10/dist-packages (from matplotlib->wordcloud) (4.54.1)\n",
            "Requirement already satisfied: kiwisolver>=1.0.1 in /usr/local/lib/python3.10/dist-packages (from matplotlib->wordcloud) (1.4.7)\n",
            "Requirement already satisfied: packaging>=20.0 in /usr/local/lib/python3.10/dist-packages (from matplotlib->wordcloud) (24.1)\n",
            "Requirement already satisfied: pyparsing>=2.3.1 in /usr/local/lib/python3.10/dist-packages (from matplotlib->wordcloud) (3.2.0)\n",
            "Requirement already satisfied: python-dateutil>=2.7 in /usr/local/lib/python3.10/dist-packages (from matplotlib->wordcloud) (2.8.2)\n",
            "Requirement already satisfied: six>=1.5 in /usr/local/lib/python3.10/dist-packages (from python-dateutil>=2.7->matplotlib->wordcloud) (1.16.0)\n"
          ]
        }
      ]
    },
    {
      "cell_type": "code",
      "source": [
        "from wordcloud import WordCloud\n",
        "wcloud = WordCloud().generate_from_frequencies(frequency_dist)\n",
        "import matplotlib.pyplot as plt\n",
        "plt.imshow(wcloud,interpolation='bilinear')\n",
        "plt.axis('off')\n",
        "(-0.5, 499.4, 198.5, -0.5)\n",
        "plt.show()"
      ],
      "metadata": {
        "colab": {
          "base_uri": "https://localhost:8080/",
          "height": 285
        },
        "id": "VgqadCRqEi9z",
        "outputId": "9b138a9e-0b93-4c6e-8f16-085ec201e541"
      },
      "execution_count": null,
      "outputs": [
        {
          "output_type": "display_data",
          "data": {
            "text/plain": [
              "<Figure size 640x480 with 1 Axes>"
            ],
            "image/png": "[encoded data removed]"
          },
          "metadata": {}
        }
      ]
    },
    {
      "cell_type": "markdown",
      "source": [
        "***7. Regular expression(parsing Text using Regular expression)basic flags and texts***"
      ],
      "metadata": {
        "id": "HCK3OAK-FfNn"
      }
    },
    {
      "cell_type": "code",
      "source": [
        "import re\n",
        "\n",
        "text = \"\"\"John Doe, john.doe@wxample.com, Age:28\n",
        "Jane Smith, jane.smith@example.com, Age: 25\n",
        "Bob Johnson, bob.johnson@example.com, Age: 30\n",
        "\"\"\"\n",
        "\n",
        "#Find Email Address\n",
        "\n",
        "email_pattern = r'\\b[A-Za-z0-9.%+-]+@[A-Za-z0-9.-]+\\.[A-Za-z]{2,}\\b'\n",
        "emails = re.findall(email_pattern, text)\n",
        "print(\"Email Address:\", emails)\n",
        "\n",
        "#Extracting names and ages\n",
        "\n",
        "name_age_pattern = r'([A-Z][a-z]+ [A-Z][a-z]+), (\\d+)'\n",
        "name_ages = re.findall(name_age_pattern, text)\n",
        "print(\"Name and Ages found:\", name_ages)\n",
        "\n",
        "#Case Sensitive Search for the word \"John\"\n",
        "\n",
        "john_pattern = re.compile(r'John', re. IGNORECASE)\n",
        "john_matches = john_pattern.findall (text)\n",
        "print(\"Matches for 'John':\", john_matches)\n",
        "\n",
        "#Multi-line Matching: Extract lines that contain 'Age\n",
        "\n",
        "age_pattern = re.compile(r'Age:\\d+')\n",
        "age_lines = age_pattern.findall(text)\n",
        "print(\"Lines with 'Age':\", age_lines)\n",
        "\n",
        "#Extracting Data with Verbose Flag(Pattern For email with Comments)\n",
        "\n",
        "email_pattern = re.compile(\"\"\"\n",
        "\n",
        "\\b\n",
        "\n",
        "[\\w\\-]+\n",
        "\n",
        "@\n",
        "\n",
        "[\\w\\.-]+\n",
        "\n",
        "[A-Za-z] (2,6)\n",
        "\n",
        "\\b\n",
        "\n",
        "\"\"\", re. VERBOSE)\n",
        "\n",
        "emails = email_pattern.findall (text)\n",
        "print(\"Email Address:\", emails)\n",
        "\n"
      ],
      "metadata": {
        "colab": {
          "base_uri": "https://localhost:8080/"
        },
        "id": "W3TIkds4Ff2G",
        "outputId": "2ac0f205-52fd-4743-c2db-569959f2276f"
      },
      "execution_count": null,
      "outputs": [
        {
          "output_type": "stream",
          "name": "stdout",
          "text": [
            "Email Address: ['john.doe@wxample.com', 'jane.smith@example.com', 'bob.johnson@example.com']\n",
            "Name and Ages found: []\n",
            "Matches for 'John': ['John', 'john', 'John', 'john']\n",
            "Lines with 'Age': ['Age:28']\n",
            "Email Address: []\n"
          ]
        }
      ]
    },
    {
      "cell_type": "markdown",
      "source": [
        "***8.Regular Expressions(Pattern Matching Functions)***"
      ],
      "metadata": {
        "id": "GRJQGn6-LsPD"
      }
    },
    {
      "cell_type": "code",
      "source": [
        "import re\n",
        "text = \"The phone number of the agent is 408-555-1234. Call soon!\"\n",
        "pattern = 'phone'\n",
        "match = re.search(pattern, text)\n",
        "if match:\n",
        "   print('Match found:', match.group())\n",
        "else:\n",
        "  print('Match not found')\n"
      ],
      "metadata": {
        "colab": {
          "base_uri": "https://localhost:8080/"
        },
        "id": "BId-8EyXLt8f",
        "outputId": "1c8ebbd6-e254-462d-82b0-ea1c2f14e195"
      },
      "execution_count": null,
      "outputs": [
        {
          "output_type": "stream",
          "name": "stdout",
          "text": [
            "Match found: phone\n"
          ]
        }
      ]
    },
    {
      "cell_type": "code",
      "source": [
        "import re\n",
        "text = \"The phone number of the agent is 408-555-1234, Call soon!\"\n",
        "pattern = 'phone'\n",
        "search_result= re.search(pattern, text)\n",
        "if search_result:\n",
        "   print('Match found:', search_result.group())\n",
        "else: print('Match not found')"
      ],
      "metadata": {
        "colab": {
          "base_uri": "https://localhost:8080/"
        },
        "id": "hCIan5v4Mdmf",
        "outputId": "09039645-2dab-40e9-b655-4fde4bdfc431"
      },
      "execution_count": null,
      "outputs": [
        {
          "output_type": "stream",
          "name": "stdout",
          "text": [
            "Match found: phone\n"
          ]
        }
      ]
    },
    {
      "cell_type": "code",
      "source": [
        "#re.findall()\n",
        "import re\n",
        "text = \"Email addresses: alice@example.com, bob@example.com, carol@example.com\"\n",
        "pattern =  r'\\b[A-Za-z0-9._%+-]+@[A-Za-z0-9.-]+\\.[A-Za-z]{2,}\\b'\n",
        "emails= re.findall(pattern, text)\n",
        "print(emails)"
      ],
      "metadata": {
        "colab": {
          "base_uri": "https://localhost:8080/"
        },
        "id": "iQjcUpSENh0c",
        "outputId": "b611c636-be14-45e7-abd5-669406658304"
      },
      "execution_count": null,
      "outputs": [
        {
          "output_type": "stream",
          "name": "stdout",
          "text": [
            "['alice@example.com', 'bob@example.com', 'carol@example.com']\n"
          ]
        }
      ]
    },
    {
      "cell_type": "markdown",
      "source": [
        "***9.Regular Expressions(pattern Matching)***"
      ],
      "metadata": {
        "id": "SnjkESNSPUQs"
      }
    },
    {
      "cell_type": "code",
      "source": [
        "import re\n",
        "def main():\n",
        "  text = \"The quick brown fox jumps over the lazy dog.\"\n",
        "  words = re.findall(r'\\w+', text.lower())\n",
        "  patterns={\n",
        "      \"Find email addresses: \": r'\\b[A-Za-z0-9._%+-]+@[A-Za-z0-9.-]+\\.[A-Za-z]{2,}\\b',\n",
        "      \"Find words starting with'1'\": r'\\b[1]\\w+',\n",
        "      \"Find phone numbers\": r\"\\b\\d{3}[,]\\d{3}[,]\\d{4}\\b\",}\n",
        "\n",
        "#Searxh patterns in the text\n",
        "  for description, pattern in patterns.items():\n",
        "    print(f\"\\n{description}:\")\n",
        "    matches = re.findall(pattern, text)\n",
        "    if matches:\n",
        "      print(matches)\n",
        "    else:\n",
        "      print(\"No matches found\")\n",
        "if __name__==\"__main__\":\n",
        "  main()\n",
        "\n",
        "  print(\"\\nReplacing email addresses with [EMAIL HIDDEN]:\")\n",
        "  masked_text = re.sub(r'\\b[A-Za-z0-9._%+-]+@[A-Za-z0-9.-]+\\.[A-Z|a-z]{2,}\\b','[EMAIL HIDDEN]', text)\n",
        "  print(masked_text)\n"
      ],
      "metadata": {
        "colab": {
          "base_uri": "https://localhost:8080/"
        },
        "id": "QrSAFLHsOnjI",
        "outputId": "0c62bcc5-1faa-48e0-acfd-ce64bccfebc9"
      },
      "execution_count": null,
      "outputs": [
        {
          "output_type": "stream",
          "name": "stdout",
          "text": [
            "\n",
            "Find email addresses: :\n",
            "No matches found\n",
            "\n",
            "Find words starting with'1':\n",
            "No matches found\n",
            "\n",
            "Find phone numbers:\n",
            "No matches found\n",
            "\n",
            "Replacing email addresses with [EMAIL HIDDEN]:\n",
            "Email addresses: [EMAIL HIDDEN], [EMAIL HIDDEN], [EMAIL HIDDEN]\n"
          ]
        }
      ]
    },
    {
      "cell_type": "markdown",
      "source": [
        "***10. Converting Text to features Using one Hot Encoding method***"
      ],
      "metadata": {
        "id": "A6lprwydH2V0"
      }
    },
    {
      "cell_type": "code",
      "source": [
        "import pandas as pd\n",
        "Text = \"I am learning NLP\"\n",
        "pd.get_dummies(Text.split())"
      ],
      "metadata": {
        "colab": {
          "base_uri": "https://localhost:8080/",
          "height": 567
        },
        "id": "fKAYPAw3IQi6",
        "outputId": "4e106510-b50c-4b74-ea08-0ce7927d9df3"
      },
      "execution_count": null,
      "outputs": [
        {
          "output_type": "execute_result",
          "data": {
            "text/plain": [
              "       I    NLP     am  learning\n",
              "0   True  False  False     False\n",
              "1  False  False   True     False\n",
              "2  False  False  False      True\n",
              "3  False   True  False     False"
            ],
            "text/html": [
              "\n",
              "  <div id=\"df-556bb05f-0dc8-42f8-b2ab-648c2a8030c0\" class=\"colab-df-container\">\n",
              "    <div>\n",
              "<style scoped>\n",
              "    .dataframe tbody tr th:only-of-type {\n",
              "        vertical-align: middle;\n",
              "    }\n",
              "\n",
              "    .dataframe tbody tr th {\n",
              "        vertical-align: top;\n",
              "    }\n",
              "\n",
              "    .dataframe thead th {\n",
              "        text-align: right;\n",
              "    }\n",
              "</style>\n",
              "<table border=\"1\" class=\"dataframe\">\n",
              "  <thead>\n",
              "    <tr style=\"text-align: right;\">\n",
              "      <th></th>\n",
              "      <th>I</th>\n",
              "      <th>NLP</th>\n",
              "      <th>am</th>\n",
              "      <th>learning</th>\n",
              "    </tr>\n",
              "  </thead>\n",
              "  <tbody>\n",
              "    <tr>\n",
              "      <th>0</th>\n",
              "      <td>True</td>\n",
              "      <td>False</td>\n",
              "      <td>False</td>\n",
              "      <td>False</td>\n",
              "    </tr>\n",
              "    <tr>\n",
              "      <th>1</th>\n",
              "      <td>False</td>\n",
              "      <td>False</td>\n",
              "      <td>True</td>\n",
              "      <td>False</td>\n",
              "    </tr>\n",
              "    <tr>\n",
              "      <th>2</th>\n",
              "      <td>False</td>\n",
              "      <td>False</td>\n",
              "      <td>False</td>\n",
              "      <td>True</td>\n",
              "    </tr>\n",
              "    <tr>\n",
              "      <th>3</th>\n",
              "      <td>False</td>\n",
              "      <td>True</td>\n",
              "      <td>False</td>\n",
              "      <td>False</td>\n",
              "    </tr>\n",
              "  </tbody>\n",
              "</table>\n",
              "</div>\n",
              "    <div class=\"colab-df-buttons\">\n",
              "\n",
              "  <div class=\"colab-df-container\">\n",
              "    <button class=\"colab-df-convert\" onclick=\"convertToInteractive('df-556bb05f-0dc8-42f8-b2ab-648c2a8030c0')\"\n",
              "            title=\"Convert this dataframe to an interactive table.\"\n",
              "            style=\"display:none;\">\n",
              "\n",
              "  <svg xmlns=\"http://www.w3.org/2000/svg\" height=\"24px\" viewBox=\"0 -960 960 960\">\n",
              "    <path d=\"M120-120v-720h720v720H120Zm60-500h600v-160H180v160Zm220 220h160v-160H400v160Zm0 220h160v-160H400v160ZM180-400h160v-160H180v160Zm440 0h160v-160H620v160ZM180-180h160v-160H180v160Zm440 0h160v-160H620v160Z\"/>\n",
              "  </svg>\n",
              "    </button>\n",
              "\n",
              "  <style>\n",
              "    .colab-df-container {\n",
              "      display:flex;\n",
              "      gap: 12px;\n",
              "    }\n",
              "\n",
              "    .colab-df-convert {\n",
              "      background-color: #E8F0FE;\n",
              "      border: none;\n",
              "      border-radius: 50%;\n",
              "      cursor: pointer;\n",
              "      display: none;\n",
              "      fill: #1967D2;\n",
              "      height: 32px;\n",
              "      padding: 0 0 0 0;\n",
              "      width: 32px;\n",
              "    }\n",
              "\n",
              "    .colab-df-convert:hover {\n",
              "      background-color: #E2EBFA;\n",
              "      box-shadow: 0px 1px 2px rgba(60, 64, 67, 0.3), 0px 1px 3px 1px rgba(60, 64, 67, 0.15);\n",
              "      fill: #174EA6;\n",
              "    }\n",
              "\n",
              "    .colab-df-buttons div {\n",
              "      margin-bottom: 4px;\n",
              "    }\n",
              "\n",
              "    [theme=dark] .colab-df-convert {\n",
              "      background-color: #3B4455;\n",
              "      fill: #D2E3FC;\n",
              "    }\n",
              "\n",
              "    [theme=dark] .colab-df-convert:hover {\n",
              "      background-color: #434B5C;\n",
              "      box-shadow: 0px 1px 3px 1px rgba(0, 0, 0, 0.15);\n",
              "      filter: drop-shadow(0px 1px 2px rgba(0, 0, 0, 0.3));\n",
              "      fill: #FFFFFF;\n",
              "    }\n",
              "  </style>\n",
              "\n",
              "    <script>\n",
              "      const buttonEl =\n",
              "        document.querySelector('#df-556bb05f-0dc8-42f8-b2ab-648c2a8030c0 button.colab-df-convert');\n",
              "      buttonEl.style.display =\n",
              "        google.colab.kernel.accessAllowed ? 'block' : 'none';\n",
              "\n",
              "      async function convertToInteractive(key) {\n",
              "        const element = document.querySelector('#df-556bb05f-0dc8-42f8-b2ab-648c2a8030c0');\n",
              "        const dataTable =\n",
              "          await google.colab.kernel.invokeFunction('convertToInteractive',\n",
              "                                                    [key], {});\n",
              "        if (!dataTable) return;\n",
              "\n",
              "        const docLinkHtml = 'Like what you see? Visit the ' +\n",
              "          '<a target=\"_blank\" href=https://colab.research.google.com/notebooks/data_table.ipynb>data table notebook</a>'\n",
              "          + ' to learn more about interactive tables.';\n",
              "        element.innerHTML = '';\n",
              "        dataTable['output_type'] = 'display_data';\n",
              "        await google.colab.output.renderOutput(dataTable, element);\n",
              "        const docLink = document.createElement('div');\n",
              "        docLink.innerHTML = docLinkHtml;\n",
              "        element.appendChild(docLink);\n",
              "      }\n",
              "    </script>\n",
              "  </div>\n",
              "\n",
              "\n",
              "<div id=\"df-20e4762c-735f-4e1b-99c5-a6e3b5e60117\">\n",
              "  <button class=\"colab-df-quickchart\" onclick=\"quickchart('df-20e4762c-735f-4e1b-99c5-a6e3b5e60117')\"\n",
              "            title=\"Suggest charts\"\n",
              "            style=\"display:none;\">\n",
              "\n",
              "<svg xmlns=\"http://www.w3.org/2000/svg\" height=\"24px\"viewBox=\"0 0 24 24\"\n",
              "     width=\"24px\">\n",
              "    <g>\n",
              "        <path d=\"M19 3H5c-1.1 0-2 .9-2 2v14c0 1.1.9 2 2 2h14c1.1 0 2-.9 2-2V5c0-1.1-.9-2-2-2zM9 17H7v-7h2v7zm4 0h-2V7h2v10zm4 0h-2v-4h2v4z\"/>\n",
              "    </g>\n",
              "</svg>\n",
              "  </button>\n",
              "\n",
              "<style>\n",
              "  .colab-df-quickchart {\n",
              "      --bg-color: #E8F0FE;\n",
              "      --fill-color: #1967D2;\n",
              "      --hover-bg-color: #E2EBFA;\n",
              "      --hover-fill-color: #174EA6;\n",
              "      --disabled-fill-color: #AAA;\n",
              "      --disabled-bg-color: #DDD;\n",
              "  }\n",
              "\n",
              "  [theme=dark] .colab-df-quickchart {\n",
              "      --bg-color: #3B4455;\n",
              "      --fill-color: #D2E3FC;\n",
              "      --hover-bg-color: #434B5C;\n",
              "      --hover-fill-color: #FFFFFF;\n",
              "      --disabled-bg-color: #3B4455;\n",
              "      --disabled-fill-color: #666;\n",
              "  }\n",
              "\n",
              "  .colab-df-quickchart {\n",
              "    background-color: var(--bg-color);\n",
              "    border: none;\n",
              "    border-radius: 50%;\n",
              "    cursor: pointer;\n",
              "    display: none;\n",
              "    fill: var(--fill-color);\n",
              "    height: 32px;\n",
              "    padding: 0;\n",
              "    width: 32px;\n",
              "  }\n",
              "\n",
              "  .colab-df-quickchart:hover {\n",
              "    background-color: var(--hover-bg-color);\n",
              "    box-shadow: 0 1px 2px rgba(60, 64, 67, 0.3), 0 1px 3px 1px rgba(60, 64, 67, 0.15);\n",
              "    fill: var(--button-hover-fill-color);\n",
              "  }\n",
              "\n",
              "  .colab-df-quickchart-complete:disabled,\n",
              "  .colab-df-quickchart-complete:disabled:hover {\n",
              "    background-color: var(--disabled-bg-color);\n",
              "    fill: var(--disabled-fill-color);\n",
              "    box-shadow: none;\n",
              "  }\n",
              "\n",
              "  .colab-df-spinner {\n",
              "    border: 2px solid var(--fill-color);\n",
              "    border-color: transparent;\n",
              "    border-bottom-color: var(--fill-color);\n",
              "    animation:\n",
              "      spin 1s steps(1) infinite;\n",
              "  }\n",
              "\n",
              "  @keyframes spin {\n",
              "    0% {\n",
              "      border-color: transparent;\n",
              "      border-bottom-color: var(--fill-color);\n",
              "      border-left-color: var(--fill-color);\n",
              "    }\n",
              "    20% {\n",
              "      border-color: transparent;\n",
              "      border-left-color: var(--fill-color);\n",
              "      border-top-color: var(--fill-color);\n",
              "    }\n",
              "    30% {\n",
              "      border-color: transparent;\n",
              "      border-left-color: var(--fill-color);\n",
              "      border-top-color: var(--fill-color);\n",
              "      border-right-color: var(--fill-color);\n",
              "    }\n",
              "    40% {\n",
              "      border-color: transparent;\n",
              "      border-right-color: var(--fill-color);\n",
              "      border-top-color: var(--fill-color);\n",
              "    }\n",
              "    60% {\n",
              "      border-color: transparent;\n",
              "      border-right-color: var(--fill-color);\n",
              "    }\n",
              "    80% {\n",
              "      border-color: transparent;\n",
              "      border-right-color: var(--fill-color);\n",
              "      border-bottom-color: var(--fill-color);\n",
              "    }\n",
              "    90% {\n",
              "      border-color: transparent;\n",
              "      border-bottom-color: var(--fill-color);\n",
              "    }\n",
              "  }\n",
              "</style>\n",
              "\n",
              "  <script>\n",
              "    async function quickchart(key) {\n",
              "      const quickchartButtonEl =\n",
              "        document.querySelector('#' + key + ' button');\n",
              "      quickchartButtonEl.disabled = true;  // To prevent multiple clicks.\n",
              "      quickchartButtonEl.classList.add('colab-df-spinner');\n",
              "      try {\n",
              "        const charts = await google.colab.kernel.invokeFunction(\n",
              "            'suggestCharts', [key], {});\n",
              "      } catch (error) {\n",
              "        console.error('Error during call to suggestCharts:', error);\n",
              "      }\n",
              "      quickchartButtonEl.classList.remove('colab-df-spinner');\n",
              "      quickchartButtonEl.classList.add('colab-df-quickchart-complete');\n",
              "    }\n",
              "    (() => {\n",
              "      let quickchartButtonEl =\n",
              "        document.querySelector('#df-20e4762c-735f-4e1b-99c5-a6e3b5e60117 button');\n",
              "      quickchartButtonEl.style.display =\n",
              "        google.colab.kernel.accessAllowed ? 'block' : 'none';\n",
              "    })();\n",
              "  </script>\n",
              "</div>\n",
              "\n",
              "    </div>\n",
              "  </div>\n"
            ],
            "application/vnd.google.colaboratory.intrinsic+json": {
              "type": "dataframe",
              "summary": "{\n  \"name\": \"pd\",\n  \"rows\": 4,\n  \"fields\": [\n    {\n      \"column\": \"I\",\n      \"properties\": {\n        \"dtype\": \"boolean\",\n        \"num_unique_values\": 2,\n        \"samples\": [\n          false,\n          true\n        ],\n        \"semantic_type\": \"\",\n        \"description\": \"\"\n      }\n    },\n    {\n      \"column\": \"NLP\",\n      \"properties\": {\n        \"dtype\": \"boolean\",\n        \"num_unique_values\": 2,\n        \"samples\": [\n          true,\n          false\n        ],\n        \"semantic_type\": \"\",\n        \"description\": \"\"\n      }\n    },\n    {\n      \"column\": \"am\",\n      \"properties\": {\n        \"dtype\": \"boolean\",\n        \"num_unique_values\": 2,\n        \"samples\": [\n          true,\n          false\n        ],\n        \"semantic_type\": \"\",\n        \"description\": \"\"\n      }\n    },\n    {\n      \"column\": \"learning\",\n      \"properties\": {\n        \"dtype\": \"boolean\",\n        \"num_unique_values\": 2,\n        \"samples\": [\n          true,\n          false\n        ],\n        \"semantic_type\": \"\",\n        \"description\": \"\"\n      }\n    }\n  ]\n}"
            }
          },
          "metadata": {},
          "execution_count": 1
        },
        {
          "output_type": "display_data",
          "data": {
            "text/plain": [
              "<google.colab._quickchart_helpers.SectionTitle at 0x78e0d9ceb730>"
            ],
            "text/html": [
              "<h4 class=\"colab-quickchart-section-title\">Categorical distributions</h4>\n",
              "<style>\n",
              "  .colab-quickchart-section-title {\n",
              "      clear: both;\n",
              "  }\n",
              "</style>"
            ]
          },
          "metadata": {}
        },
        {
          "output_type": "display_data",
          "data": {
            "text/plain": [
              "from matplotlib import pyplot as plt\n",
              "import seaborn as sns\n",
              "_df_0.groupby('I').size().plot(kind='barh', color=sns.palettes.mpl_palette('Dark2'))\n",
              "plt.gca().spines[['top', 'right',]].set_visible(False)"
            ],
            "text/html": [
              "      <div class=\"colab-quickchart-chart-with-code\" id=\"chart-74b8619b-2760-4d5c-b15b-5d046e33ab10\">\n",
              "        <img style=\"width: 180px;\" src=\"data:image/png;base64,iVBORw0KGgoAAAANSUhEUgAAAjUAAAGZCAYAAABxI8CQAAAAOXRFWHRTb2Z0d2FyZQBNYXRwbG90\n",
              "bGliIHZlcnNpb24zLjguMCwgaHR0cHM6Ly9tYXRwbG90bGliLm9yZy81sbWrAAAACXBIWXMAAA9h\n",
              "AAAPYQGoP6dpAAASAklEQVR4nO3db2zdZdnA8euwPqkY0u6pszocW+3YnwzXdmPtFuNQWRA3gzOw\n",
              "yEhU3FQ0SvyDBrIXC2KM8EIxCwSNkUxlGSG6BXQ6iZrN+EYWlGURnKFs3R+dQdmARVjHzu7nxZM0\n",
              "69MBfcp6ztnVzydZ0nPOvfY6d+6cffn1lFZKKSUAAM5zF9R7AACAc0HUAAApiBoAIAVRAwCkIGoA\n",
              "gBREDQCQgqgBAFIQNQBACqIGAEhhQkXNhg0b6j0CADBOJlTUHDhwoN4jAADjZEJFDQCQl6gBAFIQ\n",
              "NQBACqIGAEhB1AAAKYgaACAFUQMApCBqAIAURA0AkIKoAQBSEDUAQAqiBgBIQdQAACmIGgAgBVED\n",
              "AKQgagCAFEQNAJCCqAEAUhA1AEAKogYASEHUAAApiBoAIAVRAwCkIGoAgBREDQCQgqgBAFIQNQBA\n",
              "CqIGAEhB1AAAKYgaACAFUQMApCBqAIAURA0AkIKoAQBSEDUAQAqiBgBIQdQAACmIGgAgBVEDAKQg\n",
              "agCAFEQNAJCCqAEAUhA1AEAKogYASKFSSin1HqJW1lxWiXW9Oo7amv2jar1HAJgQ/AsPAKQgagCA\n",
              "FEQNAJCCqAEAUhA1AEAKogYASEHUAAApiBoAIAVRAwCkIGoAgBREDQCQgqgBAFIQNQBACqIGAEhB\n",
              "1AAAKYgaACAFUQMApCBqAIAURA0AkIKoAQBSEDUAQAqiBgBIQdQAACmIGgAgBVEDAKQgagCAFEQN\n",
              "AJCCqAEAUhA1AEAKogYASEHUAAApiBoAIAVRAwCkIGoAgBREDQCQgqgBAFIQNQBACqIGAEhB1AAA\n",
              "KYgaACAFUQMApNBUqy/U09MTEREnT56Mv/3tbzF//vyIiJgzZ0489NBDtRoDAEiqZlGze/fuiIgY\n",
              "GBiInp6eodtnOnXqVDQ11WwkACCRun/7qaOjI2677bbo6+uLG2+8MXbu3Dl0VSci4i9/+Ut0dHQM\n",
              "3X700UfjPe95T1x++eXR19cXO3bsqP3QAEDDaYjLIs8991w89thjUalUYufOna+6bt++ffH1r389\n",
              "Hn300WhpaYn+/v5YunRpDAwMRHNz87C1g4ODMTg4OOy+6unxmB4AaAQNETWf/OQno1KpvO66X//6\n",
              "19Hf3x9XXHHF0H0XXHBBHDx4MGbNmjVs7Z133hl33HHHsPu6p5ybeQGAxtMQUXPRRRcNfdzU1BTV\n",
              "anXo9okTJ4Y+LqXEVVddFZs3b37dz7lu3bq45ZZbht138+LWczAtANCI6v6emv+rs7MzDhw4EP/6\n",
              "178iIuKBBx4Yeuzqq6+O3/72t7Fnz56h+3bt2nXWz9Pc3BwtLS3D/kxquGcLAJwrDXGl5kwXX3xx\n",
              "3HrrrdHX1xdve9vbYvny5UOPXXrppbF58+b47Gc/Gy+99FKcPHkyFixYMKorNwBAbpVSSqn3ELWy\n",
              "5rJKrOt1uYbamv2j6usvAuAN8y88AJCCqAEAUhA1AEAKogYASEHUAAApiBoAIAVRAwCkIGoAgBRE\n",
              "DQCQgqgBAFIQNQBACqIGAEhB1AAAKYgaACAFUQMApCBqAIAURA0AkIKoAQBSEDUAQAqiBgBIQdQA\n",
              "ACmIGgAgBVEDAKQgagCAFEQNAJCCqAEAUhA1AEAKogYASEHUAAApiBoAIAVRAwCkIGoAgBREDQCQ\n",
              "gqgBAFIQNQBACqIGAEhB1AAAKYgaACAFUQMApCBqAIAURA0AkEJTvQeopf+++isx++676z0GADAO\n",
              "XKkBAFIQNQBACqIGAEhB1AAAKYgaACAFUQMApCBqAIAURA0AkIKoAQBSEDUAQAqiBgBIQdQAACmI\n",
              "GgAgBVEDAKQgagCAFEQNAJCCqAEAUhA1AEAKogYASEHUAAApiBoAIAVRAwCkIGoAgBREDQCQgqgB\n",
              "AFIQNQBACqIGAEhB1AAAKYgaACAFUQMApCBqAIAURA0AkIKoAQBSEDUAQAqiBgBIQdQAACmIGgAg\n",
              "BVEDAKQgagCAFEQNAJCCqAEAUhA1AEAKogYASEHUAAApiBoAIAVRAwCk0DTahXv27HnNx7u6ut7w\n",
              "MAAAYzXqqFm5cuWrPlapVGLfvn3nZCAAgLEYddTs379/POcAAHhDvKcGAEhB1AAAKYgaACAFUQMA\n",
              "pCBqAIAURA0AkIKoAQBSEDUAQAqiBgBIQdQAACmIGgAgBVEDAKQgagCAFEQNAJCCqAEAUhA1AEAK\n",
              "ogYASEHUAAApiBoAIAVRAwCkIGoAgBREDQCQgqgBAFIQNQBACqIGAEhB1AAAKYgaACAFUQMApCBq\n",
              "AIAURA0AkIKoAQBSEDUAQAqiBgBIQdQAACmIGgAgBVEDAKQgagCAFEQNAJCCqAEAUhA1AEAKogYA\n",
              "SEHUAAApiBoAIIVKKaXUe4hauejq3pi8elm9xwCAVA6vuaveI0SEKzUAQBKiBgBIQdQAACmIGgAg\n",
              "BVEDAKQgagCAFEQNAJCCqAEAUhA1AEAKogYASEHUAAApiBoAIAVRAwCkIGoAgBREDQCQgqgBAFIQ\n",
              "NQBACqIGAEhB1AAAKYgaACAFUQMApCBqAIAURA0AkIKoAQBSEDUAQAqiBgBIQdQAACmIGgAgBVED\n",
              "AKQgagCAFEQNAJCCqAEAUhA1AEAKogYASEHUAAApiBoAIAVRAwCkIGoAgBREDQCQgqgBAFIQNQBA\n",
              "CuMaNR0dHTFnzpzo6emJnp6e+PSnP/2qa9/3vvfFww8/PJ7jAACJNY33F3jooYeip6dnvL8MADDB\n",
              "1fTbT5s3b47FixfHggULoru7O37xi1+cdd0Pf/jDmDdvXvT09MT8+fPjsccei4iIp59+Oj70oQ9F\n",
              "b29vdHV1xb333lvL8QGABjbuV2quv/76uPDCCyMiYv369fHHP/4xKpVKDAwMxJIlS+LAgQPR3Nw8\n",
              "7O989atfjb1798bUqVPjlVdeicHBwahWq3HDDTfEpk2bYu7cufHSSy/FkiVLYvHixdHb2zvi6w4O\n",
              "Dsbg4ODwO6tl3J4nAFBfNf320+OPPx7Lly+Pw4cPR1NTUxw9ejT2798fc+fOHfZ3li1bFh//+Mfj\n",
              "mmuuieXLl8fs2bPjqaeeiieffDJWr149tO748ePx1FNPnTVq7rzzzrjjjjuG3fdfnRef+ycIADSE\n",
              "cY+aM61evTruuuuuWLVqVUREtLW1xYkTJ0as27JlS/zpT3+KnTt3xooVK+Kb3/xmzJ8/P9ra2mL3\n",
              "7t2j+lrr1q2LW265Zdh9F1975Rt+DgBAY6pp1Bw7dize+c53RkTEpk2b4tixYyPWnDp1KgYGBmLR\n",
              "okWxaNGi+Pe//x27du2KVatWRUtLS2zcuDHWrFkTERH9/f3R1tYWbW1tIz5Pc3PziG9rxaTKuX9S\n",
              "AEBDqGnUbNiwIVatWhWTJ0+OK6+8MqZPnz5iTbVajbVr18bRo0ejqakp3vrWt8bGjRujqakptm3b\n",
              "Fl/+8pfju9/9blSr1ZgyZUps3ry5lk8BAGhQlVLKhHn37EVX98bk1cvqPQYApHJ4zV31HiEi/B+F\n",
              "AYAkRA0AkIKoAQBSEDUAQAqiBgBIQdQAACmIGgAgBVEDAKQgagCAFEQNAJCCqAEAUhA1AEAKogYA\n",
              "SEHUAAApiBoAIAVRAwCkIGoAgBREDQCQgqgBAFIQNQBACqIGAEhB1AAAKYgaACAFUQMApCBqAIAU\n",
              "RA0AkIKoAQBSEDUAQAqiBgBIQdQAACmIGgAgBVEDAKQgagCAFEQNAJCCqAEAUhA1AEAKogYASEHU\n",
              "AAApiBoAIAVRAwCkIGoAgBSa6j1ALd102dK4e81d9R4DABgHrtQAACmIGgAgBVEDAKQgagCAFEQN\n",
              "AJCCqAEAUhA1AEAKogYASEHUAAApiBoAIAVRAwCkIGoAgBREDQCQgqgBAFIQNQBACqIGAEhB1AAA\n",
              "KYgaACAFUQMApCBqAIAURA0AkIKoAQBSEDUAQAqiBgBIQdQAACmIGgAgBVEDAKQgagCAFEQNAJCC\n",
              "qAEAUhA1AEAKogYASEHUAAApiBoAIAVRAwCkIGoAgBREDQCQgqgBAFIQNQBACqIGAEhB1AAAKYga\n",
              "ACAFUQMApCBqAIAURA0AkEJTvQeolcHBwdi+fXtUq9WYNGlSvcc5r1Sr1di1a1f09fXZu/8nezc2\n",
              "9m3s7N3Y2buxqcW+zZgxI770pS+97rpKKaWMywQN5sUXX4zW1tZ44YUXoqWlpd7jnFfs3djZu7Gx\n",
              "b2Nn78bO3o1NI+2bbz8BACmIGgAgBVEDAKQwYaKmubk5br/99mhubq73KOcdezd29m5s7NvY2bux\n",
              "s3dj00j7NmHeKAwA5DZhrtQAALmJGgAgBVEDAKSQLmqefvrpePe73x2zZ8+O3t7eePLJJ8+67v77\n",
              "749Zs2bFzJkz4zOf+Uy88sorNZ608Yxm73bu3BkXXnhh9PT0DP15+eWX6zBt4/jiF78YHR0dUalU\n",
              "Yvfu3a+6zpkbaTR758yNdOLEifjIRz4Ss2fPju7u7rjqqquiv7//rGu3bdsWc+fOjVmzZsW1114b\n",
              "L774Yo2nbSyj3buBgYGYNGnSsHP3zDPP1GHixvGBD3wgurq6oqenJ5YuXRpPPPHEWdfV9bWuJPP+\n",
              "97+/bNy4sZRSyk9/+tOyaNGiEWv27dtXpk6dWo4cOVJOnz5drrnmmnLvvffWeNLGM5q927FjR+nu\n",
              "7q7tYA3u97//fTl06FCZMWNGeeKJJ866xpk7u9HsnTM30ssvv1x++ctfltOnT5dSSrnnnnvKe9/7\n",
              "3hHrjh8/Xtrb28tf//rXUkopX/jCF8rXvva1Wo7acEa7d/v37y+tra21Ha7BHTt2bOjjrVu3lq6u\n",
              "rhFr6v1al+pKzbPPPhuPP/54fOxjH4uIiOuuuy4OHTo0osJ/9rOfxYc//OF4+9vfHpVKJT73uc/F\n",
              "gw8+WI+RG8Zo946Rrrjiipg2bdprrnHmzm40e8dIb3rTm2LFihVRqVQiImLJkiUxMDAwYt327dtj\n",
              "wYIFMXfu3IiI+PznPz/hz91o946RJk+ePPTxCy+8MLSHZ6r3a12qqDl06FBMnTo1mpr+9/d0ViqV\n",
              "mD59ehw8eHDYuoMHD8aMGTOGbnd0dIxYM9GMdu8iIp555plYuHBh9Pb2xn333VfrUc9Lztwb48y9\n",
              "tg0bNsTKlStH3H+2c3fkyJE4depULcdraK+2dxER//nPf6K3tzcWLlwY3/jGN6JardZ4usbziU98\n",
              "Ii655JJYv359PPDAAyMer/dr3YT5Ld2cGwsXLozDhw9Ha2trHD58OFasWBFTpkyJj370o/UejaSc\n",
              "udf2rW99K/r7++N3v/tdvUc577zW3k2dOjX+/ve/R3t7exw9ejSuv/76+M53vhO33nprHSZtHD/5\n",
              "yU8iIuLHP/5x3HbbbfGrX/2qzhMNl+pKzSWXXDLsv0JKKXHw4MGYPn36sHXTp0+PAwcODN0eGBgY\n",
              "sWaiGe3etbS0RGtra0RETJs2LW644Yb4wx/+UPN5zzfO3Ng5c6/u29/+dmzdujW2b98eb37zm0c8\n",
              "frZzd+YV2Yns9fauubk52tvbIyKira0t1q5d69yd4cYbb4wdO3bEc889N+z+er/WpYqa9vb2WLhw\n",
              "YWzatCkiIrZs2RLTpk2LSy+9dNi66667Ln7+85/HP//5zyilxPe///1YvXp1PUZuGKPduyNHjsTp\n",
              "06cjIuL48eOxbdu2WLBgQc3nPd84c2PnzJ3d3XffHQ8++GD85je/GfZehzN98IMfjD//+c+xd+/e\n",
              "iIi47777nLsY3d49++yzQz+1Mzg4GFu3bp3Q5+7555+Pf/zjH0O3H3744XjLW94SbW1tw9bV/bWu\n",
              "Zm9JrpG9e/eWJUuWlFmzZpXLL7+87Nmzp5RSyqc+9anyyCOPDK37wQ9+UDo7O0tnZ2dZu3ZtOXny\n",
              "ZL1Gbhij2bt77rmnzJs3r3R1dZV58+aV22+/feinCCaqm266qbzjHe8okyZNKu3t7WXmzJmlFGdu\n",
              "NEazd87cSIcOHSoRUTo7O0t3d3fp7u4ufX19pZRS1q9fX773ve8NrX3kkUfKnDlzysyZM8vKlSvL\n",
              "888/X6+xG8Jo927Lli3lsssuGzp3N998czlx4kQ9R6+rgYGB0tvbW971rneVrq6usmzZsqGfWGyk\n",
              "1zq/+wkASCHVt58AgIlL1AAAKYgaACAFUQMApCBqAIAURA0AkIKoAQBSEDUAQAqiBgBIQdQAACmI\n",
              "GgAghf8BSctEh+UShEwAAAAASUVORK5CYII=\n",
              "\">\n",
              "      </div>\n",
              "      <script type=\"text/javascript\">\n",
              "        (() => {\n",
              "          const chartElement = document.getElementById(\"chart-74b8619b-2760-4d5c-b15b-5d046e33ab10\");\n",
              "          async function getCodeForChartHandler(event) {\n",
              "            const chartCodeResponse =  await google.colab.kernel.invokeFunction(\n",
              "                'getCodeForChart', [\"chart-74b8619b-2760-4d5c-b15b-5d046e33ab10\"], {});\n",
              "            const responseJson = chartCodeResponse.data['application/json'];\n",
              "            await google.colab.notebook.addCell(responseJson.code, 'code');\n",
              "          }\n",
              "          chartElement.onclick = getCodeForChartHandler;\n",
              "        })();\n",
              "      </script>\n",
              "      <style>\n",
              "        .colab-quickchart-chart-with-code  {\n",
              "            display: block;\n",
              "            float: left;\n",
              "            border: 1px solid transparent;\n",
              "        }\n",
              "\n",
              "        .colab-quickchart-chart-with-code:hover {\n",
              "            cursor: pointer;\n",
              "            border: 1px solid #aaa;\n",
              "        }\n",
              "      </style>"
            ]
          },
          "metadata": {}
        },
        {
          "output_type": "display_data",
          "data": {
            "text/plain": [
              "from matplotlib import pyplot as plt\n",
              "import seaborn as sns\n",
              "_df_1.groupby('NLP').size().plot(kind='barh', color=sns.palettes.mpl_palette('Dark2'))\n",
              "plt.gca().spines[['top', 'right',]].set_visible(False)"
            ],
            "text/html": [
              "      <div class=\"colab-quickchart-chart-with-code\" id=\"chart-15530c00-d00f-4406-959d-c0bdfa071272\">\n",
              "        <img style=\"width: 180px;\" src=\"data:image/png;base64,iVBORw0KGgoAAAANSUhEUgAAAjUAAAGZCAYAAABxI8CQAAAAOXRFWHRTb2Z0d2FyZQBNYXRwbG90\n",
              "bGliIHZlcnNpb24zLjguMCwgaHR0cHM6Ly9tYXRwbG90bGliLm9yZy81sbWrAAAACXBIWXMAAA9h\n",
              "AAAPYQGoP6dpAAATTUlEQVR4nO3df6zVdf3A8deJ+93N5u7lezUKQ7iB/BjKvZcrF1kLDZkZNLMp\n",
              "S1w/DCpr6Sqx4dgiwznxj6KYzpqrUclwrmBaFLlq0PonyJRRKs0rXn4kzRK8spCLXD7fP77bnbcL\n",
              "erjee87hdR+Pje2ez3lz7uu899nh6eec6y0VRVEEAMBZ7h3VHgAAYCiIGgAgBVEDAKQgagCAFEQN\n",
              "AJCCqAEAUhA1AEAKogYASEHUAAApjKioWbt2bbVHAACGyYiKmr1791Z7BABgmIyoqAEA8hI1AEAK\n",
              "ogYASEHUAAApiBoAIAVRAwCkIGoAgBREDQCQgqgBAFIQNQBACqIGAEhB1AAAKYgaACAFUQMApCBq\n",
              "AIAURA0AkIKoAQBSEDUAQAqiBgBIQdQAACmIGgAgBVEDAKQgagCAFEQNAJCCqAEAUhA1AEAKogYA\n",
              "SEHUAAApiBoAIAVRAwCkIGoAgBREDQCQgqgBAFIQNQBACqIGAEhB1AAAKYgaACAFUQMApCBqAIAU\n",
              "RA0AkIKoAQBSEDUAQAqiBgBIQdQAACmUiqIoqj1EpSy5uBQrOnQclTXlx73VHgFgRPAvPACQgqgB\n",
              "AFIQNQBACqIGAEhB1AAAKYgaACAFUQMApCBqAIAURA0AkIKoAQBSEDUAQAqiBgBIQdQAACmIGgAg\n",
              "BVEDAKQgagCAFEQNAJCCqAEAUhA1AEAKogYASEHUAAApiBoAIAVRAwCkIGoAgBREDQCQgqgBAFIQ\n",
              "NQBACqIGAEhB1AAAKYgaACAFUQMApCBqAIAURA0AkIKoAQBSEDUAQAqiBgBIQdQAACmIGgAgBVED\n",
              "AKQgagCAFEQNAJBCXaW+UVtbW0REHD9+PP7+97/HjBkzIiJi6tSp8cgjj1RqDAAgqYpFzc6dOyMi\n",
              "oqurK9ra2vpuv9GJEyeirq5iIwEAiVT97afm5ua44447Yvbs2XHTTTfFtm3b+q7qRET87W9/i+bm\n",
              "5r7bjz/+eHzwgx+MSy+9NGbPnh1bt26t/NAAQM2picsiL7/8cmzfvj1KpVJs27bttOv27NkT3/rW\n",
              "t+Lxxx+PhoaG6OzsjLlz50ZXV1fU19f3W9vT0xM9PT39jvWeHI7pAYBaUBNR89nPfjZKpdJbrvvN\n",
              "b34TnZ2dcfnll/cde8c73hH79u2LyZMn91u7evXqWLVqVb9jrecPzbwAQO2piag599xz+76uq6uL\n",
              "3t7evtvHjh3r+7ooirjqqqtiw4YNb/mYK1asiGXLlvU7dutljUMwLQBQi6r+mZr/NnHixNi7d2/8\n",
              "61//ioiIhx56qO++q6++On73u9/Frl27+o7t2LHjlI9TX18fDQ0N/f6MqrlnCwAMlZq4UvNGF1xw\n",
              "QSxfvjxmz54d73nPe2LBggV991100UWxYcOG+OIXvxhHjx6N48ePx8yZM8u6cgMA5FYqiqKo9hCV\n",
              "suTiUqzocLmGypry4963XgTA2+ZfeAAgBVEDAKQgagCAFEQNAJCCqAEAUhA1AEAKogYASEHUAAAp\n",
              "iBoAIAVRAwCkIGoAgBREDQCQgqgBAFIQNQBACqIGAEhB1AAAKYgaACAFUQMApCBqAIAURA0AkIKo\n",
              "AQBSEDUAQAqiBgBIQdQAACmIGgAgBVEDAKQgagCAFEQNAJCCqAEAUhA1AEAKogYASEHUAAApiBoA\n",
              "IAVRAwCkIGoAgBREDQCQgqgBAFIQNQBACqIGAEhB1AAAKYgaACCFumoPUEn/e/VtMWXNmmqPAQAM\n",
              "A1dqAIAURA0AkIKoAQBSEDUAQAqiBgBIQdQAACmIGgAgBVEDAKQgagCAFEQNAJCCqAEAUhA1AEAK\n",
              "ogYASEHUAAApiBoAIAVRAwCkIGoAgBREDQCQgqgBAFIQNQBACqIGAEhB1AAAKYgaACAFUQMApCBq\n",
              "AIAURA0AkIKoAQBSEDUAQAqiBgBIQdQAACmIGgAgBVEDAKQgagCAFEQNAJCCqAEAUhA1AEAKogYA\n",
              "SEHUAAAplB01f/3rX2PWrFnR0NAQ8+bNi3379g3nXAAAZ6TsqLnlllvik5/8ZGzfvj3mzp0by5cv\n",
              "H865AADOSF25C7u7u+O2226LiIi77ror2tvbh20oAIAzVfaVmlGjRg3nHAAAb0vZV2p2797d7+rM\n",
              "f99+8sknh3YyAIAzUHbUbNmyZTjnAAB4W8qOmiuuuOK0933ve9970/sBAIbbkPx/atasWTMUDwMA\n",
              "MGhDEjVFUQzFwwAADNqQRE2pVBqKhwEAGLSyP1OzbNmyUx4viiK6u7uHbCAAgMEoO2oaGxtPe9/p\n",
              "ggcAoFLKjpp58+YN5xwAAG9L2VFz++23R6lU6veh4FKpFC+++GIcPHgwent7h2VAAIBylB01f/7z\n",
              "n/vdPnToUNx9992xfv36WLVq1ZAPBgBwJs74p5+OHTsWq1evjunTp0dExLPPPhvf+MY3hnwwAIAz\n",
              "UXbUnDx5Mh588MGYPHly7N69O7Zv3x5r1qyJ8847bzjnAwAoS9lvP11yySXR09MT99xzT7S2tkZ3\n",
              "d3fs2rWr7/6WlpZhGRAAoBxlR83Ro0ejVCrFN7/5zQH3lUql2LNnz5AOBgBwJsqOmq6urmEcAwDg\n",
              "7RmSX5MAAFBtogYASEHUAAApiBoAIAVRAwCkIGoAgBREDQCQgqgBAFIQNQBACqIGAEhB1AAAKYga\n",
              "ACAFUQMApCBqAIAURA0AkIKoAQBSEDUAQAqiBgBIQdQAACmIGgAgBVEDAKQgagCAFEQNAJCCqAEA\n",
              "UhA1AEAKogYASEHUAAApiBoAIAVRAwCkIGoAgBREDQCQgqgBAFIQNQBACqIGAEihVBRFUe0hKuXc\n",
              "qzti9OL51R4DAFI5sOTeao8QEa7UAABJiBoAIAVRAwCkIGoAgBREDQCQgqgBAFIQNQBACqIGAEhB\n",
              "1AAAKYgaACAFUQMApCBqAIAURA0AkIKoAQBSEDUAQAqiBgBIQdQAACmIGgAgBVEDAKQgagCAFEQN\n",
              "AJCCqAEAUhA1AEAKogYASEHUAAApiBoAIAVRAwCkIGoAgBREDQCQgqgBAFIQNQBACqIGAEhB1AAA\n",
              "KYgaACAFUQMApCBqAIAURA0AkIKoAQBSEDUAQAqiBgBIQdQAACkMa9Q0NzfH1KlTo62tLdra2uLz\n",
              "n//8add+6EMfikcffXQ4xwEAEqsb7m/wyCOPRFtb23B/GwBghKvo208bNmyIyy67LGbOnBmtra3x\n",
              "y1/+8pTrfvjDH8b06dOjra0tZsyYEdu3b4+IiOeeey4++tGPRkdHR7S0tMT9999fyfEBgBo27Fdq\n",
              "brjhhjjnnHMiImLlypXxpz/9KUqlUnR1dcWcOXNi7969UV9f3+/v3H777bF79+4YO3ZsvP7669HT\n",
              "0xO9vb1x4403xvr162PatGlx9OjRmDNnTlx22WXR0dEx4Pv29PRET09P/4O9xbA9TwCguir69tMT\n",
              "TzwRCxYsiAMHDkRdXV0cOnQoXnjhhZg2bVq/vzN//vz49Kc/Hddcc00sWLAgpkyZEs8880w8/fTT\n",
              "sXjx4r51R44ciWeeeeaUUbN69epYtWpVv2P/M/GCoX+CAEBNGPaoeaPFixfHvffeG4sWLYqIiKam\n",
              "pjh27NiAdRs3boy//OUvsW3btli4cGHcfffdMWPGjGhqaoqdO3eW9b1WrFgRy5Yt63fsguuufNvP\n",
              "AQCoTRWNmsOHD8f73//+iIhYv359HD58eMCaEydORFdXV8yaNStmzZoV//73v2PHjh2xaNGiaGho\n",
              "iHXr1sWSJUsiIqKzszOampqiqalpwOPU19cPeFsrRpWG/kkBADWholGzdu3aWLRoUYwePTquvPLK\n",
              "GD9+/IA1vb29sXTp0jh06FDU1dXFu9/97li3bl3U1dXF5s2b42tf+1p897vfjd7e3jj//PNjw4YN\n",
              "lXwKAECNKhVFMWI+PXvu1R0xevH8ao8BAKkcWHJvtUeICP9HYQAgCVEDAKQgagCAFEQNAJCCqAEA\n",
              "UhA1AEAKogYASEHUAAApiBoAIAVRAwCkIGoAgBREDQCQgqgBAFIQNQBACqIGAEhB1AAAKYgaACAF\n",
              "UQMApCBqAIAURA0AkIKoAQBSEDUAQAqiBgBIQdQAACmIGgAgBVEDAKQgagCAFEQNAJCCqAEAUhA1\n",
              "AEAKogYASEHUAAApiBoAIAVRAwCkIGoAgBREDQCQgqgBAFIQNQBACqIGAEhB1AAAKYgaACCFumoP\n",
              "UEk3Xzw31iy5t9pjAADDwJUaACAFUQMApCBqAIAURA0AkIKoAQBSEDUAQAqiBgBIQdQAACmIGgAg\n",
              "BVEDAKQgagCAFEQNAJCCqAEAUhA1AEAKogYASEHUAAApiBoAIAVRAwCkIGoAgBREDQCQgqgBAFIQ\n",
              "NQBACqIGAEhB1AAAKYgaACAFUQMApCBqAIAURA0AkIKoAQBSEDUAQAqiBgBIQdQAACmIGgAgBVED\n",
              "AKQgagCAFEQNAJCCqAEAUhA1AEAKogYASEHUAAApiBoAIAVRAwCkIGoAgBREDQCQgqgBAFKoq/YA\n",
              "ldLT0xNbtmyJ3t7eGDVqVLXHOav09vbGjh07Yvbs2fbuDNm7wbFvg2fvBs/eDU4l9m3ChAnx1a9+\n",
              "9S3XlYqiKIZlghrz6quvRmNjY3R3d0dDQ0O1xzmr2LvBs3eDY98Gz94Nnr0bnFraN28/AQApiBoA\n",
              "IAVRAwCkMGKipr6+Pu68886or6+v9ihnHXs3ePZucOzb4Nm7wbN3g1NL+zZiPigMAOQ2Yq7UAAC5\n",
              "iRoAIAVRAwCkkC5qnnvuufjABz4QU6ZMiY6Ojnj66adPue5HP/pRTJ48OSZNmhRf+MIX4vXXX6/w\n",
              "pLWnnL3btm1bnHPOOdHW1tb357XXXqvCtLXjK1/5SjQ3N0epVIqdO3eedp1zbqBy9s45N9CxY8fi\n",
              "4x//eEyZMiVaW1vjqquuis7OzlOu3bx5c0ybNi0mT54c1113Xbz66qsVnra2lLt3XV1dMWrUqH7n\n",
              "3fPPP1+FiWvHhz/84WhpaYm2traYO3duPPXUU6dcV9XXuiKZefPmFevWrSuKoih+9rOfFbNmzRqw\n",
              "Zs+ePcXYsWOLgwcPFidPniyuueaa4v7776/wpLWnnL3bunVr0draWtnBatwf/vCHYv/+/cWECROK\n",
              "p5566pRrnHOnVs7eOecGeu2114pf/epXxcmTJ4uiKIr77ruvuOKKKwasO3LkSDFmzJji2WefLYqi\n",
              "KG655Zbi61//eiVHrTnl7t0LL7xQNDY2Vna4Gnf48OG+rzdt2lS0tLQMWFPt17pUV2peeumleOKJ\n",
              "J+JTn/pURERcf/31sX///gEV/vOf/zw+9rGPxXvf+94olUrxpS99KR5++OFqjFwzyt07Brr88stj\n",
              "3Lhxb7rGOXdq5ewdA73zne+MhQsXRqlUioiIOXPmRFdX14B1W7ZsiZkzZ8a0adMiIuLLX/7yiD/v\n",
              "yt07Bho9enTf193d3X17+EbVfq1LFTX79++PsWPHRl3d//+ezlKpFOPHj499+/b1W7dv376YMGFC\n",
              "3+3m5uYBa0aacvcuIuL555+P9vb26OjoiAceeKDSo56VnHNvj3Puza1duzauvfbaAcdPdd4dPHgw\n",
              "Tpw4Ucnxatrp9i4i4j//+U90dHREe3t73HXXXdHb21vh6WrPZz7zmbjwwgtj5cqV8dBDDw24v9qv\n",
              "dSPmt3QzNNrb2+PAgQPR2NgYBw4ciIULF8b5558fn/jEJ6o9Gkk5597cPffcE52dnfH73/++2qOc\n",
              "dd5s78aOHRv/+Mc/YsyYMXHo0KG44YYb4jvf+U4sX768CpPWjp/+9KcREfGTn/wk7rjjjvj1r39d\n",
              "5Yn6S3Wl5sILL+z3XyFFUcS+ffti/Pjx/daNHz8+9u7d23e7q6trwJqRpty9a2hoiMbGxoiIGDdu\n",
              "XNx4443xxz/+seLznm2cc4PnnDu9b3/727Fp06bYsmVLvOtd7xpw/6nOuzdekR3J3mrv6uvrY8yY\n",
              "MRER0dTUFEuXLnXevcFNN90UW7dujZdffrnf8Wq/1qWKmjFjxkR7e3usX78+IiI2btwY48aNi4su\n",
              "uqjfuuuvvz5+8YtfxD//+c8oiiJ+8IMfxOLFi6sxcs0od+8OHjwYJ0+ejIiII0eOxObNm2PmzJkV\n",
              "n/ds45wbPOfcqa1ZsyYefvjh+O1vf9vvsw5v9JGPfCSefPLJ2L17d0REPPDAA867KG/vXnrppb6f\n",
              "2unp6YlNmzaN6PPulVdeiRdffLHv9qOPPhrnnXdeNDU19VtX9de6in0kuUJ2795dzJkzp5g8eXJx\n",
              "6aWXFrt27SqKoig+97nPFY899ljfugcffLCYOHFiMXHixGLp0qXF8ePHqzVyzShn7+67775i+vTp\n",
              "RUtLSzF9+vTizjvv7PspgpHq5ptvLt73vvcVo0aNKsaMGVNMmjSpKArnXDnK2Tvn3ED79+8vIqKY\n",
              "OHFi0draWrS2thazZ88uiqIoVq5cWXz/+9/vW/vYY48VU6dOLSZNmlRce+21xSuvvFKtsWtCuXu3\n",
              "cePG4uKLL+4772699dbi2LFj1Ry9qrq6uoqOjo7ikksuKVpaWor58+f3/cRiLb3W+d1PAEAKqd5+\n",
              "AgBGLlEDAKQgagCAFEQNAJCCqAEAUhA1AEAKogYASEHUAAApiBoAIAVRAwCkIGoAgBT+D3VgrASF\n",
              "P8ksAAAAAElFTkSuQmCC\n",
              "\">\n",
              "      </div>\n",
              "      <script type=\"text/javascript\">\n",
              "        (() => {\n",
              "          const chartElement = document.getElementById(\"chart-15530c00-d00f-4406-959d-c0bdfa071272\");\n",
              "          async function getCodeForChartHandler(event) {\n",
              "            const chartCodeResponse =  await google.colab.kernel.invokeFunction(\n",
              "                'getCodeForChart', [\"chart-15530c00-d00f-4406-959d-c0bdfa071272\"], {});\n",
              "            const responseJson = chartCodeResponse.data['application/json'];\n",
              "            await google.colab.notebook.addCell(responseJson.code, 'code');\n",
              "          }\n",
              "          chartElement.onclick = getCodeForChartHandler;\n",
              "        })();\n",
              "      </script>\n",
              "      <style>\n",
              "        .colab-quickchart-chart-with-code  {\n",
              "            display: block;\n",
              "            float: left;\n",
              "            border: 1px solid transparent;\n",
              "        }\n",
              "\n",
              "        .colab-quickchart-chart-with-code:hover {\n",
              "            cursor: pointer;\n",
              "            border: 1px solid #aaa;\n",
              "        }\n",
              "      </style>"
            ]
          },
          "metadata": {}
        },
        {
          "output_type": "display_data",
          "data": {
            "text/plain": [
              "from matplotlib import pyplot as plt\n",
              "import seaborn as sns\n",
              "_df_2.groupby('am').size().plot(kind='barh', color=sns.palettes.mpl_palette('Dark2'))\n",
              "plt.gca().spines[['top', 'right',]].set_visible(False)"
            ],
            "text/html": [
              "      <div class=\"colab-quickchart-chart-with-code\" id=\"chart-dd816f0b-d799-4ac5-a587-32903b91c7c1\">\n",
              "        <img style=\"width: 180px;\" src=\"data:image/png;base64,iVBORw0KGgoAAAANSUhEUgAAAjUAAAGZCAYAAABxI8CQAAAAOXRFWHRTb2Z0d2FyZQBNYXRwbG90\n",
              "bGliIHZlcnNpb24zLjguMCwgaHR0cHM6Ly9tYXRwbG90bGliLm9yZy81sbWrAAAACXBIWXMAAA9h\n",
              "AAAPYQGoP6dpAAATQUlEQVR4nO3db2yVd9nA8eusfSwYLDx1oiADhPEnTGiBthB1041MBgRnNuJY\n",
              "MjdhOo0uzmcuI7wgA2PcXugMYZnGaFBHWBaFbA7FxRlQ3zgyN0IcYtax8kcxkz9jxK1llPt58SQN\n",
              "fcq2tqPnHK5+PglJz91f2+v8cufw3X3ujlJRFEUAAFzkLqn0AAAAF4KoAQBSEDUAQAqiBgBIQdQA\n",
              "ACmIGgAgBVEDAKQgagCAFEQNAJDCkIqa9evXV3oEAGCQDKmoOXDgQKVHAAAGyZCKGgAgL1EDAKQg\n",
              "agCAFEQNAJCCqAEAUhA1AEAKogYASEHUAAApiBoAIAVRAwCkIGoAgBREDQCQgqgBAFIQNQBACqIG\n",
              "AEhB1AAAKYgaACAFUQMApCBqAIAURA0AkIKoAQBSEDUAQAqiBgBIQdQAACmIGgAgBVEDAKQgagCA\n",
              "FEQNAJCCqAEAUhA1AEAKogYASEHUAAApiBoAIAVRAwCkIGoAgBREDQCQgqgBAFIQNQBACqIGAEhB\n",
              "1AAAKYgaACAFUQMApCBqAIAURA0AkEKpKIqi0kOUy4orSrG6RcdRXlN/2lXpEQCGBH/DAwApiBoA\n",
              "IAVRAwCkIGoAgBREDQCQgqgBAFIQNQBACqIGAEhB1AAAKYgaACAFUQMApCBqAIAURA0AkIKoAQBS\n",
              "EDUAQAqiBgBIQdQAACmIGgAgBVEDAKQgagCAFEQNAJCCqAEAUhA1AEAKogYASEHUAAApiBoAIAVR\n",
              "AwCkIGoAgBREDQCQgqgBAFIQNQBACqIGAEhB1AAAKYgaACAFUQMApCBqAIAURA0AkIKoAQBSEDUA\n",
              "QAqiBgBIQdQAACnUlusHNTU1RUTE6dOn4+9//3vMnDkzIiKmTZsWjz32WLnGAACSKlvU7N69OyIi\n",
              "2tvbo6mpqfvxuc6cORO1tWUbCQBIpOJvP02cODFWrVoVra2tcdttt8XOnTu7r+pERPz1r3+NiRMn\n",
              "dj9+6qmn4hOf+ETMnTs3WltbY8eOHeUfGgCoOlVxWeTYsWPxzDPPRKlUip07d77luv3798fatWvj\n",
              "qaeeivr6+mhra4srr7wy2tvbo66ursfazs7O6Ozs7HGs6+xgTA8AVIOqiJovfOELUSqV3nHdb3/7\n",
              "22hra4urrrqq+9gll1wSBw8ejClTpvRYe//998e6det6HGu89MLMCwBUn6qImhEjRnR/XFtbG11d\n",
              "Xd2POzo6uj8uiiKuvfba2Lx58zt+z9WrV8fdd9/d49id80ZegGkBgGpU8Xtq/r9JkybFgQMH4t//\n",
              "/ndERDzyyCPdn1u4cGE8/fTTsWfPnu5ju3btOu/3qauri/r6+h5/aqru2QIAF0pVXKk519ixY+Pe\n",
              "e++N1tbW+OAHPxiLFi3q/tzll18emzdvji9/+cvx+uuvx+nTp2P27Nl9unIDAORWKoqiqPQQ5bLi\n",
              "ilKsbnG5hvKa+tOud14EwLvmb3gAIAVRAwCkIGoAgBREDQCQgqgBAFIQNQBACqIGAEhB1AAAKYga\n",
              "ACAFUQMApCBqAIAURA0AkIKoAQBSEDUAQAqiBgBIQdQAACmIGgAgBVEDAKQgagCAFEQNAJCCqAEA\n",
              "UhA1AEAKogYASEHUAAApiBoAIAVRAwCkIGoAgBREDQCQgqgBAFIQNQBACqIGAEhB1AAAKYgaACAF\n",
              "UQMApCBqAIAURA0AkIKoAQBSEDUAQAqiBgBIQdQAACmIGgAghdpKD1BO/73wf2Lqgw9WegwAYBC4\n",
              "UgMApCBqAIAURA0AkIKoAQBSEDUAQAqiBgBIQdQAACmIGgAgBVEDAKQgagCAFEQNAJCCqAEAUhA1\n",
              "AEAKogYASEHUAAApiBoAIAVRAwCkIGoAgBREDQCQgqgBAFIQNQBACqIGAEhB1AAAKYgaACAFUQMA\n",
              "pCBqAIAURA0AkIKoAQBSEDUAQAqiBgBIQdQAACmIGgAgBVEDAKQgagCAFEQNAJCCqAEAUhA1AEAK\n",
              "ogYASEHUAAApiBoAIIXa/n7B3r17Y+3atdHW1hZnzpzpPr5nz54LOhgAQH/0O2qWL18et956a9x5\n",
              "551RU1MzGDMBAPRbv6OmpqYm7rnnnsGYBQBgwPp9T83VV18df/zjHwdjFgCAAev3lZply5bFwoUL\n",
              "433ve18MGzYsiqKIUqkU+/fvH4z5AAD6pN9Rs2LFili/fn00Nze7pwYAqBr9jpoRI0bEypUrB2MW\n",
              "AIAB6/c9NUuWLIknn3xyMGYBABiwfl+p2bBhQ5w8eTKGDx8edXV13ffUHD9+fDDmAwDok35Hze7d\n",
              "uwdhDACAd6ffUTN8+PBYu3Zt7N69Ozo6OrqPP/fccxd0MACA/uj3PTW33357TJgwIY4ePRrr1q2L\n",
              "sWPHxpIlSwZjNgCAPut31Bw6dChWrVoVdXV1sXTp0ti6dWs8/fTTgzEbAECf9Ttq3vOe90RExLBh\n",
              "w+LYsWNRW1sbR48eveCDAQD0R7/vqZk6dWocO3Ysbrnllpg3b17U19fH3LlzB2M2AIA+63fUbNq0\n",
              "KSIi7rrrrmhubo4TJ07Eddddd8EHAwDoj35Hzbk+/vGPX6g5AADelX7fUwMAUI1EDQCQgqgBAFIQ\n",
              "NQBACqIGAEhB1AAAKYgaACAFUQMApCBqAIAURA0AkIKoAQBSEDUAQAqiBgBIQdQAACmIGgAgBVED\n",
              "AKQgagCAFEQNAJCCqAEAUhA1AEAKogYASEHUAAApiBoAIAVRAwCkIGoAgBREDQCQgqgBAFIQNQBA\n",
              "CqIGAEhB1AAAKYgaACAFUQMApCBqAIAURA0AkIKoAQBSKBVFUVR6iHIZsbAlRi1fUOkxACCVwyse\n",
              "qPQIEeFKDQCQhKgBAFIQNQBACqIGAEhB1AAAKYgaACAFUQMApCBqAIAURA0AkIKoAQBSEDUAQAqi\n",
              "BgBIQdQAACmIGgAgBVEDAKQgagCAFEQNAJCCqAEAUhA1AEAKogYASEHUAAApiBoAIAVRAwCkIGoA\n",
              "gBREDQCQgqgBAFIQNQBACqIGAEhB1AAAKYgaACAFUQMApCBqAIAURA0AkIKoAQBSEDUAQAqiBgBI\n",
              "QdQAACmIGgAgBVEDAKQgagCAFEQNAJDCoEbNxIkTY9q0adHU1BRNTU3xxS9+8S3XfupTn4rHH398\n",
              "MMcBABKrHewf8Nhjj0VTU9Ng/xgAYIgr69tPmzdvjnnz5sXs2bOjsbExnnzyyfOu+/GPfxwzZsyI\n",
              "pqammDlzZjzzzDMREfHiiy/GkiVLoqWlJWbNmhUPPfRQOccHAKrYoF+puemmm2L48OEREbFmzZr4\n",
              "85//HKVSKdrb22P+/Plx4MCBqKur6/E13/zmN2Pfvn0xZsyYePPNN6OzszO6urri5ptvjk2bNsX0\n",
              "6dPj9ddfj/nz58e8efOipaWl18/t7OyMzs7Onge7ikF7ngBAZZX17adnn302Fi1aFIcPH47a2to4\n",
              "fvx4vPzyyzF9+vQeX7NgwYL4/Oc/H0uXLo1FixbF1KlTY+/evfHCCy/E8uXLu9edOnUq9u7de96o\n",
              "uf/++2PdunU9jv3XpLEX/gkCAFVh0KPmXMuXL48HHnggli1bFhERDQ0N0dHR0Wvdli1b4i9/+Uvs\n",
              "3LkzFi9eHN/+9rdj5syZ0dDQELt37+7Tz1q9enXcfffdPY6NveGad/0cAIDqVNaoOXHiRHzkIx+J\n",
              "iIhNmzbFiRMneq05c+ZMtLe3R3NzczQ3N8fRo0dj165dsWzZsqivr4+NGzfGihUrIiKira0tGhoa\n",
              "oqGhodf3qaur6/W2VtSULvyTAgCqQlmjZv369bFs2bIYNWpUXHPNNTF+/Phea7q6umLlypVx/Pjx\n",
              "qK2tjQ984AOxcePGqK2tjW3btsU3vvGN+P73vx9dXV1x6aWXxubNm8v5FACAKlUqimLI3D07YmFL\n",
              "jFq+oNJjAEAqh1c8UOkRIsL/URgASELUAAApiBoAIAVRAwCkIGoAgBREDQCQgqgBAFIQNQBACqIG\n",
              "AEhB1AAAKYgaACAFUQMApCBqAIAURA0AkIKoAQBSEDUAQAqiBgBIQdQAACmIGgAgBVEDAKQgagCA\n",
              "FEQNAJCCqAEAUhA1AEAKogYASEHUAAApiBoAIAVRAwCkIGoAgBREDQCQgqgBAFIQNQBACqIGAEhB\n",
              "1AAAKYgaACAFUQMApCBqAIAURA0AkIKoAQBSEDUAQAqiBgBIobbSA5TTHVdcGQ+ueKDSYwAAg8CV\n",
              "GgAgBVEDAKQgagCAFEQNAJCCqAEAUhA1AEAKogYASEHUAAApiBoAIAVRAwCkIGoAgBREDQCQgqgB\n",
              "AFIQNQBACqIGAEhB1AAAKYgaACAFUQMApCBqAIAURA0AkIKoAQBSEDUAQAqiBgBIQdQAACmIGgAg\n",
              "BVEDAKQgagCAFEQNAJCCqAEAUhA1AEAKogYASEHUAAApiBoAIAVRAwCkIGoAgBREDQCQgqgBAFIQ\n",
              "NQBACqIGAEhB1AAAKYgaACAFUQMApCBqAIAURA0AkIKoAQBSqK30AOXS2dkZ27dvj66urqipqan0\n",
              "OBeVrq6u2LVrV7S2ttq7frJ3A2PfBs7eDZy9G5hy7NuECRPirrvuesd1paIoikGZoMq89tprMXLk\n",
              "yDh58mTU19dXepyLir0bOHs3MPZt4OzdwNm7gammffP2EwCQgqgBAFIQNQBACkMmaurq6uK+++6L\n",
              "urq6So9y0bF3A2fvBsa+DZy9Gzh7NzDVtG9D5kZhACC3IXOlBgDITdQAACmIGgAghXRR8+KLL8bH\n",
              "PvaxmDp1arS0tMQLL7xw3nU/+clPYsqUKTF58uT40pe+FG+++WaZJ60+fdm7nTt3xvDhw6Opqan7\n",
              "zxtvvFGBaavH17/+9Zg4cWKUSqXYvXv3W65zzvXWl71zzvXW0dERn/3sZ2Pq1KnR2NgY1157bbS1\n",
              "tZ137bZt22L69OkxZcqUuOGGG+K1114r87TVpa97197eHjU1NT3Ou5deeqkCE1ePT3/60zFr1qxo\n",
              "amqKK6+8Mp5//vnzrqvoa12RzNVXX11s3LixKIqi+MUvflE0Nzf3WrN///5izJgxxZEjR4qzZ88W\n",
              "S5cuLR566KEyT1p9+rJ3O3bsKBobG8s7WJX7wx/+UBw6dKiYMGFC8fzzz593jXPu/Pqyd8653t54\n",
              "443i17/+dXH27NmiKIpiw4YNxSc/+cle606dOlWMHj26+Nvf/lYURVF87WtfK+65555yjlp1+rp3\n",
              "L7/8cjFy5MjyDlflTpw40f3x1q1bi1mzZvVaU+nXulRXal555ZV49tln45ZbbomIiBtvvDEOHTrU\n",
              "q8J/+ctfxmc+85n40Ic+FKVSKb7yla/Eo48+WomRq0Zf947errrqqhg3btzbrnHOnV9f9o7ehg0b\n",
              "FosXL45SqRQREfPnz4/29vZe67Zv3x6zZ8+O6dOnR0TEV7/61SF/3vV17+ht1KhR3R+fPHmyew/P\n",
              "VenXulRRc+jQoRgzZkzU1v7fv9NZKpVi/PjxcfDgwR7rDh48GBMmTOh+PHHixF5rhpq+7l1ExEsv\n",
              "vRRz5syJlpaWePjhh8s96kXJOffuOOfe3vr16+P666/vdfx8592RI0fizJkz5Ryvqr3V3kVE/Oc/\n",
              "/4mWlpaYM2dOfOtb34qurq4yT1d9br311rjssstizZo18cgjj/T6fKVf64bMv9LNhTFnzpw4fPhw\n",
              "jBw5Mg4fPhyLFy+OSy+9ND73uc9VejSScs69ve985zvR1tYWv//97ys9ykXn7fZuzJgx8Y9//CNG\n",
              "jx4dx48fj5tuuim+973vxb333luBSavHz3/+84iI+NnPfharVq2K3/zmNxWeqKdUV2ouu+yyHv8V\n",
              "UhRFHDx4MMaPH99j3fjx4+PAgQPdj9vb23utGWr6unf19fUxcuTIiIgYN25c3HzzzfGnP/2p7PNe\n",
              "bJxzA+ece2vf/e53Y+vWrbF9+/Z473vf2+vz5zvvzr0iO5S9097V1dXF6NGjIyKioaEhVq5c6bw7\n",
              "x2233RY7duyIY8eO9The6de6VFEzevTomDNnTmzatCkiIrZs2RLjxo2Lyy+/vMe6G2+8MX71q1/F\n",
              "v/71ryiKIn74wx/G8uXLKzFy1ejr3h05ciTOnj0bERGnTp2Kbdu2xezZs8s+78XGOTdwzrnze/DB\n",
              "B+PRRx+N3/3udz3udTjXddddF88991zs27cvIiIefvhh5130be9eeeWV7t/a6ezsjK1btw7p8+7V\n",
              "V1+Nf/7zn92PH3/88Xj/+98fDQ0NPdZV/LWubLckl8m+ffuK+fPnF1OmTCnmzp1b7NmzpyiKorj9\n",
              "9tuLJ554onvdj370o2LSpEnFpEmTipUrVxanT5+u1MhVoy97t2HDhmLGjBnFrFmzihkzZhT33Xdf\n",
              "928RDFV33HFH8eEPf7ioqakpRo8eXUyePLkoCudcX/Rl75xzvR06dKiIiGLSpElFY2Nj0djYWLS2\n",
              "thZFURRr1qwpfvCDH3SvfeKJJ4pp06YVkydPLq6//vri1VdfrdTYVaGve7dly5biiiuu6D7v7rzz\n",
              "zqKjo6OSo1dUe3t70dLSUnz0ox8tZs2aVSxYsKD7Nxar6bXOv/0EAKSQ6u0nAGDoEjUAQAqiBgBI\n",
              "QdQAACmIGgAgBVEDAKQgagCAFEQNAJCCqAEAUhA1AEAKogYASOF/Ad9cmPAsD1UTAAAAAElFTkSu\n",
              "QmCC\n",
              "\">\n",
              "      </div>\n",
              "      <script type=\"text/javascript\">\n",
              "        (() => {\n",
              "          const chartElement = document.getElementById(\"chart-dd816f0b-d799-4ac5-a587-32903b91c7c1\");\n",
              "          async function getCodeForChartHandler(event) {\n",
              "            const chartCodeResponse =  await google.colab.kernel.invokeFunction(\n",
              "                'getCodeForChart', [\"chart-dd816f0b-d799-4ac5-a587-32903b91c7c1\"], {});\n",
              "            const responseJson = chartCodeResponse.data['application/json'];\n",
              "            await google.colab.notebook.addCell(responseJson.code, 'code');\n",
              "          }\n",
              "          chartElement.onclick = getCodeForChartHandler;\n",
              "        })();\n",
              "      </script>\n",
              "      <style>\n",
              "        .colab-quickchart-chart-with-code  {\n",
              "            display: block;\n",
              "            float: left;\n",
              "            border: 1px solid transparent;\n",
              "        }\n",
              "\n",
              "        .colab-quickchart-chart-with-code:hover {\n",
              "            cursor: pointer;\n",
              "            border: 1px solid #aaa;\n",
              "        }\n",
              "      </style>"
            ]
          },
          "metadata": {}
        },
        {
          "output_type": "display_data",
          "data": {
            "text/plain": [
              "from matplotlib import pyplot as plt\n",
              "import seaborn as sns\n",
              "_df_3.groupby('learning').size().plot(kind='barh', color=sns.palettes.mpl_palette('Dark2'))\n",
              "plt.gca().spines[['top', 'right',]].set_visible(False)"
            ],
            "text/html": [
              "      <div class=\"colab-quickchart-chart-with-code\" id=\"chart-eb8f24b1-4a95-4b73-8b5d-660ce457cca9\">\n",
              "        <img style=\"width: 180px;\" src=\"data:image/png;base64,iVBORw0KGgoAAAANSUhEUgAAAjUAAAGZCAYAAABxI8CQAAAAOXRFWHRTb2Z0d2FyZQBNYXRwbG90\n",
              "bGliIHZlcnNpb24zLjguMCwgaHR0cHM6Ly9tYXRwbG90bGliLm9yZy81sbWrAAAACXBIWXMAAA9h\n",
              "AAAPYQGoP6dpAAAVt0lEQVR4nO3dfZCVdf3w8c9pz+2q4yz8SClQgUAe1IDlYQGbsJRM0dBKSmhQ\n",
              "EywrC7ut0fEPB2ma9I+iUAfDqTAlGKdktChiopHGphEGlZwkTNTloWhUHsRUVlmu+4977h33Xsxz\n",
              "1t0964fXa8aZPdd+YT/7nWsOb69z7dlSURRFAAC8x72v1gMAAHQFUQMApCBqAIAURA0AkIKoAQBS\n",
              "EDUAQAqiBgBIQdQAACmIGgAghaMqahYvXlzrEQCAbnJURc327dtrPQIA0E2OqqgBAPISNQBACqIG\n",
              "AEhB1AAAKYgaACAFUQMApCBqAIAURA0AkIKoAQBSEDUAQAqiBgBIQdQAACmIGgAgBVEDAKQgagCA\n",
              "FEQNAJCCqAEAUhA1AEAKogYASEHUAAApiBoAIAVRAwCkIGoAgBREDQCQgqgBAFIQNQBACqIGAEhB\n",
              "1AAAKYgaACAFUQMApCBqAIAURA0AkIKoAQBSEDUAQAqiBgBIQdQAACmIGgAgBVEDAKQgagCAFEQN\n",
              "AJCCqAEAUhA1AEAKogYASEHUAAAplIqiKGo9RE+56sxS3NSk4+hZI+5prfUIAEcF/8IDACmIGgAg\n",
              "BVEDAKQgagCAFEQNAJCCqAEAUhA1AEAKogYASEHUAAApiBoAIAVRAwCkIGoAgBREDQCQgqgBAFIQ\n",
              "NQBACqIGAEhB1AAAKYgaACAFUQMApCBqAIAURA0AkIKoAQBSEDUAQAqiBgBIQdQAACmIGgAgBVED\n",
              "AKQgagCAFEQNAJCCqAEAUhA1AEAKogYASEHUAAApiBoAIAVRAwCkIGoAgBREDQCQgqgBAFIQNQBA\n",
              "CqIGAEhB1AAAKZR76gs1NjZGRMQbb7wRTz/9dIwePToiIkaOHBn3339/T40BACTVY1GzefPmiIho\n",
              "bm6OxsbGtsdvdejQoSiXe2wkACCRmr/8NGTIkLjxxhtj0qRJceWVV8b69evbrupERPztb3+LIUOG\n",
              "tD1eu3ZtfPSjH40JEybEpEmT4uGHH+75oQGAXqdXXBbZs2dPbNiwIUqlUqxfv/5t1z333HNxyy23\n",
              "xNq1a6OhoSG2bdsWU6dOjebm5qivr2+3tqWlJVpaWtodaz3cHdMDAL1Br4iaL37xi1Eqld5x3e9/\n",
              "//vYtm1bnH322W3H3ve+98WOHTti+PDh7dbeeuutsXDhwnbHxp7YNfMCAL1Pr4iaE044oe3jcrkc\n",
              "ra2tbY8PHjzY9nFRFHHeeefFihUr3vHvvOmmm+L6669vd+zrk/t0wbQAQG9U83tq/n9Dhw6N7du3\n",
              "x4svvhgREffdd1/b584///xYt25dPPnkk23HNm7ceMS/p76+PhoaGtr9V9frvlsAoKv0iis1bzVw\n",
              "4MC44YYbYtKkSfGBD3wgpk+f3va50047LVasWBHXXHNNvPbaa/HGG2/EuHHjKrpyAwDkViqKoqj1\n",
              "ED3lqjNLcVOTyzX0rBH3tL7zIgDeNf/CAwApiBoAIAVRAwCkIGoAgBREDQCQgqgBAFIQNQBACqIG\n",
              "AEhB1AAAKYgaACAFUQMApCBqAIAURA0AkIKoAQBSEDUAQAqiBgBIQdQAACmIGgAgBVEDAKQgagCA\n",
              "FEQNAJCCqAEAUhA1AEAKogYASEHUAAApiBoAIAVRAwCkIGoAgBREDQCQgqgBAFIQNQBACqIGAEhB\n",
              "1AAAKYgaACAFUQMApCBqAIAURA0AkIKoAQBSEDUAQAqiBgBIQdQAACmUaz1AT/qf8/93jFi0qNZj\n",
              "AADdwJUaACAFUQMApCBqAIAURA0AkIKoAQBSEDUAQAqiBgBIQdQAACmIGgAgBVEDAKQgagCAFEQN\n",
              "AJCCqAEAUhA1AEAKogYASEHUAAApiBoAIAVRAwCkIGoAgBREDQCQgqgBAFIQNQBACqIGAEhB1AAA\n",
              "KYgaACAFUQMApFCu9g+cc845USqV2h3r27dvnHXWWTF//vyor6/vsuEAACpV9ZWaCRMmRLlcjnnz\n",
              "5sXVV18dxxxzTAwcODA2bdoU3/jGN7pjRgCAd1T1lZq//OUv8cgjj0RdXV1ERHzuc5+LqVOnxp//\n",
              "/OcYPXp0lw8IAFCJqq/U7Nmzp93LT6VSKfbt2xflcjmOPfbYLh0OAKBSVV+pmTZtWkyfPj3mzJkT\n",
              "ERErVqyIc889N/7zn/+4nwYAqJmqo+b222+PpUuXxoMPPhgREZ/61KfimmuuiXK5HI8++mhXzwcA\n",
              "UJGqo6ZcLse1114b1157bXfMAwDQKVVHzf79+2Pp0qXx7LPPxqFDh9qO/+xnP+vSwQAAqlF11Myc\n",
              "OTNOOumkOOuss9p+AgoAoNaqjprdu3fHunXrumMWAIBOq/pHuocNGxb79+/vhlEAADqv6is1xx9/\n",
              "fIwfPz4uuOCCdu9Ls2jRoi4dDACgGlVHzemnnx6nn356d8wCANBpVUfNggULumMOAIB3peKoWbly\n",
              "ZcyePTtuv/32I35+/vz5XTYUAEC1Ko6arVu3RkTEE0880eFzb/1dUAAAtVBx1CxcuDAiIpYtW9Zt\n",
              "wwAAdFbV99RERGzYsKHDOwpfccUVXTYUAEC1qo6ar371q7F27dpobGxse0fhUqkkagCAmqo6atat\n",
              "Wxdbtmxp9x41AAC1VvU7Cg8YMCDq6+u7YxYAgE6r+krN5MmTY+bMmXHZZZe1u1pz8cUXd+lgAADV\n",
              "qDpqNm3aFBERd911V9uxUqkkagCAmqoqalpbW+Mzn/mMN9oDAHqdqu6pqauri3vvvbe7ZgEA6LSq\n",
              "bxT+xCc+Eb/4xS+6YxYAgE6r+p6apUuXxssvvxzz5s2L448/PoqiiFKpFHv37u2O+QAAKlJ11Gze\n",
              "vLkbxgAAeHeqjprBgwd3xxwAAO9K1VHzwgsvxIIFC+Kvf/1rHDx4sO34448/3qWDAQBUo+obhefN\n",
              "mxdDhgyJl156KRYuXBgDBw6Miy66qDtmAwCoWNVRs3Pnzrjxxhujvr4+ZsyYEatWrYp169Z1x2wA\n",
              "ABWrOmqOOeaYiIg49thjY8+ePVEul+Oll17q8sEAAKpR9T01I0aMiD179sScOXNi8uTJ0dDQEBMm\n",
              "TOiO2QAAKlZ11CxfvjwiIq677rqYOHFi7Nu3Ly644IIuHwwAoBpVR01ExGOPPRZbtmyJyy+/PPbt\n",
              "2xcvvvhiDBgwoKtnAwCoWNX31CxZsiTmzp0bt9xyS0RE7N27N77whS909VwAAFWpOmruvvvuePTR\n",
              "R6OhoSEiIoYNGxYvvvhilw8GAFCNqqOmvr4+jjvuuHbHyuVOvYoFANBlqo6ak046Kf7xj39EqVSK\n",
              "iIh77rknBg0a1OWDAQBUo+pLLD/60Y9i9uzZsXXr1jj11FOjoaEhVq9e3R2zAQBUrOqoOe2002LD\n",
              "hg3x9NNPR1EUMXLkyKirq+uO2QAAKlZx1Bw4cKDd45NPPjkiIl599dWIiLYbhwEAaqHiqOnbt2+U\n",
              "SqUoiqLt2P97XCqVorW1tVsGBACoRMVRc/jw4e6cAwDgXan6p58AAHojUQMApCBqAIAURA0AkIKo\n",
              "AQBSEDUAQAqiBgBIQdQAACmIGgAgBVEDAKQgagCAFEQNAJCCqAEAUhA1AEAKogYASEHUAAApiBoA\n",
              "IAVRAwCkIGoAgBREDQCQgqgBAFIoFUVR1HqInnLC+U3Rd9a0Wo8BAKnsuuq2Wo8QEa7UAABJiBoA\n",
              "IAVRAwCkIGoAgBREDQCQgqgBAFIQNQBACqIGAEhB1AAAKYgaACAFUQMApCBqAIAURA0AkIKoAQBS\n",
              "EDUAQAqiBgBIQdQAACmIGgAgBVEDAKQgagCAFEQNAJCCqAEAUhA1AEAKogYASEHUAAApiBoAIAVR\n",
              "AwCkIGoAgBREDQCQgqgBAFIQNQBACqIGAEhB1AAAKYgaACAFUQMApCBqAIAURA0AkIKoAQBSEDUA\n",
              "QAqiBgBIQdQAACl0a9QMGTIkRo4cGY2NjdHY2BhXX3312679+Mc/Hg8++GB3jgMAJFbu7i9w//33\n",
              "R2NjY3d/GQDgKNejLz+tWLEiJk+eHOPGjYuxY8fGb37zmyOu+8lPfhJnnHFGNDY2xujRo2PDhg0R\n",
              "EfHMM8/ERRddFE1NTTFmzJi48847e3J8AKAX6/YrNZdddlkcd9xxERFx8803x6OPPhqlUimam5tj\n",
              "ypQpsX379qivr2/3Z771rW/F1q1bY8CAAfHmm29GS0tLtLa2xuzZs2P58uUxatSoeO2112LKlCkx\n",
              "efLkaGpq6vB1W1paoqWlpf3B1qLbvk8AoLZ69OWnTZs2xfTp02PXrl1RLpdj79698fzzz8eoUaPa\n",
              "/Zlp06bF5ZdfHjNmzIjp06fHiBEjYsuWLfHUU0/FrFmz2ta98sorsWXLliNGza233hoLFy5sd+x/\n",
              "DR3Y9d8gANArdHvUvNWsWbPitttui5kzZ0ZERL9+/eLgwYMd1j3wwAPx2GOPxfr16+PCCy+M7373\n",
              "uzF69Ojo169fbN68uaKvddNNN8X111/f7tjAz577rr8HAKB36tGo2bdvX3zoQx+KiIjly5fHvn37\n",
              "Oqw5dOhQNDc3x8SJE2PixInx0ksvxcaNG2PmzJnR0NAQy5Yti6uuuioiIrZt2xb9+vWLfv36dfh7\n",
              "6uvrO7ysFXWlrv+mAIBeoUejZvHixTFz5szo27dvnHvuuTFo0KAOa1pbW2Pu3Lmxd+/eKJfLcdJJ\n",
              "J8WyZcuiXC7H6tWr45vf/Gb88Ic/jNbW1jjxxBNjxYoVPfktAAC9VKkoiqPm7tkTzm+KvrOm1XoM\n",
              "AEhl11W31XqEiPCOwgBAEqIGAEhB1AAAKYgaACAFUQMApCBqAIAURA0AkIKoAQBSEDUAQAqiBgBI\n",
              "QdQAACmIGgAgBVEDAKQgagCAFEQNAJCCqAEAUhA1AEAKogYASEHUAAApiBoAIAVRAwCkIGoAgBRE\n",
              "DQCQgqgBAFIQNQBACqIGAEhB1AAAKYgaACAFUQMApCBqAIAURA0AkIKoAQBSEDUAQAqiBgBIQdQA\n",
              "ACmIGgAgBVEDAKQgagCAFEQNAJCCqAEAUhA1AEAK5VoP0JO+fObUWHTVbbUeAwDoBq7UAAApiBoA\n",
              "IAVRAwCkIGoAgBREDQCQgqgBAFIQNQBACqIGAEhB1AAAKYgaACAFUQMApCBqAIAURA0AkIKoAQBS\n",
              "EDUAQAqiBgBIQdQAACmIGgAgBVEDAKQgagCAFEQNAJCCqAEAUhA1AEAKogYASEHUAAApiBoAIAVR\n",
              "AwCkIGoAgBREDQCQgqgBAFIQNQBACqIGAEhB1AAAKYgaACAFUQMApCBqAIAURA0AkIKoAQBSEDUA\n",
              "QAqiBgBIQdQAACmIGgAgBVEDAKQgagCAFEQNAJBCudYD9JSWlpZYs2ZNtLa2Rl1dXa3HeU9pbW2N\n",
              "jRs3xqRJk+xdlexd59i3zrN3nWfvOqcn9m3w4MFx3XXXveO6UlEURbdM0MscOHAg+vTpEy+//HI0\n",
              "NDTUepz3FHvXefauc+xb59m7zrN3ndOb9s3LTwBACqIGAEhB1AAAKRw1UVNfXx8LFiyI+vr6Wo/y\n",
              "nmPvOs/edY596zx713n2rnN6074dNTcKAwC5HTVXagCA3EQNAJCCqAEAUkgXNc8880x85CMfiREj\n",
              "RkRTU1M89dRTR1z305/+NIYPHx7Dhg2LL33pS/Hmm2/28KS9TyV7t379+jjuuOOisbGx7b/XX3+9\n",
              "BtP2HvPnz48hQ4ZEqVSKzZs3v+0651xHleydc66jgwcPxqc//ekYMWJEjB07Ns4777zYtm3bEdeu\n",
              "Xr06Ro0aFcOHD4/PfvazceDAgR6etnepdO+am5ujrq6u3Xn37LPP1mDi3uOTn/xkjBkzJhobG2Pq\n",
              "1KnxxBNPHHFdTZ/rimTOOeecYtmyZUVRFMUvf/nLYuLEiR3WPPfcc8WAAQOK3bt3F4cPHy5mzJhR\n",
              "3HnnnT08ae9Tyd49/PDDxdixY3t2sF7uT3/6U7Fz585i8ODBxRNPPHHENc65I6tk75xzHb3++uvF\n",
              "b3/72+Lw4cNFURTFHXfcUXzsYx/rsO6VV14p+vfvX/z9738viqIorr322uLb3/52T47a61S6d88/\n",
              "/3zRp0+fnh2ul9u3b1/bx6tWrSrGjBnTYU2tn+tSXal54YUXYtOmTTFnzpyIiLj00ktj586dHSr8\n",
              "V7/6VVx88cXxwQ9+MEqlUnzlK1+JlStX1mLkXqPSvaOjs88+O0455ZT/usY5d2SV7B0dHXvssXHh\n",
              "hRdGqVSKiIgpU6ZEc3Nzh3Vr1qyJcePGxahRoyIi4mtf+9pRf95Vund01Ldv37aPX3755bY9fKta\n",
              "P9elipqdO3fGgAEDolz+v7+ns1QqxaBBg2LHjh3t1u3YsSMGDx7c9njIkCEd1hxtKt27iIhnn302\n",
              "xo8fH01NTbFkyZKeHvU9yTn37jjn/rvFixfHJZdc0uH4kc673bt3x6FDh3pyvF7t7fYuIuLVV1+N\n",
              "pqamGD9+fHznO9+J1tbWHp6u97niiivi1FNPjZtvvjnuu+++Dp+v9XPdUfNbuuka48ePj127dkWf\n",
              "Pn1i165dceGFF8aJJ54Yn//852s9Gkk55/67733ve7Ft27b44x//WOtR3nP+294NGDAg/vnPf0b/\n",
              "/v1j7969cdlll8UPfvCDuOGGG2owae9x7733RkTEz3/+87jxxhvjd7/7XY0nai/VlZpTTz213f+F\n",
              "FEURO3bsiEGDBrVbN2jQoNi+fXvb4+bm5g5rjjaV7l1DQ0P06dMnIiJOOeWUmD17djzyyCM9Pu97\n",
              "jXOu85xzb+/73/9+rFq1KtasWRPHH398h88f6bx76xXZo9k77V19fX30798/IiL69esXc+fOdd69\n",
              "xZVXXhkPP/xw7Nmzp93xWj/XpYqa/v37x/jx42P58uUREfHAAw/EKaecEqeddlq7dZdeemn8+te/\n",
              "jn//+99RFEX8+Mc/jlmzZtVi5F6j0r3bvXt3HD58OCIiXnnllVi9enWMGzeux+d9r3HOdZ5z7sgW\n",
              "LVoUK1eujD/84Q/t7nV4qwsuuCAef/zx2Lp1a0RELFmyxHkXle3dCy+80PZTOy0tLbFq1aqj+rzb\n",
              "v39//Otf/2p7/OCDD8b73//+6NevX7t1NX+u67FbknvI1q1biylTphTDhw8vJkyYUDz55JNFURTF\n",
              "vHnzioceeqht3d13310MHTq0GDp0aDF37tzijTfeqNXIvUYle3fHHXcUZ5xxRjFmzJjijDPOKBYs\n",
              "WND2UwRHqy9/+cvFySefXNTV1RX9+/cvhg0bVhSFc64Sleydc66jnTt3FhFRDB06tBg7dmwxduzY\n",
              "YtKkSUVRFMXNN99c3HXXXW1rH3rooWLkyJHFsGHDiksuuaTYv39/rcbuFSrduwceeKA488wz2867\n",
              "r3/968XBgwdrOXpNNTc3F01NTcWHP/zhYsyYMcW0adPafmKxNz3X+d1PAEAKqV5+AgCOXqIGAEhB\n",
              "1AAAKYgaACAFUQMApCBqAIAURA0AkIKoAQBSEDUAQAqiBgBIQdQAACn8H1aGOzOFnyASAAAAAElF\n",
              "TkSuQmCC\n",
              "\">\n",
              "      </div>\n",
              "      <script type=\"text/javascript\">\n",
              "        (() => {\n",
              "          const chartElement = document.getElementById(\"chart-eb8f24b1-4a95-4b73-8b5d-660ce457cca9\");\n",
              "          async function getCodeForChartHandler(event) {\n",
              "            const chartCodeResponse =  await google.colab.kernel.invokeFunction(\n",
              "                'getCodeForChart', [\"chart-eb8f24b1-4a95-4b73-8b5d-660ce457cca9\"], {});\n",
              "            const responseJson = chartCodeResponse.data['application/json'];\n",
              "            await google.colab.notebook.addCell(responseJson.code, 'code');\n",
              "          }\n",
              "          chartElement.onclick = getCodeForChartHandler;\n",
              "        })();\n",
              "      </script>\n",
              "      <style>\n",
              "        .colab-quickchart-chart-with-code  {\n",
              "            display: block;\n",
              "            float: left;\n",
              "            border: 1px solid transparent;\n",
              "        }\n",
              "\n",
              "        .colab-quickchart-chart-with-code:hover {\n",
              "            cursor: pointer;\n",
              "            border: 1px solid #aaa;\n",
              "        }\n",
              "      </style>"
            ]
          },
          "metadata": {}
        },
        {
          "output_type": "display_data",
          "data": {
            "text/plain": [
              "<google.colab._quickchart_helpers.SectionTitle at 0x78e109433730>"
            ],
            "text/html": [
              "<h4 class=\"colab-quickchart-section-title\">2-d categorical distributions</h4>\n",
              "<style>\n",
              "  .colab-quickchart-section-title {\n",
              "      clear: both;\n",
              "  }\n",
              "</style>"
            ]
          },
          "metadata": {}
        },
        {
          "output_type": "display_data",
          "data": {
            "text/plain": [
              "from matplotlib import pyplot as plt\n",
              "import seaborn as sns\n",
              "import pandas as pd\n",
              "plt.subplots(figsize=(8, 8))\n",
              "df_2dhist = pd.DataFrame({\n",
              "    x_label: grp['NLP'].value_counts()\n",
              "    for x_label, grp in _df_4.groupby('I')\n",
              "})\n",
              "sns.heatmap(df_2dhist, cmap='viridis')\n",
              "plt.xlabel('I')\n",
              "_ = plt.ylabel('NLP')"
            ],
            "text/html": [
              "      <div class=\"colab-quickchart-chart-with-code\" id=\"chart-840f9dd7-f1f7-44f4-9eb3-c0ffa75fb6c9\">\n",
              "        <img style=\"width: 180px;\" src=\"data:image/png;base64,iVBORw0KGgoAAAANSUhEUgAAAnwAAAKfCAYAAAD0PRV6AAAAOXRFWHRTb2Z0d2FyZQBNYXRwbG90\n",
              "bGliIHZlcnNpb24zLjguMCwgaHR0cHM6Ly9tYXRwbG90bGliLm9yZy81sbWrAAAACXBIWXMAAA9h\n",
              "AAAPYQGoP6dpAAAjh0lEQVR4nO3dfYxc1Xk/8GewyUCb7BJSq2Bc72JsDAT8QnhTSlwMAkNaAr/U\n",
              "bXFKFJoaDI3kElM5XRoHu6Vs9FPKi35RCsgRLSBTREoixwqJDIYIWmFezUuoCQYvlgOkUezYQdSD\n",
              "vTO/P5Ju99Q27JqZneXx54NG2r1z956zI614/H3uObfSaDQaAQBAWge0ewIAALSWgg8AIDkFHwBA\n",
              "cgo+AIDkFHwAAMkp+AAAklPwAQAkp+ADAEhOwQcAkJyCDwCgTXbs2BEXXnhhHH300TF9+vQ4++yz\n",
              "Y8OGDXs8d9WqVXHMMcfElClT4tOf/nRs3759yOMo+AAA2uiyyy6LF198MZ555pm44IILYv78+bud\n",
              "8+abb8af//mfx3e+85146aWXYvz48fF3f/d3Qx5DwQcA0CYHHXRQfPKTn4xKpRIREaeddlr09fXt\n",
              "dt59990XM2fOjGOOOSYiIv7iL/4i7rrrriGPM7YpswUAICIiarVa1Gq14li1Wo1qtfquP3vTTTfF\n",
              "BRdcsNvxTZs2RVdX18D33d3d8frrr8euXbti7Nh3L+feFwVf/Y2j2z0FoEXmjJ/e7ikALbK6fk/b\n",
              "xm5n7dB782di2bJlxbFrrrkmli5d+o4/d91118WGDRvigQceaPqc3hcFHwDA+0VPT08sWrSoOPZu\n",
              "6d7Xvva1uPfee+P++++P3/iN39jt/YkTJ8bq1asHvu/r64vDDz98SOlehHv4AICE6m38r1qtRkdH\n",
              "R/F6p4Lv+uuvj7vuuitWr14dhxxyyB7POffcc+Opp56K9evXR0TEN77xjbjooouG/HlI+AAA2mTz\n",
              "5s1x1VVXxaRJk2L27NkR8as0cO3atfGVr3wlxo8fH5dffnl86EMfiuXLl8eFF14Yu3btiuOPPz7+\n",
              "+Z//ecjjVBqNRqNVv0SzuIcP8nIPH+TVznv4dr0xuW1jjz1sz/votZOEDwBIp79Rb9vYo7G4cg8f\n",
              "AEByo7EIBQB4T+ox6u9YG1ESPgCA5BR8AADJaekCAOnUo32LNkYjCR8AQHISPgAgnf7Rv83wiJLw\n",
              "AQAkJ+EDANKxLUtJwgcAkJyCDwAgOS1dACCdfi3dgoQPACA5CR8AkI5FGyUJHwBAcgo+AIDktHQB\n",
              "gHQ8aaMk4QMASE7CBwCkU2/3BEYZCR8AQHISPgAgHRsvlyR8AADJKfgAAJLT0gUA0unX0S1I+AAA\n",
              "kpPwAQDp2JalJOEDAEhOwQcAkJyWLgCQTn9U2j2FUUXCBwCQnIQPAEinbluWgoQPACA5CR8AkI57\n",
              "+EoSPgCA5BR8AADJaekCAOlo6ZYkfAAAyUn4AIB06g0J32ASPgCA5BR8AADJaekCAOlYtFGS8AEA\n",
              "JCfhAwDS6ZdpFXwaAADJSfgAgHRsy1KS8AEAJKfgAwBITksXAEjHtiwlCR8AQHISPgAgnf6GTGsw\n",
              "nwYAQHIKPgCA5LR0AYB06jKtgk8DACA5CR8AkI5tWUoSPgCA5CR8AEA6tmUp+TQAAJJT8AEAJKel\n",
              "CwCkU7dooyDhAwBITsIHAKTTL9Mq+DQAAJJT8AEAJKelCwCkYx++kk8DACA5CR8AkE5dplXwaQAA\n",
              "JCfhAwDS6W/YeHkwCR8AQHIKPgCA5LR0AYB0PGmj5NMAAEhOwgcApFO38XLBpwEAkJyCDwAgOS1d\n",
              "ACAdizZKPg0AgOQkfABAOp60UZLwAQAkp+ADAEhOSxcASKcu0yr4NAAAkpPwAQDp9HvSRsGnAQCQ\n",
              "nIQPAEinHrZlGUzCBwCQnIIPACA5LV0AIB2LNko+DQCA5CR8AEA6/TKtgk8DACA5BR8AQHJaugBA\n",
              "OvWGffgGk/ABACQn4QMA0rFoo+TTAABITsIHAKRTt/FywacBAJCcgg8AIDktXQAgnf6wLctgEj4A\n",
              "gOQkfABAOhZtlHwaAADJKfgAAJLT0gUA0rFooyThAwBITsIHAKRj0UbJpwEAkJyEDwBIp1/CV/Bp\n",
              "AAAkp+ADAEhOSxcASKduW5aChA8AoE0WLlwY3d3dUalUYt26dXs8p16vx6JFi+K4446LadOmxezZ\n",
              "s2PDhg3DGkfBBwCk0984oG2v4Zg7d2488sgj0dXVtddzVq5cGf/2b/8WzzzzTDz77LNx1llnxdVX\n",
              "Xz2scbR0AQDaZNasWe96TqVSiVqtFjt27IixY8fG9u3bY8KECcMaR8EHANBEtVotarVacaxarUa1\n",
              "Wt2n651//vnx4IMPxmGHHRYf+tCH4ogjjogf/vCHw7qGli4AkE69UWnbq7e3Nzo7O4tXb2/vPv8u\n",
              "TzzxRDz//PPxk5/8JF577bU466yz4vLLLx/WNSR8AABN1NPTE4sWLSqO7Wu6FxFx++23x5lnnhmH\n",
              "HHJIRER87nOfi3POOWdY15DwAQDp9McBbXtVq9Xo6OgoXu+l4Js0aVKsWbMm3n777YiIWLVqVRx/\n",
              "/PHDuoaCDwCgTRYsWBATJkyIzZs3x5w5c2Ly5MkRETF//vxYuXJlRER84QtfiCOPPDKmT58e06ZN\n",
              "iwceeCD+8R//cVjjVBqNRqPps2+y+htHt3sKQIvMGT+93VMAWmR1/Z62jb34mT9q29j/d3r7fu+9\n",
              "kfABACSn4AMASM4qXQAgnbpMq+DTAABITsIHAKTT36i0ewqjioQPACA5BR8AQHJaugBAOnUt3YKE\n",
              "DwAgOQkfAJBOvSHTGsynAQCQnIQPAEinP9zDN5iEDwAgOQUfAEByWroAQDq2ZSmNSML35JNPxh13\n",
              "3BEREVu3bo3XX399JIYFACBGoOD7xje+EZ///Odj6dKlERGxZcuW+MxnPtPqYQGA/Vi9cUDbXqNR\n",
              "y2d16623xqOPPhodHR0REXHUUUfFz372s1YPCwDAr7W84KtWq3HwwQcXx8aOdesgAMBIaXnlNW7c\n",
              "uPjxj38clcqvbp78p3/6p5g4cWKrhwUA9mN1+/AVWl7w3XjjjTFv3rxYv359/M7v/E50dHTEqlWr\n",
              "Wj0sAAC/1vKCb/LkybF27dp48cUXo9FoxNSpU2PMmDGtHhYA2I/125al0PJ7+B5//PHYsWNHHHvs\n",
              "sfH888/Hl770pXjttddaPSwAAL/W8oJv/vz5Ua1W46WXXoq/+Zu/iQMPPDD+7M/+rNXDAgD7Mduy\n",
              "lFo+qzFjxsSYMWPivvvuiyuuuCJ6e3vjP//zP1s9LAAAv9bygq9Wq8VPf/rT+O53vxtnnHFGRET0\n",
              "9/e/4/nbt28vXrVavdXTBABIq+UF3xe/+MWYOnVqdHZ2xoknnhgvv/xyfPjDH97r+b29vdHZ2Vm8\n",
              "vvr/trZ6mgBAIvVGpW2v0ajSaDQaIzlgvV6PXbt2xQc+8IE9vl+r1aJWqxXHDtx6YlSro7MnDrw3\n",
              "c8ZPb/cUgBZZXb+nbWN/du38to19x6nL2zb23rRsW5aVK1e+4/uf+tSn9ni8Wq1GtVotjtXfUuwB\n",
              "AENn4+VSywq+G264Ya/vVSqVvRZ8AAA0V8sKvgcffLBVlwYAYBha/qSNiIidO3fGxo0bY8eOHQPH\n",
              "pk2bNhJDAwD7odG6eKJdWl7wrVq1Ki699NLYunVr/OZv/mZs3bo1urq6YuPGja0eGgCAGIGCb8mS\n",
              "JfHoo4/GhRdeGE8//XTceeed8cwzz7R6WABgPzZan3jRLi3/NA444IDo6uqKXbt2RUTExRdfHGvW\n",
              "rGn1sAAA/FrLE74DDzwwIiImTJgQ3/72t6O7uzu2brWRMgDASGlZwXfZZZfFrbfeGn/5l38Z3/72\n",
              "t+Paa6+Niy66KH7xi1/ETTfd1KphAQAs2vhfWlbwPfHEExERMW/evDjxxBPjqaeeipdeeqlVwwEA\n",
              "sBcjsi3LCD+9DQDYz3nSRqllBd9//dd/xXPPPReNRiN27Ngx8PV/sw8fAMDIaGnBN/jxaYO/rlQq\n",
              "8corr7RqaABgP+cevlLLCr6+vr5WXRoAgGGwKyEAQHIjsmgDAGAkaemWJHwAAMlJ+ACAdCR8JQkf\n",
              "AEByCj4AgOS0dAGAdLR0SxI+AIDkJHwAQDqepVuS8AEAJCfhAwDScQ9fScIHAJCcgg8AIDktXQAg\n",
              "HS3dkoQPACA5CR8AkI6EryThAwBITsEHAJCcli4AkI6WbknCBwCQnIQPAEinIeErSPgAAJKT8AEA\n",
              "6dRDwjeYhA8AIDkFHwBAclq6AEA6tmUpSfgAAJKT8AEA6diWpSThAwBITsEHAJCcli4AkI5FGyUJ\n",
              "HwBAchI+ACAdizZKEj4AgOQkfABAOu7hK0n4AACSU/ABACSnpQsApNNotHsGo4uEDwAgOQkfAJBO\n",
              "PSzaGEzCBwCQnIIPACA5LV0AIB1P2ihJ+AAAkpPwAQDpeNJGScIHAJCchA8ASMfGyyUJHwBAcgo+\n",
              "AIDktHQBgHRsy1KS8AEAJCfhAwDSkfCVJHwAAMkp+AAAktPSBQDS8aSNkoQPACA5CR8AkI4nbZQk\n",
              "fAAAyUn4AIB0bMtSkvABACSn4AMASE5LFwBIR0u3JOEDAEhOwgcApGNXlpKEDwAgOQUfAEByWroA\n",
              "QDoWbZQkfAAAyUn4AIB8rNooSPgAAJJT8AEAJKelCwCkY9FGScIHANAmCxcujO7u7qhUKrFu3bq9\n",
              "nvfcc8/FGWecEccee2wce+yxce+99w5rHAkfAJBO432yaGPu3LmxePHiOP300/d6zltvvRUXXHBB\n",
              "3H777XH66adHf39/bNmyZVjjKPgAANpk1qxZ73rOihUr4rTTThsoCseMGRPjxo0b1jgKPgAgnXbe\n",
              "w1er1aJWqxXHqtVqVKvVfbreCy+8ENVqNf7gD/4gNm/eHNOmTYt/+Id/GFbR5x4+AIAm6u3tjc7O\n",
              "zuLV29u7z9fbtWtX3H///XHLLbfE008/HUcccURcccUVw7qGhA8AoIl6enpi0aJFxbF9TfciIiZO\n",
              "nBizZ8+OI444IiIiLr744pgzZ86wrqHgAwDyaWNL9720b/fkj//4j+Ob3/xmbN++PTo6OuJ73/te\n",
              "TJ8+fVjX0NIFAGiTBQsWxIQJE2Lz5s0xZ86cmDx5ckREzJ8/P1auXBkRv0r4rr766vj4xz8e06ZN\n",
              "izVr1sTNN988rHEqjcboX7hcf+Podk8BaJE544f3r1Tg/WN1/Z62jT3pruvaNvYr865u29h7I+ED\n",
              "AEhOwQcAkJxFGwBAPqP+hrWRJeEDAEhOwgcApNPOJ22MRhI+AIDkJHwAQD7u4StI+AAAklPwAQAk\n",
              "p6ULAKRj0UZJwgcAkJyEDwDIx6KNgoQPACA5BR8AQHJaugBAQhZtDCbhAwBITsIHAORj0UZBwgcA\n",
              "kJyEDwDIR8JXkPABACSn4AMASE5LFwDIx7N0CxI+AIDkJHwAQDoNizYKEj4AgOQUfAAAyWnpAgD5\n",
              "aOkWJHwAAMlJ+ACAfGzLUpDwAQAkJ+EDANKpuIevIOEDAEhOwQcAkJyWLgCQj5ZuQcIHAJCchA8A\n",
              "yMe2LAUJHwBAcgo+AIDktHQBgHws2ihI+AAAkpPwAQD5SPgKEj4AgOQkfABAPhK+goQPACA5BR8A\n",
              "QHJaugBAPp60UZDwAQAkJ+EDANKpWLRRkPABACSn4AMASG7IBd9zzz0XJ510UnR0dMTs2bNj06ZN\n",
              "rZwXAMC+a7TxNQoNueD7whe+EH/6p38aa9eujU984hOxePHiVs4LAIAmGfKijW3btsUXv/jFiIj4\n",
              "27/92zjxxBNbNikAAJpnyAnfmDFjWjkPAABaZMgJ3/r164tU739//9RTTzV3ZgAA+8i2LKUhF3z3\n",
              "3XdfK+cBAECLDLng+73f+729vnfjjTe+4/sAALRPU560cf3118eVV17ZjEvt0Zzx01t2baC9Vtfv\n",
              "afcUgIw8S7fQlI2XGw2NcgCA0aopCV+loooGAEYRWVRhyAXfokWL9ni80WjEtm3bmjYhAACaa8gF\n",
              "X2dn517f21sxCABA+w254Js9e3Yr5wEA0DxauoUhF3xXXXVVVCqVYoFGpVKJ1157LV5//fXo7+9v\n",
              "yQQBAHhvhlzwPf7448X3W7ZsiWuvvTbuvPPOWLZsWdMnBgCwrzxpozTsbVl27NgRvb29cdxxx0VE\n",
              "xH/8x3/El7/85aZPDACA5hhywVev1+PWW2+NKVOmxPr162Pt2rVx/fXXx0c+8pFWzg8AgPdoyC3d\n",
              "448/Pmq1Wlx33XUxffr02LZtWzz77LMD70+bNq0lEwQAGDYt3cKQC7633norKpVKfOUrX9ntvUql\n",
              "Eq+88kpTJwYAQHMMueDr6+tr4TQAAJpIwldoyrN0AQAYvZryLF0AgNHEtiwlCR8AQHIKPgCA5LR0\n",
              "AYB8GpV2z2BUkfABACQn4QMA8rFooyDhAwBITsEHAJCcli4AkI59+EoSPgCA5CR8AEA+Er6ChA8A\n",
              "IDkJHwCQjnv4ShI+AIDkFHwAAMlp6QIA+WjpFiR8AADJSfgAgHwkfAUJHwBAcgo+AIDktHQBgHTs\n",
              "w1eS8AEAJKfgAwBITsEHAJCce/gAgHzcw1eQ8AEAJKfgAwBITksXAEjHtiwlCR8AQHISPgAgHwlf\n",
              "QcIHAJCcgg8AIDktXQAgHy3dgoQPACA5CR8AkI5tWUoSPgCA5CR8AEA+Er6ChA8AIDkFHwBAclq6\n",
              "AEA6Fm2UJHwAAMlJ+ACAfCR8BQkfAEByCj4AgOQUfABAPo02voZh4cKF0d3dHZVKJdatW/fOv1Kj\n",
              "EWeeeWYccsghwxskFHwAAG0zd+7ceOSRR6Krq+tdz73hhhviqKOO2qdxLNoAANJp57YstVotarVa\n",
              "caxarUa1Wt3t3FmzZg3pmj/60Y/iO9/5Ttx2221xzz33DHtOEj4AgCbq7e2Nzs7O4tXb27vP19u5\n",
              "c2dceumlccstt8SYMWP26RoSPgAgnzYmfD09PbFo0aLi2J7SvaFatmxZfPrTn45jjz02+vr69uka\n",
              "Cj4AgCbaW/t2X/3whz+MTZs2xde//vXYtWtXbN++Pbq7u+Pxxx+PcePGDekaCj4AgFHs4YcfHvi6\n",
              "r68vZsyYMeykzz18AEA+75NtWRYsWBATJkyIzZs3x5w5c2Ly5MkRETF//vxYuXLlPv3qeyLhAwBo\n",
              "k1tuuWWPx5cvX77H493d3fGLX/xi2OMo+ACAdNq5LctopKULAJCcgg8AIDktXQAgHy3dgoQPACA5\n",
              "CR8AkI5FGyUJHwBAchI+ACAfCV9BwgcAkJyCDwAgOS1dACAfLd2ChA8AIDkJHwCQTqXdExhlJHwA\n",
              "AMkp+AAAktPSBQDysWijIOEDAEhOwgcApONZuiUJHwBAcgo+AIDktHQBgHy0dAsSPgCA5CR8AEA+\n",
              "Er6ChA8AIDkJHwCQjm1ZShI+AIDkFHwAAMlp6QIA+WjpFiR8AADJSfgAgHQs2ihJ+AAAklPwAQAk\n",
              "p6ULAOSjpVuQ8AEAJCfhAwDSsWijJOEDAEhOwgcA5CPhK0j4AACSU/ABACSnpQsA5KOlW5DwAQAk\n",
              "J+EDANKxLUtJwgcAkJyCDwAgOS1dACAfLd2ChA8AIDkJHwCQTqUh4htMwgcAkJyEDwDIR8BXkPAB\n",
              "ACSn4AMASE5LFwBIx5M2ShI+AIDkJHwAQD4SvoKEDwAgOQUfAEByWroAQDoWbZQkfAAAyUn4AIB8\n",
              "JHwFCR8AQHISPgAgHffwlSR8AADJKfgAAJLT0gUA8tHSLUj4AACSk/ABAOlYtFGS8AEAJKfgAwBI\n",
              "TksXAMinoac7mIQPACA5CR8AkI5FGyUJHwBAchI+ACAfCV9BwgcAkJyCDwAgOS1dACCdSr3dMxhd\n",
              "Wprw7dy5M15++eVWDgEAwLtoWcH30EMPRVdXV8yePTsiIh5//PG4+OKLWzUcAMD/aLTxNQq1rOD7\n",
              "67/+63j44YfjIx/5SEREnHzyyfH000+3ajgAAPaiZQVff39/HHXUUcWxD3zgA60aDgCAvWjZoo2D\n",
              "Djoo3nzzzahUKhER8dxzz8XBBx/cquEAAAZ40kapZQXfkiVL4pxzzomf/OQncfHFF8f9998fK1as\n",
              "aNVwAADsRcsKvnPOOSemTJkS3//+96PRaMSyZct2a/ECALREQ8Q3WEv34TvyyCPjiiuuaOUQAAC8\n",
              "i5YVfEceeeTA/XuDvfLKK60aEgAgItzD97+1rOBbtWrVwNc7duyIO+64Y2CLFgAARk7LCr6PfvSj\n",
              "xfcf+9jH4uMf/3gsWbLkHX+uVqtFrVYrjtUb/XFAZUzT5wgAsD9o6aPVBvv5z38eb7zxxrue19vb\n",
              "G52dncVrY6wfgRkCAGl40kahZQnfzJkzB+7h6+/vj1dffTUWL178rj/X09MTixYtKo79n85LWjFF\n",
              "AID9QssKvhtvvPF/Bhk7NiZNmhSHH374u/5ctVqNarVaHNPOBQCGw6KNUksKvv7+/li+fHnccccd\n",
              "rbg8AADD0JJ7+MaMGRM//vGPW3FpAACGqWUt3dmzZ8dll10Wl1xySXzwgx8cOD5t2rRWDQkA8Cue\n",
              "tFFoesE3b968uOuuu+Luu++OiIjVq1cPvFepVGy8DAAwwppe8K1f/6stVDZu3NjsSwMADIlFG6Wm\n",
              "38O3p8epAQDQPk1P+J599tk49NBDdzveaDSiUqnEli1bmj0kAADvoOkF39SpU+N73/tesy8LADB0\n",
              "WrqFphd81Wo1urq6mn1ZAAD2UdMLvoZl0ABAm1m0UWr6oo2nn3662ZcEAOA9aNnGywAAbVMX8Q3W\n",
              "kkerAQAweij4AACS09IFAPLR0S1I+AAAkpPwAQDp2JalJOEDAEhOwQcAkJyWLgCQjyd/FSR8AADJ\n",
              "SfgAgHQs2ihJ+AAAkpPwAQD5SPgKEj4AgDZZuHBhdHd3R6VSiXXr1u3xnDVr1sQpp5wSxx13XHz0\n",
              "ox+NxYsXR71eH9Y4Cj4AgDaZO3duPPLII9HV1bXXcz784Q/Hv/zLv8QLL7wQTz75ZPz7v/973H77\n",
              "7cMaR0sXAEin8j7ZlmXWrFnves7MmTMHvj7ooINixowZ0dfXN6xxFHwAAE1Uq9WiVqsVx6rValSr\n",
              "1fd87TfeeCO+9a1vxapVq4b1c1q6AEA+9fa9ent7o7Ozs3j19va+519p+/btcf7558fixYvjpJNO\n",
              "GtbPSvgAAJqop6cnFi1aVBx7r+neL3/5yzj33HPjggsu2O3aQ6HgAwBooma1b//bm2++Geeee26c\n",
              "e+658eUvf3mfrqGlCwCkU2k02vYajgULFsSECRNi8+bNMWfOnJg8eXJERMyfPz9WrlwZERE33XRT\n",
              "PPbYY3HvvffGjBkzYsaMGfH3f//3w/08Rv8ylrMP+KN2TwFokdX1e9o9BSChs8587/fM7asH1vS0\n",
              "bey90dIFAPIZ9XHWyNLSBQBITsIHAOQz+u9YG1ESPgCA5BR8AADJaekCAOlUdHQLEj4AgOQkfABA\n",
              "PhZtFCR8AADJKfgAAJLT0gUA0qnU2z2D0UXCBwCQnIQPAMjHoo2ChA8AIDkJHwCQj4CvIOEDAEhO\n",
              "wQcAkJyWLgCQTsWijYKEDwAgOQkfAJCPhK8g4QMASE7BBwCQnJYuAJCPZ+kWJHwAAMlJ+ACAdGzL\n",
              "UpLwAQAkJ+EDAPKR8BUkfAAAySn4AACS09IFAPLR0i1I+AAAkpPwAQD52Hi5IOEDAEhOwQcAkJyW\n",
              "LgCQjidtlCR8AADJSfgAgHwkfAUJHwBAchI+ACAfCV9BwgcAkJyCDwAgOS1dACAfLd2ChA8AIDkJ\n",
              "HwCQj2fpFiR8AADJKfgAAJLT0gUA0vEs3ZKEDwAgOQkfAJCPhK8g4QMASE7BBwCQnJYuAJBPXUt3\n",
              "MAkfAEByEj4AIB+LNgoSPgCA5CR8AEA+Er6ChA8AIDkFHwBAclq6AEA+WroFCR8AQHISPgAgHxsv\n",
              "FyR8AADJKfgAAJLT0gUA8mnU2z2DUUXCBwCQnIQPAMjHtiwFCR8AQHISPgAgH9uyFCR8AADJKfgA\n",
              "AJLT0gUA8rFooyDhAwBITsIHAOQj4StI+AAAklPwAQAkp6ULAOSjpVuQ8AEAJCfhAwDyqdfbPYNR\n",
              "RcIHAJCchA8AyMc9fAUJHwBAcgo+AIDktHQBgHy0dAsSPgCA5CR8AEA+dQnfYBI+AIDkFHwAAMlp\n",
              "6QIA6TQanrQxmIQPACA5CR8AkI9FGwUJHwBAchI+ACAfGy8XJHwAAMkp+AAAktPSBQDyqduWZTAJ\n",
              "HwBAchI+ACAfizYKEj4AgOQUfAAAyWnpAgDpNCzaKEj4AACSk/ABAPlYtFGQ8AEAJCfhAwDyqUv4\n",
              "BpPwAQAkp+ADAEhOSxcAyKdhW5bBJHwAAMlJ+ACAdBoWbRQkfAAAySn4AACS09IFAPKxaKMg4QMA\n",
              "SE7CBwCkY9FGScIHANAmCxcujO7u7qhUKrFu3bq9nvfNb34zpkyZEkcddVRceumlsXPnzmGNo+AD\n",
              "APJp1Nv3Goa5c+fGI488El1dXXs9Z+PGjbFkyZJ4+OGHY8OGDfHTn/40br311mGNo+ADAGiTWbNm\n",
              "xYQJE97xnG9961vxqU99Kg477LCoVCpx+eWXx1133TWscdzDBwDQRLVaLWq1WnGsWq1GtVrdp+tt\n",
              "2rSpSAC7u7tj06ZNw7rG+6LgW12/p91TYITUarXo7e2Nnp6eff7DAEYnf9+MpHbWDkuXLo1ly5YV\n",
              "x6655ppYunRpeyYUWrqMMrVaLZYtW7bbv4yA9z9/3+wvenp6Ytu2bcWrp6dnn683ceLEePXVVwe+\n",
              "7+vri4kTJw7rGgo+AIAmqlar0dHRUbzeS6r9h3/4h7Fy5cp44403otFoxM033xwXXXTRsK6h4AMA\n",
              "aJMFCxbEhAkTYvPmzTFnzpyYPHlyRETMnz8/Vq5cGRERkyZNimXLlsXv/u7vxuTJk2PcuHGxYMGC\n",
              "YY1TaTQadiZk1Ni+fXt0dnbGtm3boqOjo93TAZrI3ze0j4SPUaVarcY111zjhm5IyN83tI+EDwAg\n",
              "OQkfAEByCj4AgOQUfAAAyb0vnrTB+1d3d3dUq9U4+OCDIyLipJNOiuXLl+/x3DPOOCOuvPLKuPDC\n",
              "C0dwhsB7MWPGjIiIePvtt+PFF1+ME044ISIipk6dGnfffXcbZwYMpuCj5e6+++6B/ykAuaxbty4i\n",
              "frXz/4wZMwa+H2zXrl0xdqz/3UA7aekyolasWBGnnnpqzJw5M6ZPnx7f/e5393je8uXL47jjjosZ\n",
              "M2bECSecEGvXro2IiJdeeil+//d/P04++eSYNm1afP3rXx/J6QND1N3dHV/60pfilFNOic997nPx\n",
              "0EMPFf/we/7556O7u3vg+x/84Adx+umnx8c+9rE45ZRT4sEHHxz5SUNi/slFy/3Jn/zJQEt3yZIl\n",
              "8eijj0alUom+vr447bTT4tVXX91tX66rrroq1q9fH4cffnjs3LkzarVa9Pf3x7x58+LOO++MY445\n",
              "Jt5666047bTT4tRTT42TTz65Hb8a8A5+/vOfx9q1a6NSqcRDDz201/NeeeWVWLp0afzgBz+Ijo6O\n",
              "2LBhQ3ziE5+Ivr4+e/ZBkyj4aLnBLd0nnngizjvvvNi8eXOMHTs2tmzZEhs3boxjjjmm+Jmzzjor\n",
              "PvvZz8b5558f5513Xhx99NHxwgsvxI9+9KPi+YG//OUv44UXXlDwwSh0ySWXRKVSedfzvv/978eG\n",
              "DRti1qxZA8cOOOCA2LRpU0yZMqWVU4T9hoKPEXXRRRfFV7/61Zg7d25ERBx66KGxY8eO3c7713/9\n",
              "13jyySfjoYceik9+8pNx7bXXxgknnBCHHnroHu8RAkafD37wgwNfjx07Nvr7+we+H/x332g04uyz\n",
              "z44VK1aM6Pxgf+IePkbU1q1b48gjj4yIiDvvvDO2bt262zm7du2Kl19+OU466aT4q7/6q5g7d248\n",
              "9thjMXXq1Ojo6Ijbbrtt4NwNGzbEli1bRmz+wL6ZNGlSvPrqq/Gzn/0sIiLuuOOOgffmzJkT999/\n",
              "fzz77LMDxx577LERnyNkJuFjRN10000xd+7cOOSQQ+LMM8+MiRMn7nZOf39/fP7zn48tW7bE2LFj\n",
              "Y9y4cXHbbbfF2LFjY9WqVXHllVfGDTfcEP39/fFbv/VbUgF4Hxg/fnwsXrw4TjnllPjt3/7tOO+8\n",
              "8wbemzx5cqxYsSIWLFgQb731Vrz99tsxc+ZMf9vQRJ6lCwCQnJYuAEByCj4AgOQUfEBbdXd3W3kN\n",
              "0GIKPgCA5BR8AADJKfgAAJJT8AEAJKfgAwBITsEHAJCcgg8AIDmPVgMASE7CBwCQnIIPACA5BR8A\n",
              "QHIKPgCA5BR8AADJKfgAAJJT8AEAJKfgAwBITsEHAJCcgg8AIDkFHwBAcv8fWr/s+Fs6gaUAAAAA\n",
              "SUVORK5CYII=\n",
              "\">\n",
              "      </div>\n",
              "      <script type=\"text/javascript\">\n",
              "        (() => {\n",
              "          const chartElement = document.getElementById(\"chart-840f9dd7-f1f7-44f4-9eb3-c0ffa75fb6c9\");\n",
              "          async function getCodeForChartHandler(event) {\n",
              "            const chartCodeResponse =  await google.colab.kernel.invokeFunction(\n",
              "                'getCodeForChart', [\"chart-840f9dd7-f1f7-44f4-9eb3-c0ffa75fb6c9\"], {});\n",
              "            const responseJson = chartCodeResponse.data['application/json'];\n",
              "            await google.colab.notebook.addCell(responseJson.code, 'code');\n",
              "          }\n",
              "          chartElement.onclick = getCodeForChartHandler;\n",
              "        })();\n",
              "      </script>\n",
              "      <style>\n",
              "        .colab-quickchart-chart-with-code  {\n",
              "            display: block;\n",
              "            float: left;\n",
              "            border: 1px solid transparent;\n",
              "        }\n",
              "\n",
              "        .colab-quickchart-chart-with-code:hover {\n",
              "            cursor: pointer;\n",
              "            border: 1px solid #aaa;\n",
              "        }\n",
              "      </style>"
            ]
          },
          "metadata": {}
        },
        {
          "output_type": "display_data",
          "data": {
            "text/plain": [
              "from matplotlib import pyplot as plt\n",
              "import seaborn as sns\n",
              "import pandas as pd\n",
              "plt.subplots(figsize=(8, 8))\n",
              "df_2dhist = pd.DataFrame({\n",
              "    x_label: grp['am'].value_counts()\n",
              "    for x_label, grp in _df_5.groupby('NLP')\n",
              "})\n",
              "sns.heatmap(df_2dhist, cmap='viridis')\n",
              "plt.xlabel('NLP')\n",
              "_ = plt.ylabel('am')"
            ],
            "text/html": [
              "      <div class=\"colab-quickchart-chart-with-code\" id=\"chart-f94c4cce-2ba6-47a0-8af5-543ce1d88ae9\">\n",
              "        <img style=\"width: 180px;\" src=\"data:image/png;base64,iVBORw0KGgoAAAANSUhEUgAAAnwAAAKfCAYAAAD0PRV6AAAAOXRFWHRTb2Z0d2FyZQBNYXRwbG90\n",
              "bGliIHZlcnNpb24zLjguMCwgaHR0cHM6Ly9tYXRwbG90bGliLm9yZy81sbWrAAAACXBIWXMAAA9h\n",
              "AAAPYQGoP6dpAAAkdElEQVR4nO3dfZCV5Xk/8OsIeqDVRW2YKlJ2ReTFRF4U0UksIzq6GGv0Z2mL\n",
              "DmnUoGjbIZZksGtDhdFmM502hkkmVQfHRh2MY2oyyORlQCXVdnwX0TASUZCSaJoIkTiUI7vn/P5I\n",
              "ut2ngHJwz57l4vNxzszus8957nvPzI4X3+u576dUq9VqAQBAWoc1ewIAADSWgg8AIDkFHwBAcgo+\n",
              "AIDkFHwAAMkp+AAAklPwAQAkp+ADAEhOwQcAkJyCDwCgSXbt2hWXXnppjB07NiZNmhTnn39+bNy4\n",
              "ca/nrly5MsaPHx8nn3xyXHbZZbFjx479HkfBBwDQRNdee21s2LAhXnzxxbjkkkti7ty5e5zz7rvv\n",
              "xmc/+9n47ne/G6+++mqMGDEibrnllv0eQ8EHANAkQ4YMiU9+8pNRKpUiIuKss86KzZs373He97//\n",
              "/ZgyZUqMHz8+IiL+4i/+Iu6///79Hmdwn8wWAICIiKhUKlGpVArHyuVylMvlD3zv0qVL45JLLtnj\n",
              "+JYtW6K1tbXn+7a2tnjzzTejq6srBg/+4HLuoCj4qm+NbfYUgAZpHzGp2VMAGmRV9cGmjd3M2qHz\n",
              "9itiyZIlhWM333xzLF68+H3f96UvfSk2btwYjzzySJ/P6aAo+AAADhYdHR2xYMGCwrEPSvf+8R//\n",
              "MR566KFYvXp1/M7v/M4ePx81alSsWrWq5/vNmzfH8ccfv1/pXoR7+ACAhKpN/K9cLkdLS0vh9X4F\n",
              "31e+8pW4//77Y9WqVXH00Ufv9ZyZM2fG888/H6+88kpERHzjG9+I2bNn7/fnIeEDAGiSrVu3xuc/\n",
              "//kYPXp0zJgxIyJ+kwY+9dRT8Xd/93cxYsSIuO666+Koo46KZcuWxaWXXhpdXV3xsY99LL75zW/u\n",
              "9zilWq1Wa9Qv0Vfcwwd5uYcP8mrmPXxdb41p2tiDj9v7PnrNJOEDANLprlWbNvZALK7cwwcAkNxA\n",
              "LEIBAD6Uagz4O9b6lYQPACA5BR8AQHJaugBAOtVo3qKNgUjCBwCQnIQPAEine+BvM9yvJHwAAMlJ\n",
              "+ACAdGzLUiThAwBITsEHAJCcli4AkE63lm6BhA8AIDkJHwCQjkUbRRI+AIDkFHwAAMlp6QIA6XjS\n",
              "RpGEDwAgOQkfAJBOtdkTGGAkfAAAyUn4AIB0bLxcJOEDAEhOwQcAkJyWLgCQTreOboGEDwAgOQkf\n",
              "AJCObVmKJHwAAMkp+AAAktPSBQDS6Y5Ss6cwoEj4AACSk/ABAOlUbctSIOEDAEhOwgcApOMeviIJ\n",
              "HwBAcgo+AIDktHQBgHS0dIskfAAAyUn4AIB0qjUJX28SPgCA5BR8AADJaekCAOlYtFEk4QMASE7C\n",
              "BwCk0y3TKvBpAAAkJ+EDANKxLUuRhA8AIDkFHwBAclq6AEA6tmUpkvABACQn4QMA0umuybR682kA\n",
              "ACSn4AMASE5LFwBIpyrTKvBpAAAkJ+EDANKxLUuRhA8AIDkJHwCQjm1ZinwaAADJKfgAAJLT0gUA\n",
              "0qlatFEg4QMASE7CBwCk0y3TKvBpAAAkp+ADAEhOSxcASMc+fEU+DQCA5CR8AEA6VZlWgU8DACA5\n",
              "CR8AkE53zcbLvUn4AACSU/ABACSnpQsApONJG0U+DQCA5CR8AEA6VRsvF/g0AACSU/ABACSnpQsA\n",
              "pGPRRpFPAwAgOQkfAJCOJ20USfgAAJJT8AEAJKelCwCkU5VpFfg0AACSk/ABAOl0e9JGgU8DACA5\n",
              "CR8AkE41bMvSm4QPACA5BR8AQHJaugBAOhZtFPk0AACSk/ABAOl0y7QKfBoAAMkp+AAAktPSBQDS\n",
              "qdbsw9ebhA8AIDkJHwCQjkUbRT4NAIDkJHwAQDpVGy8X+DQAAJJT8AEAJKelCwCk0x22ZelNwgcA\n",
              "kJyEDwBIx6KNIp8GAEByCj4AgOS0dAGAdCzaKJLwAQAkJ+EDANKxaKPIpwEAkJyEDwBIp1vCV+DT\n",
              "AABITsEHAJCcli4AkE7VtiwFEj4AgCaZP39+tLW1RalUirVr1+71nGq1GgsWLIhTTjklJk6cGDNm\n",
              "zIiNGzfWNY6CDwBIp7t2WNNe9Zg1a1Y88cQT0draus9zVqxYEf/+7/8eL774Yqxbty7OO++8uOmm\n",
              "m+oaR0sXAKBJpk+f/oHnlEqlqFQqsWvXrhg8eHDs2LEjRo4cWdc4Cj4AgD5UqVSiUqkUjpXL5SiX\n",
              "ywd0vYsvvjgee+yxOO644+Koo46KE044IX70ox/VdQ0tXQAgnWqt1LRXZ2dnDBs2rPDq7Ow84N/l\n",
              "2WefjZdffjl++tOfxs9+9rM477zz4rrrrqvrGhI+AIA+1NHREQsWLCgcO9B0LyLinnvuiXPPPTeO\n",
              "PvroiIj4zGc+ExdccEFd15DwAQDpdMdhTXuVy+VoaWkpvD5MwTd69Oh49NFH47333ouIiJUrV8bH\n",
              "Pvaxuq6h4AMAaJJ58+bFyJEjY+vWrdHe3h5jxoyJiIi5c+fGihUrIiLiL//yL+PEE0+MSZMmxcSJ\n",
              "E+ORRx6Jf/7nf65rnFKtVqv1+ez7WPWtsc2eAtAg7SMmNXsKQIOsqj7YtLEXvvgnTRv7HyY17/fe\n",
              "FwkfAEByCj4AgOSs0gUA0qnKtAp8GgAAyUn4AIB0umulZk9hQJHwAQAkp+ADAEhOSxcASKeqpVsg\n",
              "4QMASE7CBwCkU63JtHrzaQAAJCfhAwDS6Q738PUm4QMASE7BBwCQnJYuAJCObVmK+iXhe+655+Le\n",
              "e++NiIjt27fHm2++2R/DAgAQ/VDwfeMb34irr746Fi9eHBER27ZtiyuuuKLRwwIAh7Bq7bCmvQai\n",
              "hs/qzjvvjCeffDJaWloiIuKkk06KX/ziF40eFgCA32p4wVcul2Po0KGFY4MHu3UQAKC/NLzyGj58\n",
              "ePzkJz+JUuk3N0/+y7/8S4waNarRwwIAh7CqffgKGl7wffWrX43LL788XnnllfiDP/iDaGlpiZUr\n",
              "VzZ6WAAAfqvhBd+YMWPiqaeeig0bNkStVotx48bFoEGDGj0sAHAI67YtS0HD7+F75plnYteuXTFh\n",
              "woR4+eWX48Ybb4yf/exnjR4WAIDfanjBN3fu3CiXy/Hqq6/G3/7t38bhhx8eV111VaOHBQAOYbZl\n",
              "KWr4rAYNGhSDBg2K73//+3H99ddHZ2dn/Nd//VejhwUA4LcaXvBVKpX4+c9/Hg8//HCcc845ERHR\n",
              "3d39vufv2LGj8KpUqo2eJgBAWg0v+P76r/86xo0bF8OGDYvTTjstXnvttTjmmGP2eX5nZ2cMGzas\n",
              "8Pry17Y3epoAQCLVWqlpr4GoVKvVav05YLVaja6urjjiiCP2+vNKpRKVSqVw7PDtp0W5PDB74sCH\n",
              "0z5iUrOnADTIquqDTRv700/NbdrY9565rGlj70vDtmVZsWLF+/78U5/61F6Pl8vlKJfLhWPVnYo9\n",
              "AGD/2Xi5qGEF32233bbPn5VKpX0WfAAA9K2GFXyPPfZYoy4NAEAdGv6kjYiI3bt3x6ZNm2LXrl09\n",
              "xyZOnNgfQwMAh6CBuniiWRpe8K1cuTKuueaa2L59e/zu7/5ubN++PVpbW2PTpk2NHhoAgOiHgm/R\n",
              "okXx5JNPxqWXXhovvPBC3HffffHiiy82elgA4BA2UJ940SwN/zQOO+ywaG1tja6uroiImDNnTjz6\n",
              "6KONHhYAgN9qeMJ3+OGHR0TEyJEj4zvf+U60tbXF9u02UgYA6C8NK/iuvfbauPPOO+Nzn/tcfOc7\n",
              "34lbb701Zs+eHb/61a9i6dKljRoWAMCijf+jYQXfs88+GxERl19+eZx22mnx/PPPx6uvvtqo4QAA\n",
              "2Id+2Zaln5/eBgAc4jxpo6hhBd9///d/x0svvRS1Wi127drV8/X/sA8fAED/aGjB1/vxab2/LpVK\n",
              "8frrrzdqaADgEOcevqKGFXybN29u1KUBAKiDXQkBAJLrl0UbAAD9SUu3SMIHAJCchA8ASEfCVyTh\n",
              "AwBITsEHAJCcli4AkI6WbpGEDwAgOQkfAJCOZ+kWSfgAAJKT8AEA6biHr0jCBwCQnIIPACA5LV0A\n",
              "IB0t3SIJHwBAchI+ACAdCV+RhA8AIDkFHwBAclq6AEA6WrpFEj4AgOQkfABAOjUJX4GEDwAgOQkf\n",
              "AJBONSR8vUn4AACSU/ABACSnpQsApGNbliIJHwBAchI+ACAd27IUSfgAAJJT8AEAJKelCwCkY9FG\n",
              "kYQPACA5CR8AkI5FG0USPgCA5CR8AEA67uErkvABACSn4AMASE5LFwBIp1Zr9gwGFgkfAEByEj4A\n",
              "IJ1qWLTRm4QPACA5BR8AQHJaugBAOp60USThAwBITsIHAKTjSRtFEj4AgOQkfABAOjZeLpLwAQAk\n",
              "p+ADAEhOSxcASMe2LEUSPgCA5CR8AEA6Er4iCR8AQHIKPgCA5LR0AYB0PGmjSMIHAJCchA8ASMeT\n",
              "NookfAAAyUn4AIB0bMtSJOEDAEhOwQcAkJyWLgCQjpZukYQPACA5CR8AkI5dWYokfAAAySn4AACS\n",
              "09IFANKxaKNIwgcAkJyEDwDIx6qNAgkfAEByCj4AgOS0dAGAdCzaKJLwAQA0yfz586OtrS1KpVKs\n",
              "Xbt2n+e99NJLcc4558SECRNiwoQJ8dBDD9U1joQPAEindpAs2pg1a1YsXLgwzj777H2es3Pnzrjk\n",
              "kkvinnvuibPPPju6u7tj27ZtdY2j4AMAaJLp06d/4DnLly+Ps846q6coHDRoUAwfPryucRR8AEA6\n",
              "zbyHr1KpRKVSKRwrl8tRLpcP6Hrr16+Pcrkcf/RHfxRbt26NiRMnxj/90z/VVfS5hw8AoA91dnbG\n",
              "sGHDCq/Ozs4Dvl5XV1esXr067rjjjnjhhRfihBNOiOuvv76ua0j4AAD6UEdHRyxYsKBw7EDTvYiI\n",
              "UaNGxYwZM+KEE06IiIg5c+ZEe3t7XddQ8AEA+TSxpfth2rd786d/+qdx1113xY4dO6KlpSW+973v\n",
              "xaRJk+q6hpYuAECTzJs3L0aOHBlbt26N9vb2GDNmTEREzJ07N1asWBERv0n4brrppvj4xz8eEydO\n",
              "jEcffTRuv/32usYp1WoDf+Fy9a2xzZ4C0CDtI+r7Vypw8FhVfbBpY4++/0tNG/v1y29q2tj7IuED\n",
              "AEhOwQcAkJxFGwBAPgP+hrX+JeEDAEhOwgcApNPMJ20MRBI+AIDkJHwAQD7u4SuQ8AEAJKfgAwBI\n",
              "TksXAEjHoo0iCR8AQHISPgAgH4s2CiR8AADJKfgAAJLT0gUAErJoozcJHwBAchI+ACAfizYKJHwA\n",
              "AMlJ+ACAfCR8BRI+AIDkFHwAAMlp6QIA+XiWboGEDwAgOQkfAJBOzaKNAgkfAEByCj4AgOS0dAGA\n",
              "fLR0CyR8AADJSfgAgHxsy1Ig4QMASE7CBwCkU3IPX4GEDwAgOQUfAEByWroAQD5augUSPgCA5CR8\n",
              "AEA+tmUpkPABACSn4AMASE5LFwDIx6KNAgkfAEByEj4AIB8JX4GEDwAgOQkfAJCPhK9AwgcAkJyC\n",
              "DwAgOS1dACAfT9ookPABACQn4QMA0ilZtFEg4QMASE7BBwCQnJYuAJCPlm5B3QXf+vXrY/HixbFx\n",
              "48bo6urqOb5u3bo+nRgAAH2j7oJv9uzZ8ed//ufxV3/1VzFo0KBGzAkAgD5Ud8E3aNCg+MIXvtCI\n",
              "uQAA0AB1L9qYMWNG/Nu//Vsj5gIA0CdKtea9BqK6E75Zs2ZFe3t7HHXUUTFkyJCo1WpRKpXi9ddf\n",
              "b8T8AAD4kOou+K666qpYunRpTJ061T18AAAHgboLviOPPDKuvvrqRsxln9pHTOrX8YD+s6r6YLOn\n",
              "AGTkWboFdd/Dd9FFF8XDDz/ciLkAANAAdSd8X/va1+Kdd96JoUOHRrlc7rmHb9u2bY2YHwBA/Qbo\n",
              "4olmqbvgW7t2bQOmAQBAo9Rd8A0dOjQWL14ca9eujV27dvUcf/755/t0YgAA9I267+H77Gc/G62t\n",
              "rfHLX/4ylixZEiNGjIiLLrqoEXMDADgwtSa+BqC6C77//M//jBtvvDHK5XJcfPHF8dBDD8Xq1asb\n",
              "MTcAAPpA3S3dI444IiIihgwZEm+//XYcc8wx8ctf/rLPJwYAcKAG6hMvmqXugm/s2LHx9ttvx5w5\n",
              "c+LMM8+MlpaWOP300xsxNwAA+kDdBd99990XERGf+9znYurUqbF9+/aYOXNmn08MAIC+UXfB19sn\n",
              "PvGJvpoHAEDf0dItqHvRBgAAB5cPlfABAAxIEr4CCR8AQHISPgAgHduyFEn4AACSU/ABACSnpQsA\n",
              "5FMrNXsGA4qEDwAgOQkfAJCPRRsFEj4AgOQUfAAAyWnpAgDp2IevSMIHAJCchA8AyEfCVyDhAwBI\n",
              "TsIHAKTjHr4iCR8AQHIKPgCA5LR0AYB8tHQLJHwAAMlJ+ACAfCR8BRI+AIDkFHwAAMlp6QIA6diH\n",
              "r0jCBwCQnIIPACA5BR8AQHLu4QMA8nEPX4GEDwAgOQUfAEByWroAQDq2ZSmS8AEAJCfhAwDykfAV\n",
              "SPgAAJJT8AEAJKelCwDko6VbIOEDAEhOwgcApGNbliIJHwBAchI+ACAfCV+BhA8AIDkFHwBAclq6\n",
              "AEA6Fm0USfgAAJKT8AEA+Uj4CiR8AADJKfgAAJJT8AEA+dSa+KrD/Pnzo62tLUqlUqxdu/b9f6Va\n",
              "Lc4999w4+uij6xskFHwAAE0za9aseOKJJ6K1tfUDz73tttvipJNOOqBxLNoAANJp5rYslUolKpVK\n",
              "4Vi5XI5yubzHudOnT9+va/74xz+O7373u3H33XfHgw8+WPecJHwAAH2os7Mzhg0bVnh1dnYe8PV2\n",
              "794d11xzTdxxxx0xaNCgA7qGhA8AyKeJCV9HR0csWLCgcGxv6d7+WrJkSVx22WUxYcKE2Lx58wFd\n",
              "Q8EHANCH9tW+PVA/+tGPYsuWLfH1r389urq6YseOHdHW1hbPPPNMDB8+fL+uoeADABjAHn/88Z6v\n",
              "N2/eHJMnT6476XMPHwCQz0GyLcu8efNi5MiRsXXr1mhvb48xY8ZERMTcuXNjxYoVB/Sr742EDwCg\n",
              "Se644469Hl+2bNlej7e1tcWvfvWrusdR8AEA6TRzW5aBSEsXACA5BR8AQHJaugBAPlq6BRI+AIDk\n",
              "JHwAQDoWbRRJ+AAAkpPwAQD5SPgKJHwAAMkp+AAAktPSBQDy0dItkPABACQn4QMA0ik1ewIDjIQP\n",
              "ACA5BR8AQHJaugBAPhZtFEj4AACSk/ABAOl4lm6RhA8AIDkFHwBAclq6AEA+WroFEj4AgOQkfABA\n",
              "PhK+AgkfAEByEj4AIB3bshRJ+AAAklPwAQAkp6ULAOSjpVsg4QMASE7CBwCkY9FGkYQPACA5BR8A\n",
              "QHJaugBAPlq6BRI+AIDkJHwAQDoWbRRJ+AAAkpPwAQD5SPgKJHwAAMkp+AAAktPSBQDy0dItkPAB\n",
              "ACQn4QMA0rEtS5GEDwAgOQUfAEByWroAQD5augUSPgCA5CR8AEA6pZqIrzcJHwBAchI+ACAfAV+B\n",
              "hA8AIDkFHwBAclq6AEA6nrRRJOEDAEhOwgcA5CPhK5DwAQAkp+ADAEhOSxcASMeijSIJHwBAchI+\n",
              "ACAfCV+BhA8AIDkJHwCQjnv4iiR8AADJKfgAAJLT0gUA8tHSLZDwAQAkJ+EDANKxaKNIwgcAkJyC\n",
              "DwAgOS1dACCfmp5ubxI+AIDkJHwAQDoWbRRJ+AAAkpPwAQD5SPgKJHwAAMkp+AAAktPSBQDSKVWb\n",
              "PYOBpaEJ3+7du+O1115r5BAAAHyAhhV8a9asidbW1pgxY0ZERDzzzDMxZ86cRg0HAPC/ak18DUAN\n",
              "K/j+5m/+Jh5//PH4vd/7vYiIOOOMM+KFF15o1HAAAOxDwwq+7u7uOOmkkwrHjjjiiEYNBwDAPjRs\n",
              "0caQIUPi3XffjVKpFBERL730UgwdOrRRwwEA9PCkjaKGFXyLFi2KCy64IH7605/GnDlzYvXq1bF8\n",
              "+fJGDQcAwD40rOC74IIL4uSTT44f/OAHUavVYsmSJXu0eAEAGqIm4uutofvwnXjiiXH99dc3cggA\n",
              "AD5Awwq+E088sef+vd5ef/31Rg0JABAR7uH7vxpW8K1cubLn6127dsW9997bs0ULAAD9p2EF30c/\n",
              "+tHC96effnp8/OMfj0WLFr3v+yqVSlQqlcKxaq07DisN6vM5AgAcChr6aLXe3n777Xjrrbc+8LzO\n",
              "zs4YNmxY4bUpXumHGQIAaXjSRkHDEr4pU6b03MPX3d0db7zxRixcuPAD39fR0RELFiwoHPt/w65s\n",
              "xBQBAA4JDSv4vvrVr/7vIIMHx+jRo+P444//wPeVy+Uol8uFY9q5AEA9LNooakjB193dHcuWLYt7\n",
              "7723EZcHAKAODbmHb9CgQfGTn/ykEZcGAKBODWvpzpgxI6699tq48sor48gjj+w5PnHixEYNCQDw\n",
              "G560UdDnBd/ll18e999/fzzwwAMREbFq1aqen5VKJRsvAwD0sz4v+F555TdbqGzatKmvLw0AsF8s\n",
              "2ijq83v49vY4NQAAmqfPE75169bFscceu8fxWq0WpVIptm3b1tdDAgDwPvq84Bs3blx873vf6+vL\n",
              "AgDsPy3dgj4v+MrlcrS2tvb1ZQEAOEB9XvDVLIMGAJrMoo2iPl+08cILL/T1JQEA+BAatvEyAEDT\n",
              "VEV8vTXk0WoAAAwcCj4AgOS0dAGAfHR0CyR8AADJSfgAgHRsy1Ik4QMASE7BBwCQnJYuAJCPJ38V\n",
              "SPgAAJKT8AEA6Vi0USThAwBITsIHAOQj4SuQ8AEANMn8+fOjra0tSqVSrF27dq/nPProozFt2rQ4\n",
              "5ZRT4qMf/WgsXLgwqtVqXeMo+AAAmmTWrFnxxBNPRGtr6z7POeaYY+Jb3/pWrF+/Pp577rn4j//4\n",
              "j7jnnnvqGkdLFwBIp3SQbMsyffr0DzxnypQpPV8PGTIkJk+eHJs3b65rHAUfAEAfqlQqUalUCsfK\n",
              "5XKUy+UPfe233norvv3tb8fKlSvrep+WLgCQT7V5r87Ozhg2bFjh1dnZ+aF/pR07dsTFF18cCxcu\n",
              "jKlTp9b1XgkfAEAf6ujoiAULFhSOfdh079e//nXMnDkzLrnkkj2uvT8UfAAAfaiv2rf/4913342Z\n",
              "M2fGzJkz44tf/OIBXUNLFwBIp1SrNe1Vj3nz5sXIkSNj69at0d7eHmPGjImIiLlz58aKFSsiImLp\n",
              "0qXx9NNPx0MPPRSTJ0+OyZMnx9///d/X+3kM/GUs5x/2J82eAtAgq6oPNnsKQELnnfvh75k7UI88\n",
              "2tG0sfdFSxcAyGfAx1n9S0sXACA5CR8AkM/Av2OtX0n4AACSU/ABACSnpQsApFPS0S2Q8AEAJCfh\n",
              "AwDysWijQMIHAJCcgg8AIDktXQAgnVK12TMYWCR8AADJSfgAgHws2iiQ8AEAJCfhAwDyEfAVSPgA\n",
              "AJJT8AEAJKelCwCkU7Joo0DCBwCQnIQPAMhHwlcg4QMASE7BBwCQnJYuAJCPZ+kWSPgAAJKT8AEA\n",
              "6diWpUjCBwCQnIQPAMhHwlcg4QMASE7BBwCQnJYuAJCPlm6BhA8AIDkJHwCQj42XCyR8AADJKfgA\n",
              "AJLT0gUA0vGkjSIJHwBAchI+ACAfCV+BhA8AIDkJHwCQj4SvQMIHAJCcgg8AIDktXQAgHy3dAgkf\n",
              "AEByEj4AIB/P0i2Q8AEAJKfgAwBITksXAEjHs3SLJHwAAMlJ+ACAfCR8BRI+AIDkFHwAAMlp6QIA\n",
              "+VS1dHuT8AEAJCfhAwDysWijQMIHAJCchA8AyEfCVyDhAwBITsEHAJCcli4AkI+WboGEDwAgOQkf\n",
              "AJCPjZcLJHwAAMkp+AAAktPSBQDyqVWbPYMBRcIHAJCchA8AyMe2LAUSPgCA5CR8AEA+tmUpkPAB\n",
              "ACSn4AMASE5LFwDIx6KNAgkfAEByEj4AIB8JX4GEDwAgOQUfAEByWroAQD5augUSPgCA5CR8AEA+\n",
              "1WqzZzCgSPgAAJKT8AEA+biHr0DCBwCQnIIPACA5LV0AIB8t3QIJHwBAchI+ACCfqoSvNwkfAEBy\n",
              "Cj4AgOS0dAGAdGo1T9roTcIHAJCchA8AyMeijQIJHwBAchI+ACAfGy8XSPgAAJJT8AEAJKelCwDk\n",
              "U7UtS28SPgCA5CR8AEA+Fm0USPgAAJJT8AEAJKelCwCkU7Noo0DCBwCQnIQPAMjHoo0CCR8AQHIS\n",
              "PgAgn6qErzcJHwBAcgo+AIDktHQBgHxqtmXpTcIHAJCchA8ASKdm0UaBhA8AIDkFHwBAclq6AEA+\n",
              "Fm0USPgAAJKT8AEA6Vi0USThAwBokvnz50dbW1uUSqVYu3btPs+766674uSTT46TTjoprrnmmti9\n",
              "e3dd4yj4AIB8atXmveowa9aseOKJJ6K1tXWf52zatCkWLVoUjz/+eGzcuDF+/vOfx5133lnXOAo+\n",
              "AIAmmT59eowcOfJ9z/n2t78dn/rUp+K4446LUqkU1113Xdx///11jeMePgCAPlSpVKJSqRSOlcvl\n",
              "KJfLB3S9LVu2FBLAtra22LJlS13XOCgKvlXVB5s9BfpJpVKJzs7O6OjoOOA/DGBg8vdNf2pm7bB4\n",
              "8eJYsmRJ4djNN98cixcvbs6EQkuXAaZSqcSSJUv2+JcRcPDz982hoqOjI955553Cq6Oj44CvN2rU\n",
              "qHjjjTd6vt+8eXOMGjWqrmso+AAA+lC5XI6WlpbC68Ok2n/8x38cK1asiLfeeitqtVrcfvvtMXv2\n",
              "7LquoeADAGiSefPmxciRI2Pr1q3R3t4eY8aMiYiIuXPnxooVKyIiYvTo0bFkyZL4xCc+EWPGjInh\n",
              "w4fHvHnz6hqnVKvV7EzIgLFjx44YNmxYvPPOO9HS0tLs6QB9yN83NI+EjwGlXC7HzTff7IZuSMjf\n",
              "NzSPhA8AIDkJHwBAcgo+AIDkFHwAAMkdFE/a4ODV1tYW5XI5hg4dGhERU6dOjWXLlu313HPOOSdu\n",
              "uOGGuPTSS/txhsCHMXny5IiIeO+992LDhg1x6qmnRkTEuHHj4oEHHmjizIDeFHw03AMPPNDzPwUg\n",
              "l7Vr10bEb3b+nzx5cs/3vXV1dcXgwf53A82kpUu/Wr58eZx55pkxZcqUmDRpUjz88MN7PW/ZsmVx\n",
              "yimnxOTJk+PUU0+Np556KiIiXn311bjooovijDPOiIkTJ8bXv/71/pw+sJ/a2trixhtvjGnTpsVn\n",
              "PvOZWLNmTeEffi+//HK0tbX1fP/DH/4wzj777Dj99NNj2rRp8dhjj/X/pCEx/+Si4f7sz/6sp6W7\n",
              "aNGiePLJJ6NUKsXmzZvjrLPOijfeeGOPfbk+//nPxyuvvBLHH3987N69OyqVSnR3d8fll18e9913\n",
              "X4wfPz527twZZ511Vpx55plxxhlnNONXA97H22+/HU899VSUSqVYs2bNPs97/fXXY/HixfHDH/4w\n",
              "WlpaYuPGjfGHf/iHsXnzZnv2QR9R8NFwvVu6zz77bFx44YWxdevWGDx4cGzbti02bdoU48ePL7zn\n",
              "vPPOi09/+tNx8cUXx4UXXhhjx46N9evXx49//OPC8wN//etfx/r16xV8MABdeeWVUSqVPvC8H/zg\n",
              "B7Fx48aYPn16z7HDDjsstmzZEieffHIjpwiHDAUf/Wr27Nnx5S9/OWbNmhUREccee2zs2rVrj/P+\n",
              "9V//NZ577rlYs2ZNfPKTn4xbb701Tj311Dj22GP3eo8QMPAceeSRPV8PHjw4uru7e77v/Xdfq9Xi\n",
              "/PPPj+XLl/fr/OBQ4h4++tX27dvjxBNPjIiI++67L7Zv377HOV1dXfHaa6/F1KlT4wtf+ELMmjUr\n",
              "nn766Rg3bly0tLTE3Xff3XPuxo0bY9u2bf02f+DAjB49Ot544434xS9+ERER9957b8/P2tvbY/Xq\n",
              "1bFu3bqeY08//XS/zxEyk/DRr5YuXRqzZs2Ko48+Os4999wYNWrUHud0d3fH1VdfHdu2bYvBgwfH\n",
              "8OHD4+67747BgwfHypUr44Ybbojbbrsturu74yMf+YhUAA4CI0aMiIULF8a0adPi93//9+PCCy/s\n",
              "+dmYMWNi+fLlMW/evNi5c2e89957MWXKFH/b0Ic8SxcAIDktXQCA5BR8AADJKfiAhmlra4vx48dH\n",
              "V1dXz7GpU6fGmjVrYvHixXHDDTfs8Z41a9bE0KFDY/LkyTFx4sQ4++yzCzfzA1A/BR/QUJVKJe66\n",
              "66663jNu3LhYu3ZtrFu3Li677LK46qqrGjQ7gEODgg9oqMWLF8ctt9wSO3fuPKD3z5w5MzZs2NDH\n",
              "swI4tCj4gIaaNGlSzJgxI2677bYDev+3vvWtOP300/t4VgCHFvvwAQ13yy23xLRp0+K6667br/M3\n",
              "bNjQ8zi+sWPHxje/+c0Gzg4gPwUf0HBtbW1xxRVXxK233rpf5//PPXwA9A0FH9AvvvjFL8aECRPi\n",
              "8MMPb/ZUAA457uED+sVHPvKRmD9/frz55ps9x+66664YOXJkz+srX/lKE2cIkJdHqwEAJCfhAwBI\n",
              "TsEHAJCcgg8AIDkFHwBAcgo+AIDkFHwAAMkp+AAAklPwAQAkp+ADAEhOwQcAkJyCDwAguf8PTmk4\n",
              "k8XY1BAAAAAASUVORK5CYII=\n",
              "\">\n",
              "      </div>\n",
              "      <script type=\"text/javascript\">\n",
              "        (() => {\n",
              "          const chartElement = document.getElementById(\"chart-f94c4cce-2ba6-47a0-8af5-543ce1d88ae9\");\n",
              "          async function getCodeForChartHandler(event) {\n",
              "            const chartCodeResponse =  await google.colab.kernel.invokeFunction(\n",
              "                'getCodeForChart', [\"chart-f94c4cce-2ba6-47a0-8af5-543ce1d88ae9\"], {});\n",
              "            const responseJson = chartCodeResponse.data['application/json'];\n",
              "            await google.colab.notebook.addCell(responseJson.code, 'code');\n",
              "          }\n",
              "          chartElement.onclick = getCodeForChartHandler;\n",
              "        })();\n",
              "      </script>\n",
              "      <style>\n",
              "        .colab-quickchart-chart-with-code  {\n",
              "            display: block;\n",
              "            float: left;\n",
              "            border: 1px solid transparent;\n",
              "        }\n",
              "\n",
              "        .colab-quickchart-chart-with-code:hover {\n",
              "            cursor: pointer;\n",
              "            border: 1px solid #aaa;\n",
              "        }\n",
              "      </style>"
            ]
          },
          "metadata": {}
        },
        {
          "output_type": "display_data",
          "data": {
            "text/plain": [
              "from matplotlib import pyplot as plt\n",
              "import seaborn as sns\n",
              "import pandas as pd\n",
              "plt.subplots(figsize=(8, 8))\n",
              "df_2dhist = pd.DataFrame({\n",
              "    x_label: grp['learning'].value_counts()\n",
              "    for x_label, grp in _df_6.groupby('am')\n",
              "})\n",
              "sns.heatmap(df_2dhist, cmap='viridis')\n",
              "plt.xlabel('am')\n",
              "_ = plt.ylabel('learning')"
            ],
            "text/html": [
              "      <div class=\"colab-quickchart-chart-with-code\" id=\"chart-2789b810-80a2-4ae5-b8e0-1f7c59420102\">\n",
              "        <img style=\"width: 180px;\" src=\"data:image/png;base64,iVBORw0KGgoAAAANSUhEUgAAAnwAAAKfCAYAAAD0PRV6AAAAOXRFWHRTb2Z0d2FyZQBNYXRwbG90\n",
              "bGliIHZlcnNpb24zLjguMCwgaHR0cHM6Ly9tYXRwbG90bGliLm9yZy81sbWrAAAACXBIWXMAAA9h\n",
              "AAAPYQGoP6dpAAAnBElEQVR4nO3df5CV5Xk38Ou4Gw9aXYgJ04gEVkARo4CKP5IqI9oIxvijKWkk\n",
              "JTVVFK1TkpAOhrRUmKbZzjutv96MCQ6pqRioY2ocwpg4EDUjyYii4o8wqChoSSQxghJrObp7zvtH\n",
              "0i3PKygHztmzXn4+zplhn332ue99Zhgvvtdz30+pVqvVAgCAtPZr9QQAAGguBR8AQHIKPgCA5BR8\n",
              "AADJKfgAAJJT8AEAJKfgAwBITsEHAJCcgg8AIDkFHwBAi+zYsSMuuOCCOPLII2PcuHHx8Y9/PDZs\n",
              "2LDLc5cvXx5HHXVUHHHEEfGpT30qtm/fvsfjKPgAAFrosssui6eeeioee+yxOP/882PGjBlvOee1\n",
              "116LSy65JO6888545plnYsiQIfEP//APezyGgg8AoEUGDBgQn/jEJ6JUKkVExCmnnBKbNm16y3k/\n",
              "/OEP47jjjoujjjoqIiL+6q/+KpYuXbrH47Q3ZLYAAERERKVSiUqlUjhWLpejXC6/489ef/31cf75\n",
              "57/l+AsvvBDDhw/v/bqzszNefPHF6O7ujvb2dy7n3hUFX3XLka2eAtAkk4eMa/UUgCZZUb29ZWO3\n",
              "snbo+tZnY8GCBYVjV199dcyfP/9tf+7rX/96bNiwIX784x83fE7vioIPAODdYu7cuTF79uzCsXdK\n",
              "9/75n/857rjjjli5cmUceOCBb/n+sGHDYsWKFb1fb9q0KQ499NA9SvciPMMHACRUbeF/5XI5Ojo6\n",
              "Cp+3K/iuueaaWLp0aaxYsSIGDRq0y3OmTJkSjzzySKxfvz4iIm688ca48MIL9/h+SPgAAFpk8+bN\n",
              "8eUvfzlGjBgRkyZNiojfpYGrV6+Ov//7v48hQ4bE5ZdfHgcffHAsWrQoLrjgguju7o5jjjkm/u3f\n",
              "/m2PxynVarVas36JRvEMH+TlGT7Iq5XP8HVvGdWysds/tOt99FpJwgcApNNTq7Zs7P5YXHmGDwAg\n",
              "uf5YhAIA7JNq9Psn1vqUhA8AIDkFHwBAclq6AEA61Wjdoo3+SMIHAJCchA8ASKen/28z3KckfAAA\n",
              "yUn4AIB0bMtSJOEDAEhOwQcAkJyWLgCQTo+WboGEDwAgOQkfAJCORRtFEj4AgOQUfAAAyWnpAgDp\n",
              "eNNGkYQPACA5CR8AkE611RPoZyR8AADJSfgAgHRsvFwk4QMASE7BBwCQnJYuAJBOj45ugYQPACA5\n",
              "CR8AkI5tWYokfAAAySn4AACS09IFANLpiVKrp9CvSPgAAJKT8AEA6VRty1Ig4QMASE7CBwCk4xm+\n",
              "IgkfAEByCj4AgOS0dAGAdLR0iyR8AADJSfgAgHSqNQnfziR8AADJKfgAAJLT0gUA0rFoo0jCBwCQ\n",
              "nIQPAEinR6ZV4G4AACQn4QMA0rEtS5GEDwAgOQUfAEByWroAQDq2ZSmS8AEAJCfhAwDS6anJtHbm\n",
              "bgAAJKfgAwBITksXAEinKtMqcDcAAJKT8AEA6diWpUjCBwCQnIQPAEjHtixF7gYAQHIKPgCA5LR0\n",
              "AYB0qhZtFEj4AACSk/ABAOn0yLQK3A0AgOQUfAAAyWnpAgDp2IevyN0AAEhOwgcApFOVaRW4GwAA\n",
              "yUn4AIB0emo2Xt6ZhA8AIDkFHwBAclq6AEA63rRR5G4AACQn4QMA0qnaeLnA3QAASE7BBwCQnJYu\n",
              "AJCORRtF7gYAQHISPgAgHW/aKJLwAQAkp+ADAEhOSxcASKcq0ypwNwAAkpPwAQDp9HjTRoG7AQCQ\n",
              "nIQPAEinGrZl2ZmEDwAgOQUfAEByWroAQDoWbRS5GwAAyUn4AIB0emRaBe4GAEByCj4AgOS0dAGA\n",
              "dKo1+/DtTMIHAJCchA8ASMeijSJ3AwAgOQkfAJBO1cbLBe4GAEByCj4AgOS0dAGAdHrCtiw7k/AB\n",
              "ACQn4QMA0rFoo8jdAABITsEHAJCcli4AkI5FG0USPgCA5CR8AEA6Fm0UuRsAAMlJ+ACAdHokfAXu\n",
              "BgBAcgo+AIDktHQBgHSqtmUpkPABALTIrFmzorOzM0qlUqxdu3aX51Sr1Zg9e3YcffTRMXbs2Jg0\n",
              "aVJs2LChrnEUfABAOj21/Vr2qcfUqVNj1apVMXz48N2es2zZsvjpT38ajz32WDz++ONx5plnxle/\n",
              "+tW6xtHSBQBokYkTJ77jOaVSKSqVSuzYsSPa29tj+/btMXTo0LrGUfABADRQpVKJSqVSOFYul6Nc\n",
              "Lu/V9c4999y4995740Mf+lAcfPDBcdhhh8VPfvKTuq6hpQsApFOtlVr26erqioEDBxY+XV1de/27\n",
              "rFmzJp588sn4xS9+Eb/85S/jzDPPjMsvv7yua0j4AAAaaO7cuTF79uzCsb1N9yIibrnlljjjjDNi\n",
              "0KBBERFx0UUXxVlnnVXXNSR8AEA6PbFfyz7lcjk6OjoKn30p+EaMGBH33HNPvPHGGxERsXz58jjm\n",
              "mGPquoaCDwCgRWbOnBlDhw6NzZs3x+TJk2PUqFERETFjxoxYtmxZRERceeWVcfjhh8e4ceNi7Nix\n",
              "8eMf/zi++c1v1jVOqVar1Ro++warbjmy1VMAmmTykHGtngLQJCuqt7ds7DmPfbplY/+fca37vXdH\n",
              "wgcAkJyCDwAgOat0AYB0qjKtAncDACA5CR8AkE5PrdTqKfQrEj4AgOQUfAAAyWnpAgDpVLV0CyR8\n",
              "AADJSfgAgHSqNZnWztwNAIDkJHwAQDo94Rm+nUn4AACSU/ABACSnpQsApGNblqI+SfgefvjhWLx4\n",
              "cUREbNu2LV588cW+GBYAgOiDgu/GG2+Miy++OObPnx8REVu3bo3PfvazzR4WAHgPq9b2a9mnP2r6\n",
              "rG666aZ44IEHoqOjIyIiRo4cGS+99FKzhwUA4PeaXvCVy+U44IADCsfa2z06CADQV5peeQ0ePDie\n",
              "fvrpKJV+9/Dkd77znRg2bFizhwUA3sOq9uEraHrBd91118W0adNi/fr18eEPfzg6Ojpi+fLlzR4W\n",
              "AIDfa3rBN2rUqFi9enU89dRTUavVYvTo0dHW1tbsYQGA97Ae27IUNP0Zvoceeih27NgRY8aMiSef\n",
              "fDKuuuqq+OUvf9nsYQEA+L2mF3wzZsyIcrkczzzzTPzt3/5tvO9974u//Mu/bPawAMB7mG1Zipo+\n",
              "q7a2tmhra4sf/vCHccUVV0RXV1f8+te/bvawAAD8XtMLvkqlEr/61a/iBz/4QZx++ukREdHT0/O2\n",
              "52/fvr3wqVSqzZ4mAEBaTS/4vvSlL8Xo0aNj4MCBcfzxx8ezzz4b73//+3d7fldXVwwcOLDw+af/\n",
              "u63Z0wQAEqnWSi379EelWq1W68sBq9VqdHd3x/7777/L71cqlahUKoVj79t2fJTL/bMnDuybyUPG\n",
              "tXoKQJOsqN7esrE/t3pGy8ZefPKilo29O03blmXZsmVv+/3zzjtvl8fL5XKUy+XCserrij0AYM/Z\n",
              "eLmoaQXftddeu9vvlUql3RZ8AAA0VtMKvnvvvbdZlwYAoA5Nf9NGRMSbb74ZGzdujB07dvQeGzt2\n",
              "bF8MDQC8B/XXxROt0vSCb/ny5XHppZfGtm3b4g/+4A9i27ZtMXz48Ni4cWOzhwYAIPqg4Js3b148\n",
              "8MADccEFF8Sjjz4at956azz22GPNHhYAeA/rr2+8aJWm34399tsvhg8fHt3d3RERMX369Ljnnnua\n",
              "PSwAAL/X9ITvfe97X0REDB06NL7//e9HZ2dnbNtmI2UAgL7StILvsssui5tuuim+8IUvxPe///34\n",
              "2te+FhdeeGG88sorcf311zdrWAAAizb+P00r+NasWRMREdOmTYvjjz8+HnnkkXjmmWeaNRwAALvR\n",
              "J9uy9PHb2wCA9zhv2ihqWsH33//93/HEE09ErVaLHTt29P75f9iHDwCgbzS14Nv59Wk7/7lUKsVz\n",
              "zz3XrKEBgPc4z/AVNa3g27RpU7MuDQBAHexKCACQXJ8s2gAA6EtaukUSPgCA5CR8AEA6Er4iCR8A\n",
              "QHIKPgCA5LR0AYB0tHSLJHwAAMlJ+ACAdLxLt0jCBwCQnIQPAEjHM3xFEj4AgOQUfAAAyWnpAgDp\n",
              "aOkWSfgAAJKT8AEA6Uj4iiR8AADJKfgAAJLT0gUA0tHSLZLwAQAkJ+EDANKpSfgKJHwAAMlJ+ACA\n",
              "dKoh4duZhA8AIDkFHwBAclq6AEA6tmUpkvABACQn4QMA0rEtS5GEDwAgOQUfAEByWroAQDoWbRRJ\n",
              "+AAAkpPwAQDpWLRRJOEDAEhOwgcApOMZviIJHwBAcgo+AIDktHQBgHRqtVbPoH+R8AEAJCfhAwDS\n",
              "qYZFGzuT8AEAJKfgAwBITksXAEjHmzaKJHwAAMlJ+ACAdLxpo0jCBwCQnIQPAEjHxstFEj4AgOQU\n",
              "fAAAyWnpAgDp2JalSMIHAJCchA8ASEfCVyThAwBITsEHAJCcli4AkI43bRRJ+AAAkpPwAQDpeNNG\n",
              "kYQPACA5CR8AkI5tWYokfAAAySn4AACS09IFANLR0i2S8AEAJCfhAwDSsStLkYQPACA5BR8AQHJa\n",
              "ugBAOhZtFEn4AACSk/ABAPlYtVEg4QMASE7BBwCQnJYuAJCORRtFEj4AgBaZNWtWdHZ2RqlUirVr\n",
              "1+72vCeeeCJOP/30GDNmTIwZMybuuOOOusaR8AEA6dTeJYs2pk6dGnPmzIlTTz11t+e8/vrrcf75\n",
              "58ctt9wSp556avT09MTWrVvrGkfBBwDQIhMnTnzHc5YsWRKnnHJKb1HY1tYWgwcPrmscBR8AkE4r\n",
              "n+GrVCpRqVQKx8rlcpTL5b263rp166JcLscnP/nJ2Lx5c4wdOzb+5V/+pa6izzN8AAAN1NXVFQMH\n",
              "Dix8urq69vp63d3dsXLlyli4cGE8+uijcdhhh8UVV1xR1zUkfAAADTR37tyYPXt24djepnsREcOG\n",
              "DYtJkybFYYcdFhER06dPj8mTJ9d1DQUfAJBPC1u6+9K+3ZU/+7M/i29/+9uxffv26OjoiLvuuivG\n",
              "jRtX1zW0dAEAWmTmzJkxdOjQ2Lx5c0yePDlGjRoVEREzZsyIZcuWRcTvEr6vfvWr8bGPfSzGjh0b\n",
              "99xzT3zrW9+qa5xSrdb/Fy5XtxzZ6ikATTJ5SH3/SgXePVZUb2/Z2COWfr1lYz837astG3t3JHwA\n",
              "AMkp+AAAkrNoAwDIp98/sNa3JHwAAMlJ+ACAdFr5po3+SMIHAJCchA8AyMczfAUSPgCA5BR8AADJ\n",
              "aekCAOlYtFEk4QMASE7CBwDkY9FGgYQPACA5BR8AQHJaugBAQhZt7EzCBwCQnIQPAMjHoo0CCR8A\n",
              "QHISPgAgHwlfgYQPACA5BR8AQHJaugBAPt6lWyDhAwBITsIHAKRTs2ijQMIHAJCcgg8AIDktXQAg\n",
              "Hy3dAgkfAEByEj4AIB/bshRI+AAAkpPwAQDplDzDVyDhAwBITsEHAJCcli4AkI+WboGEDwAgOQkf\n",
              "AJCPbVkKJHwAAMnVnfBNmjQpSqVi1Txo0KD46Ec/GrNmzYpyudywyQEAsO/qTvhOOOGEaG9vj0su\n",
              "uSRmzJgR+++/fwwZMiTWrFkTf/3Xf92MOQIA1KfWwk8/VHfC97Of/Szuv//+aGtri4iIT3/603Ha\n",
              "aafFqlWr4thjj234BAEA2Dd1F3wvv/xyoaVbKpVi27Zt0d7eHgMGDGjo5AAA9ko/Tdpape6C78wz\n",
              "z4yzzz47pk+fHhERS5YsiTPOOCNee+01z+8BAPRDdRd8N9xwQyxcuDDuvPPOiIj45Cc/GTNnzoz2\n",
              "9vZ44IEHGj0/AID6SfgK6i742tvb48orr4wrr7yyGfMBAKDB6i74XnnllVi4cGE8++yz0d3d3Xv8\n",
              "X//1Xxs6MQAAGqPugm/q1KkxePDg+OhHP9q7UhcAoF/xpo2Cugu+F198MVauXNmMuQAA0AR1F3wj\n",
              "R46MV155JQYNGtSE6QAA7LuSRRsFdRd8Bx54YBx//PExZcqUwr5711xzTUMnBgBAY9Rd8I0ZMybG\n",
              "jBnTjLkAANAEdRd8V199dTPmAQDQOFq6BXtc8C1dujSmTZsWN9xwwy6/P2vWrIZNCgCAxtnjgm/9\n",
              "+vUREfHoo4++5Xs7v1sXAID+ZY8LvgULFkRExM0339y0yQAA0Hh1P8MXEbF69eq3vGnjL/7iLxo2\n",
              "KQCAfWFblqK6C74rrrgi7r777hg/fnzvmzZKpZKCDwCgn6q74Fu5cmWsW7eusAcfAAD9V90F36GH\n",
              "HhrlcrkZc9mtyUPG9el4QN9ZUb291VMAMvIu3YK6C76TTz45pk6dGp/5zGcKKd95553X0IkBANAY\n",
              "dRd8a9asiYiIb37zm73HSqWSgg8A6D8s2iioq+Dr6emJP/mTP7HJMgDAu8h+9Zzc1tYWt9xyS7Pm\n",
              "AgBAE9RV8EVE/PEf/3F897vfbcZcAAAao9bCTz9U9zN8CxcujFdffTUuueSSOPDAA6NWq0WpVIqt\n",
              "W7c2Y34AAOyjugu+tWvXNmEaAACN400bRXUXfMOHD2/GPAAAaJK6C75f//rXcfXVV8djjz0WO3bs\n",
              "6D3+yCOPNHRiAAA0Rt2LNi655JLo7OyM3/zmN7FgwYIYMmRInHPOOc2YGwDA3rFoo6Dugu8///M/\n",
              "46qrropyuRznnntu3HHHHbFy5cpmzA0AgAaou+Dbf//9IyJiwIAB8fLLL0d7e3v85je/afjEAAD2\n",
              "moSvoO5n+I488sh4+eWXY/r06XHyySdHR0dHnHDCCc2YGwAADVB3wXfrrbdGRMQXvvCFmDBhQmzb\n",
              "ti2mTJnS8IkBAOwt27IU1V3wRUQ8/PDDsW7duvjc5z4X27Zti5deeikOPfTQRs8NAIAGqPsZvhtv\n",
              "vDEuvvjimD9/fkREbN26NT772c82el4AADRI3QXfTTfdFA888EB0dHRERMTIkSPjpZdeavjEAAD2\n",
              "Wq3Uuk8/VHfBVy6X44ADDigca2/fq84wAAB9oO5KbfDgwfH0009HqfS7CvY73/lODBs2rOETAwDY\n",
              "axZtFNRd8F133XUxbdq0WL9+fXz4wx+Ojo6OWL58eTPmBgBAA9Rd8I0aNSpWr14dTz31VNRqtRg9\n",
              "enS0tbU1Y24AADTAHhd827dvL3x92GGHRUTEf/3Xf0VE9C7iAABoNfvwFe1xwTdo0KAolUpRq/3v\n",
              "Hfyfr0ulUvT09DRlggAA7Js9Lviq1Woz5wEA0DgSvoK6t2UBAODdxQZ6AEA6nuErkvABACSn4AMA\n",
              "SE5LFwDIR0u3QMIHAJCchA8AyEfCVyDhAwBITsEHAJCcli4AkI59+IokfAAAySn4AACSU/ABACTn\n",
              "GT4AIB/P8BVI+AAAklPwAQAkp6ULAKRjW5YiCR8AQHISPgAgHwlfgYQPACA5BR8AQHJaugBAPlq6\n",
              "BRI+AIDkJHwAQDq2ZSmS8AEAJCfhAwDykfAVSPgAAJJT8AEAJKelCwCkY9FGkYQPACA5CR8AkI+E\n",
              "r0DCBwCQnIIPACA5BR8AkE+thZ86zJo1Kzo7O6NUKsXatWvf/leq1eKMM86IQYMG1TdIKPgAAFpm\n",
              "6tSpsWrVqhg+fPg7nnvttdfGyJEj92ocizYAgHRauS1LpVKJSqVSOFYul6NcLr/l3IkTJ+7RNX/+\n",
              "85/HnXfeGTfffHPcfvvtdc9JwgcA0EBdXV0xcODAwqerq2uvr/fmm2/GpZdeGgsXLoy2tra9uoaE\n",
              "DwDIp4UJ39y5c2P27NmFY7tK9/bUggUL4lOf+lSMGTMmNm3atFfXUPABADTQ7tq3e+snP/lJvPDC\n",
              "C/GNb3wjuru7Y/v27dHZ2RkPPfRQDB48eI+uoeADAOjH7r///t4/b9q0KcaPH1930ucZPgAgn3fJ\n",
              "tiwzZ86MoUOHxubNm2Py5MkxatSoiIiYMWNGLFu2bK9+9V2R8AEAtMjChQt3eXzRokW7PN7Z2Rmv\n",
              "vPJK3eMo+ACAdFq5LUt/pKULAJCcgg8AIDktXQAgHy3dAgkfAEByEj4AIB2LNookfAAAyUn4AIB8\n",
              "JHwFEj4AgOQUfAAAyWnpAgD5aOkWSPgAAJKT8AEA6ZRaPYF+RsIHAJCcgg8AIDktXQAgH4s2CiR8\n",
              "AADJSfgAgHS8S7dIwgcAkJyCDwAgOS1dACAfLd0CCR8AQHISPgAgHwlfgYQPACA5CR8AkI5tWYok\n",
              "fAAAySn4AACS09IFAPLR0i2Q8AEAJCfhAwDSsWijSMIHAJCcgg8AIDktXQAgHy3dAgkfAEByEj4A\n",
              "IB2LNookfAAAyUn4AIB8JHwFEj4AgOQUfAAAyWnpAgD5aOkWSPgAAJKT8AEA6diWpUjCBwCQnIIP\n",
              "ACA5LV0AIB8t3QIJHwBAchI+ACCdUk3EtzMJHwBAchI+ACAfAV+BhA8AIDkFHwBAclq6AEA63rRR\n",
              "JOEDAEhOwgcA5CPhK5DwAQAkp+ADAEhOSxcASMeijSIJHwBAchI+ACAfCV+BhA8AIDkJHwCQjmf4\n",
              "iiR8AADJKfgAAJLT0gUA8tHSLZDwAQAkJ+EDANKxaKNIwgcAkJyCDwAgOS1dACCfmp7uziR8AADJ\n",
              "SfgAgHQs2iiS8AEAJCfhAwDykfAVSPgAAJJT8AEAJKelCwCkU6q2egb9S1MTvjfffDOeffbZZg4B\n",
              "AMA7aFrBd99998Xw4cNj0qRJERHx0EMPxfTp05s1HADA/6q18NMPNa3g+8pXvhL3339/fOADH4iI\n",
              "iBNPPDEeffTRZg0HAMBuNK3g6+npiZEjRxaO7b///s0aDgCA3Wjaoo0BAwbEa6+9FqVSKSIinnji\n",
              "iTjggAOaNRwAQC9v2ihqWsE3b968OOuss+IXv/hFTJ8+PVauXBlLlixp1nAAAOxG0wq+s846K444\n",
              "4oj40Y9+FLVaLRYsWPCWFi8AQFPURHw7a+o+fIcffnhcccUVzRwCAIB30LSC7/DDD+99fm9nzz33\n",
              "XLOGBACICM/w/f+aVvAtX7689887duyIxYsX927RAgBA32lawfeRj3yk8PUJJ5wQH/vYx2LevHlv\n",
              "+3OVSiUqlUrhWLXWE/uV2ho+RwCA94KmvlptZy+//HJs2bLlHc/r6uqKgQMHFj4bY30fzBAASMOb\n",
              "NgqalvAdd9xxvc/w9fT0xPPPPx9z5sx5x5+bO3duzJ49u3DsTwZ+vhlTBAB4T2hawXfdddf97yDt\n",
              "7TFixIg49NBD3/HnyuVylMvlwjHtXACgHhZtFDWl4Ovp6YlFixbF4sWLm3F5AADq0JRn+Nra2uLp\n",
              "p59uxqUBAKhT01q6kyZNissuuyw+//nPx0EHHdR7fOzYsc0aEgDgd7xpo6DhBd+0adNi6dKlcdtt\n",
              "t0VExIoVK3q/VyqVbLwMANDHGl7wrV//uy1UNm7c2OhLAwDsEYs2ihr+DN+uXqcGAEDrNDzhe/zx\n",
              "x+OQQw55y/FarRalUim2bt3a6CEBAHgbDS/4Ro8eHXfddVejLwsAsOe0dAsaXvCVy+UYPnx4oy8L\n",
              "AMBeanjBV7MMGgBoMYs2ihq+aOPRRx9t9CUBANgHTdt4GQCgZaoivp015dVqAAD0Hwo+AIDktHQB\n",
              "gHx0dAskfAAAyUn4AIB0bMtSJOEDAEhOwQcAkJyWLgCQjzd/FUj4AACSk/ABAOlYtFEk4QMASE7C\n",
              "BwDkI+ErkPABALTIrFmzorOzM0qlUqxdu3aX59xzzz1x0kknxdFHHx0f+chHYs6cOVGtVusaR8EH\n",
              "ANAiU6dOjVWrVsXw4cN3e8773//++Pd///dYt25dPPzww/Gzn/0sbrnllrrG0dIFANIpvUu2ZZk4\n",
              "ceI7nnPcccf1/nnAgAExfvz42LRpU13jKPgAABqoUqlEpVIpHCuXy1Eul/f52lu2bInvfe97sXz5\n",
              "8rp+TksXAMin2rpPV1dXDBw4sPDp6ura519p+/btce6558acOXNiwoQJdf2shA8AoIHmzp0bs2fP\n",
              "Lhzb13Tvt7/9bUyZMiXOP//8t1x7Tyj4AAAaqFHt2//x2muvxZQpU2LKlCnxd3/3d3t1DS1dACCd\n",
              "Uq3Wsk89Zs6cGUOHDo3NmzfH5MmTY9SoURERMWPGjFi2bFlERFx//fXx4IMPxh133BHjx4+P8ePH\n",
              "xz/+4z/Wez/6/zKWj+/36VZPAWiSFdXbWz0FIKEzz9j3Z+b21o/vmduysXdHSxcAyKffx1l9S0sX\n",
              "ACA5CR8AkE//f2KtT0n4AACSU/ABACSnpQsApFPS0S2Q8AEAJCfhAwDysWijQMIHAJCcgg8AIDkt\n",
              "XQAgnVK11TPoXyR8AADJSfgAgHws2iiQ8AEAJCfhAwDyEfAVSPgAAJJT8AEAJKelCwCkU7Joo0DC\n",
              "BwCQnIQPAMhHwlcg4QMASE7BBwCQnJYuAJCPd+kWSPgAAJKT8AEA6diWpUjCBwCQnIQPAMhHwlcg\n",
              "4QMASE7BBwCQnJYuAJCPlm6BhA8AIDkJHwCQj42XCyR8AADJKfgAAJLT0gUA0vGmjSIJHwBAchI+\n",
              "ACAfCV+BhA8AIDkJHwCQj4SvQMIHAJCcgg8AIDktXQAgHy3dAgkfAEByEj4AIB/v0i2Q8AEAJKfg\n",
              "AwBITksXAEjHu3SLJHwAAMlJ+ACAfCR8BRI+AIDkFHwAAMlp6QIA+VS1dHcm4QMASE7CBwDkY9FG\n",
              "gYQPACA5CR8AkI+Er0DCBwCQnIIPACA5LV0AIB8t3QIJHwBAchI+ACAfGy8XSPgAAJJT8AEAJKel\n",
              "CwDkU6u2egb9ioQPACA5CR8AkI9tWQokfAAAyUn4AIB8bMtSIOEDAEhOwQcAkJyWLgCQj0UbBRI+\n",
              "AIDkJHwAQD4SvgIJHwBAcgo+AIDktHQBgHy0dAskfAAAyUn4AIB8qtVWz6BfkfABACQn4QMA8vEM\n",
              "X4GEDwAgOQUfAEByWroAQD5augUSPgCA5CR8AEA+VQnfziR8AADJKfgAAJLT0gUA0qnVvGljZxI+\n",
              "AIDkJHwAQD4WbRRI+AAAkpPwAQD52Hi5QMIHAJCcgg8AIDktXQAgn6ptWXYm4QMASE7CBwDkY9FG\n",
              "gYQPACA5BR8AQHJaugBAOjWLNgokfAAAyUn4AIB8LNookPABACQn4QMA8qlK+HYm4QMASE7BBwCQ\n",
              "nJYuAJBPzbYsO5PwAQAkJ+EDANKpWbRRIOEDAEhOwQcAkJyWLgCQj0UbBRI+AIDkJHwAQDoWbRRJ\n",
              "+AAAWmTWrFnR2dkZpVIp1q5du9vzvv3tb8cRRxwRI0eOjEsvvTTefPPNusZR8AEA+dSqrfvUYerU\n",
              "qbFq1aoYPnz4bs/ZuHFjzJs3L+6///7YsGFD/OpXv4qbbrqprnEUfAAALTJx4sQYOnTo257zve99\n",
              "L84777z40Ic+FKVSKS6//PJYunRpXeN4hg8AoIEqlUpUKpXCsXK5HOVyea+u98ILLxQSwM7Oznjh\n",
              "hRfqusa7ouBbUb291VOgj1Qqlejq6oq5c+fu9V8MoH/y95u+1MraYf78+bFgwYLCsauvvjrmz5/f\n",
              "mgmFli79TKVSiQULFrzlX0bAu5+/37xXzJ07N1599dXCZ+7cuXt9vWHDhsXzzz/f+/WmTZti2LBh\n",
              "dV1DwQcA0EDlcjk6OjoKn31Jtf/0T/80li1bFlu2bIlarRbf+ta34sILL6zrGgo+AIAWmTlzZgwd\n",
              "OjQ2b94ckydPjlGjRkVExIwZM2LZsmURETFixIhYsGBB/NEf/VGMGjUqBg8eHDNnzqxrnFKtVrMz\n",
              "If3G9u3bY+DAgfHqq69GR0dHq6cDNJC/39A6Ej76lXK5HFdffbUHuiEhf7+hdSR8AADJSfgAAJJT\n",
              "8AEAJKfgAwBI7l3xpg3evTo7O6NcLscBBxwQERETJkyIRYsW7fLc008/Pb74xS/GBRdc0IczBPbF\n",
              "+PHjIyLijTfeiKeeeiqOPfbYiIgYPXp03HbbbS2cGbAzBR9Nd9ttt/X+TwHIZe3atRHxu53/x48f\n",
              "3/v1zrq7u6O93f9uoJW0dOlTS5YsiZNPPjmOO+64GDduXPzgBz/Y5XmLFi2Ko48+OsaPHx/HHnts\n",
              "rF69OiIinnnmmTjnnHPixBNPjLFjx8Y3vvGNvpw+sIc6OzvjqquuipNOOikuuuiiuO+++wr/8Hvy\n",
              "ySejs7Oz9+u77747Tj311DjhhBPipJNOinvvvbfvJw2J+ScXTfeZz3ymt6U7b968eOCBB6JUKsWm\n",
              "TZvilFNOieeff/4t+3J9+ctfjvXr18ehhx4ab775ZlQqlejp6Ylp06bFrbfeGkcddVS8/vrrccop\n",
              "p8TJJ58cJ554Yit+NeBtvPzyy7F69eoolUpx33337fa85557LubPnx933313dHR0xIYNG+K0006L\n",
              "TZs22bMPGkTBR9Pt3NJds2ZNnH322bF58+Zob2+PrVu3xsaNG+Ooo44q/MyZZ54Zn/vc5+Lcc8+N\n",
              "s88+O4488shYt25d/PznPy+8P/C3v/1trFu3TsEH/dDnP//5KJVK73jej370o9iwYUNMnDix99h+\n",
              "++0XL7zwQhxxxBHNnCK8Zyj46FMXXnhh/NM//VNMnTo1IiIOOeSQ2LFjx1vO+4//+I94+OGH4777\n",
              "7otPfOIT8bWvfS2OPfbYOOSQQ3b5jBDQ/xx00EG9f25vb4+enp7er3f+e1+r1eLjH/94LFmypE/n\n",
              "B+8lnuGjT23bti0OP/zwiIi49dZbY9u2bW85p7u7O5599tmYMGFC/M3f/E1MnTo1HnzwwRg9enR0\n",
              "dHTEzTff3Hvuhg0bYuvWrX02f2DvjBgxIp5//vl46aWXIiJi8eLFvd+bPHlyrFy5Mh5//PHeYw8+\n",
              "+GCfzxEyk/DRp66//vqYOnVqDBo0KM4444wYNmzYW87p6emJiy++OLZu3Rrt7e0xePDguPnmm6O9\n",
              "vT2WL18eX/ziF+Paa6+Nnp6e+OAHPygVgHeBIUOGxJw5c+Kkk06KP/zDP4yzzz6793ujRo2KJUuW\n",
              "xMyZM+P111+PN954I4477jh/t6GBvEsXACA5LV0AgOQUfAAAySn4AACSU/ABACSn4AOa7s///M9j\n",
              "woQJMXbs2DjnnHNiy5YtsWnTphg0aFDMmzcvjj/++DjiiCPipz/9aXzpS1+K8ePHxzHHHBNPPvlk\n",
              "q6cOkIKCD2i66667LtasWROPP/54nHbaaTF//vyIiHj11VfjhBNOiEceeSS+8pWvxOTJk+O8886L\n",
              "tWvXxkUXXRQLFixo7cQBkrAPH9B0S5YsicWLF8eOHTtix44d8cEPfjAiIgYMGBAXXHBBRERMmDAh\n",
              "DjrooJg0aVJERJx00knx3e9+t1VTBkhFwgc01apVq+KGG26Iu+66K5588sm45pprel+rVS6Xe89r\n",
              "a2uLAQMGFL7u7u7u8/kCZKTgA5pq27ZtcfDBB8cHPvCBeOONN2LhwoWtnhLAe46CD2iqKVOmxOjR\n",
              "o2P06NFx2mmnxfjx41s9JYD3HK9WAwBITsIHAJCcgg8AIDkFHwBAcgo+AIDkFHwAAMkp+AAAklPw\n",
              "AQAkp+ADAEhOwQcAkJyCDwAgOQUfAEBy/w/k9kNRoSj69wAAAABJRU5ErkJggg==\n",
              "\">\n",
              "      </div>\n",
              "      <script type=\"text/javascript\">\n",
              "        (() => {\n",
              "          const chartElement = document.getElementById(\"chart-2789b810-80a2-4ae5-b8e0-1f7c59420102\");\n",
              "          async function getCodeForChartHandler(event) {\n",
              "            const chartCodeResponse =  await google.colab.kernel.invokeFunction(\n",
              "                'getCodeForChart', [\"chart-2789b810-80a2-4ae5-b8e0-1f7c59420102\"], {});\n",
              "            const responseJson = chartCodeResponse.data['application/json'];\n",
              "            await google.colab.notebook.addCell(responseJson.code, 'code');\n",
              "          }\n",
              "          chartElement.onclick = getCodeForChartHandler;\n",
              "        })();\n",
              "      </script>\n",
              "      <style>\n",
              "        .colab-quickchart-chart-with-code  {\n",
              "            display: block;\n",
              "            float: left;\n",
              "            border: 1px solid transparent;\n",
              "        }\n",
              "\n",
              "        .colab-quickchart-chart-with-code:hover {\n",
              "            cursor: pointer;\n",
              "            border: 1px solid #aaa;\n",
              "        }\n",
              "      </style>"
            ]
          },
          "metadata": {}
        }
      ]
    },
    {
      "cell_type": "markdown",
      "source": [
        "***11. Converting text to Features Using Count Vectorizing Method***"
      ],
      "metadata": {
        "id": "RFGmFJZaIzXD"
      }
    },
    {
      "cell_type": "code",
      "source": [
        "from sklearn.feature_extraction.text import CountVectorizer\n",
        "text = [\"I love NLP and I will learn NLP in 2 Months\"]\n",
        "Vectorizer = CountVectorizer()\n",
        "Vectorizer.fit(text)\n",
        "vector = Vectorizer.transform(text)\n",
        "print(Vectorizer.vocabulary_)\n",
        "print(vector.toarray())"
      ],
      "metadata": {
        "colab": {
          "base_uri": "https://localhost:8080/"
        },
        "id": "hx1IhJIaJXyt",
        "outputId": "9783b7c8-967f-445e-eb4d-3d8a2a452259"
      },
      "execution_count": null,
      "outputs": [
        {
          "output_type": "stream",
          "name": "stdout",
          "text": [
            "{'love': 3, 'nlp': 5, 'and': 0, 'will': 6, 'learn': 2, 'in': 1, 'months': 4}\n",
            "[[1 1 1 1 1 2 1]]\n"
          ]
        }
      ]
    },
    {
      "cell_type": "markdown",
      "source": [
        "***12. Converting text to features using TF-IDF Generating N-gram(birams).***"
      ],
      "metadata": {
        "id": "yH3qWm8GJhRO"
      }
    },
    {
      "cell_type": "code",
      "source": [
        "from sklearn.feature_extraction.text import CountVectorizer\n",
        "text = [\"I love NLP and I will learn NLP in 2 Months\"]\n",
        "Vectorizer = CountVectorizer(ngram_range=(2,2))\n",
        "Vectorizer.fit(text)\n",
        "vector = Vectorizer.transform(text)\n",
        "print(Vectorizer.vocabulary_)\n",
        "print(vector.toarray())"
      ],
      "metadata": {
        "colab": {
          "base_uri": "https://localhost:8080/"
        },
        "id": "AvtmT4OBJiMx",
        "outputId": "6a5d4967-92c6-40bc-fcbc-8853b86623ab"
      },
      "execution_count": null,
      "outputs": [
        {
          "output_type": "stream",
          "name": "stdout",
          "text": [
            "{'love nlp': 3, 'nlp and': 4, 'and will': 0, 'will learn': 6, 'learn nlp': 2, 'nlp in': 5, 'in months': 1}\n",
            "[[1 1 1 1 1 1 1]]\n"
          ]
        }
      ]
    },
    {
      "cell_type": "markdown",
      "source": [],
      "metadata": {
        "id": "FpzTnwHsLow9"
      }
    },
    {
      "cell_type": "code",
      "source": [
        "import nltk\n",
        "from textblob import TextBlob\n",
        "nltk.download('punkt')\n",
        "blob = TextBlob(\"John is learning natural language processing\")\n",
        "for np in blob.noun_phrases:\n",
        " print(np)\n"
      ],
      "metadata": {
        "colab": {
          "base_uri": "https://localhost:8080/"
        },
        "id": "bphoiBiHLpph",
        "outputId": "759056df-4f18-423c-a383-d6154fb8282f"
      },
      "execution_count": null,
      "outputs": [
        {
          "output_type": "stream",
          "name": "stderr",
          "text": [
            "[nltk_data] Downloading package punkt to /root/nltk_data...\n",
            "[nltk_data]   Unzipping tokenizers/punkt.zip.\n"
          ]
        },
        {
          "output_type": "stream",
          "name": "stdout",
          "text": [
            "john\n",
            "natural language processing\n"
          ]
        }
      ]
    },
    {
      "cell_type": "markdown",
      "source": [
        "***(b).Extract the Entities.***"
      ],
      "metadata": {
        "id": "NcLt7UbvQmZD"
      }
    },
    {
      "cell_type": "code",
      "source": [
        "sent = \"John is studying at Stanford University in California\"\n",
        "\n",
        "\n",
        "import nltk\n",
        "nltk.download('maxent_ne_chunker')\n"
      ],
      "metadata": {
        "colab": {
          "base_uri": "https://localhost:8080/"
        },
        "id": "5Yy_cx7nN4dS",
        "outputId": "f349a91a-b892-45a9-c745-ec9eb5677f88"
      },
      "execution_count": null,
      "outputs": [
        {
          "output_type": "stream",
          "name": "stderr",
          "text": [
            "[nltk_data] Downloading package maxent_ne_chunker to\n",
            "[nltk_data]     /root/nltk_data...\n",
            "[nltk_data]   Unzipping chunkers/maxent_ne_chunker.zip.\n"
          ]
        },
        {
          "output_type": "execute_result",
          "data": {
            "text/plain": [
              "True"
            ]
          },
          "metadata": {},
          "execution_count": 13
        }
      ]
    },
    {
      "cell_type": "code",
      "source": [
        "!pip install svgling"
      ],
      "metadata": {
        "colab": {
          "base_uri": "https://localhost:8080/"
        },
        "id": "MfQDtw4ERUXp",
        "outputId": "49025280-e0fb-4c19-c284-3444782845fb"
      },
      "execution_count": null,
      "outputs": [
        {
          "output_type": "stream",
          "name": "stdout",
          "text": [
            "Collecting svgling\n",
            "  Downloading svgling-0.5.0-py3-none-any.whl.metadata (7.4 kB)\n",
            "Collecting svgwrite (from svgling)\n",
            "  Downloading svgwrite-1.4.3-py3-none-any.whl.metadata (8.8 kB)\n",
            "Downloading svgling-0.5.0-py3-none-any.whl (31 kB)\n",
            "Downloading svgwrite-1.4.3-py3-none-any.whl (67 kB)\n",
            "\u001b[2K   \u001b[90m━━━━━━━━━━━━━━━━━━━━━━━━━━━━━━━━━━━━━━━━\u001b[0m \u001b[32m67.1/67.1 kB\u001b[0m \u001b[31m4.1 MB/s\u001b[0m eta \u001b[36m0:00:00\u001b[0m\n",
            "\u001b[?25hInstalling collected packages: svgwrite, svgling\n",
            "Successfully installed svgling-0.5.0 svgwrite-1.4.3\n"
          ]
        }
      ]
    },
    {
      "cell_type": "code",
      "source": [
        "import nltk\n",
        "nltk.download('averaged_perceptron_tagger')\n",
        "nltk.download('words')\n",
        "import nltk\n",
        "from nltk import ne_chunk\n",
        "from nltk import word_tokenize\n",
        "ne_chunk(nltk.pos_tag(word_tokenize(sent)), binary=False)"
      ],
      "metadata": {
        "colab": {
          "base_uri": "https://localhost:8080/",
          "height": 280
        },
        "id": "8jKmfy-gSJ8Q",
        "outputId": "5d6f87e5-5f79-4fcf-fade-c0154bf9d36e"
      },
      "execution_count": null,
      "outputs": [
        {
          "output_type": "stream",
          "name": "stderr",
          "text": [
            "[nltk_data] Downloading package averaged_perceptron_tagger to\n",
            "[nltk_data]     /root/nltk_data...\n",
            "[nltk_data]   Unzipping taggers/averaged_perceptron_tagger.zip.\n",
            "[nltk_data] Downloading package words to /root/nltk_data...\n",
            "[nltk_data]   Package words is already up-to-date!\n"
          ]
        },
        {
          "output_type": "execute_result",
          "data": {
            "text/plain": [
              "Tree('S', [Tree('PERSON', [('John', 'NNP')]), ('is', 'VBZ'), ('studying', 'VBG'), ('at', 'IN'), Tree('ORGANIZATION', [('Stanford', 'NNP'), ('University', 'NNP')]), ('in', 'IN'), Tree('GPE', [('California', 'NNP')])])"
            ],
            "image/svg+xml": "<svg baseProfile=\"full\" height=\"168px\" preserveAspectRatio=\"xMidYMid meet\" style=\"font-family: times, serif; font-weight: normal; font-style: normal; font-size: 16px\" version=\"1.1\" viewBox=\"0,0,520.0,168.0\" width=\"520px\" xmlns=\"http://www.w3.org/2000/svg\" xmlns:ev=\"http://www.w3.org/2001/xml-events\" xmlns:xlink=\"http://www.w3.org/1999/xlink\"><defs /><svg width=\"100%\" x=\"0\" y=\"0px\"><defs /><text text-anchor=\"middle\" x=\"50%\" y=\"16px\">S</text></svg><svg width=\"12.3077%\" x=\"0%\" y=\"48px\"><defs /><svg width=\"100%\" x=\"0\" y=\"0px\"><defs /><text text-anchor=\"middle\" x=\"50%\" y=\"16px\">PERSON</text></svg><svg width=\"100%\" x=\"0%\" y=\"48px\"><defs /><svg width=\"100%\" x=\"0\" y=\"0px\"><defs /><text text-anchor=\"middle\" x=\"50%\" y=\"16px\">John</text></svg><svg width=\"100%\" x=\"0%\" y=\"48px\"><defs /><svg width=\"100%\" x=\"0\" y=\"0px\"><defs /><text text-anchor=\"middle\" x=\"50%\" y=\"16px\">NNP</text></svg></svg><line stroke=\"black\" x1=\"50%\" x2=\"50%\" y1=\"20px\" y2=\"48px\" /></svg><line stroke=\"black\" x1=\"50%\" x2=\"50%\" y1=\"20px\" y2=\"48px\" /></svg><line stroke=\"black\" x1=\"50%\" x2=\"6.15385%\" y1=\"20px\" y2=\"48px\" /><svg width=\"7.69231%\" x=\"12.3077%\" y=\"48px\"><defs /><svg width=\"100%\" x=\"0\" y=\"0px\"><defs /><text text-anchor=\"middle\" x=\"50%\" y=\"16px\">is</text></svg><svg width=\"100%\" x=\"0%\" y=\"48px\"><defs /><svg width=\"100%\" x=\"0\" y=\"0px\"><defs /><text text-anchor=\"middle\" x=\"50%\" y=\"16px\">VBZ</text></svg></svg><line stroke=\"black\" x1=\"50%\" x2=\"50%\" y1=\"20px\" y2=\"48px\" /></svg><line stroke=\"black\" x1=\"50%\" x2=\"16.1538%\" y1=\"20px\" y2=\"48px\" /><svg width=\"15.3846%\" x=\"20%\" y=\"48px\"><defs /><svg width=\"100%\" x=\"0\" y=\"0px\"><defs /><text text-anchor=\"middle\" x=\"50%\" y=\"16px\">studying</text></svg><svg width=\"100%\" x=\"0%\" y=\"48px\"><defs /><svg width=\"100%\" x=\"0\" y=\"0px\"><defs /><text text-anchor=\"middle\" x=\"50%\" y=\"16px\">VBG</text></svg></svg><line stroke=\"black\" x1=\"50%\" x2=\"50%\" y1=\"20px\" y2=\"48px\" /></svg><line stroke=\"black\" x1=\"50%\" x2=\"27.6923%\" y1=\"20px\" y2=\"48px\" /><svg width=\"6.15385%\" x=\"35.3846%\" y=\"48px\"><defs /><svg width=\"100%\" x=\"0\" y=\"0px\"><defs /><text text-anchor=\"middle\" x=\"50%\" y=\"16px\">at</text></svg><svg width=\"100%\" x=\"0%\" y=\"48px\"><defs /><svg width=\"100%\" x=\"0\" y=\"0px\"><defs /><text text-anchor=\"middle\" x=\"50%\" y=\"16px\">IN</text></svg></svg><line stroke=\"black\" x1=\"50%\" x2=\"50%\" y1=\"20px\" y2=\"48px\" /></svg><line stroke=\"black\" x1=\"50%\" x2=\"38.4615%\" y1=\"20px\" y2=\"48px\" /><svg width=\"33.8462%\" x=\"41.5385%\" y=\"48px\"><defs /><svg width=\"100%\" x=\"0\" y=\"0px\"><defs /><text text-anchor=\"middle\" x=\"50%\" y=\"16px\">ORGANIZATION</text></svg><svg width=\"45.4545%\" x=\"0%\" y=\"48px\"><defs /><svg width=\"100%\" x=\"0\" y=\"0px\"><defs /><text text-anchor=\"middle\" x=\"50%\" y=\"16px\">Stanford</text></svg><svg width=\"100%\" x=\"0%\" y=\"48px\"><defs /><svg width=\"100%\" x=\"0\" y=\"0px\"><defs /><text text-anchor=\"middle\" x=\"50%\" y=\"16px\">NNP</text></svg></svg><line stroke=\"black\" x1=\"50%\" x2=\"50%\" y1=\"20px\" y2=\"48px\" /></svg><line stroke=\"black\" x1=\"50%\" x2=\"22.7273%\" y1=\"20px\" y2=\"48px\" /><svg width=\"54.5455%\" x=\"45.4545%\" y=\"48px\"><defs /><svg width=\"100%\" x=\"0\" y=\"0px\"><defs /><text text-anchor=\"middle\" x=\"50%\" y=\"16px\">University</text></svg><svg width=\"100%\" x=\"0%\" y=\"48px\"><defs /><svg width=\"100%\" x=\"0\" y=\"0px\"><defs /><text text-anchor=\"middle\" x=\"50%\" y=\"16px\">NNP</text></svg></svg><line stroke=\"black\" x1=\"50%\" x2=\"50%\" y1=\"20px\" y2=\"48px\" /></svg><line stroke=\"black\" x1=\"50%\" x2=\"72.7273%\" y1=\"20px\" y2=\"48px\" /></svg><line stroke=\"black\" x1=\"50%\" x2=\"58.4615%\" y1=\"20px\" y2=\"48px\" /><svg width=\"6.15385%\" x=\"75.3846%\" y=\"48px\"><defs /><svg width=\"100%\" x=\"0\" y=\"0px\"><defs /><text text-anchor=\"middle\" x=\"50%\" y=\"16px\">in</text></svg><svg width=\"100%\" x=\"0%\" y=\"48px\"><defs /><svg width=\"100%\" x=\"0\" y=\"0px\"><defs /><text text-anchor=\"middle\" x=\"50%\" y=\"16px\">IN</text></svg></svg><line stroke=\"black\" x1=\"50%\" x2=\"50%\" y1=\"20px\" y2=\"48px\" /></svg><line stroke=\"black\" x1=\"50%\" x2=\"78.4615%\" y1=\"20px\" y2=\"48px\" /><svg width=\"18.4615%\" x=\"81.5385%\" y=\"48px\"><defs /><svg width=\"100%\" x=\"0\" y=\"0px\"><defs /><text text-anchor=\"middle\" x=\"50%\" y=\"16px\">GPE</text></svg><svg width=\"100%\" x=\"0%\" y=\"48px\"><defs /><svg width=\"100%\" x=\"0\" y=\"0px\"><defs /><text text-anchor=\"middle\" x=\"50%\" y=\"16px\">California</text></svg><svg width=\"100%\" x=\"0%\" y=\"48px\"><defs /><svg width=\"100%\" x=\"0\" y=\"0px\"><defs /><text text-anchor=\"middle\" x=\"50%\" y=\"16px\">NNP</text></svg></svg><line stroke=\"black\" x1=\"50%\" x2=\"50%\" y1=\"20px\" y2=\"48px\" /></svg><line stroke=\"black\" x1=\"50%\" x2=\"50%\" y1=\"20px\" y2=\"48px\" /></svg><line stroke=\"black\" x1=\"50%\" x2=\"90.7692%\" y1=\"20px\" y2=\"48px\" /></svg>"
          },
          "metadata": {},
          "execution_count": 17
        }
      ]
    },
    {
      "cell_type": "markdown",
      "source": [
        "***(c). Extracting Topics from Text.***"
      ],
      "metadata": {
        "id": "UfyOG5DUUc7H"
      }
    },
    {
      "cell_type": "code",
      "source": [
        "doc1 = \"I am learning NLP, it is very interesting and exciting. \\nit inclutes machine learning and deep learning\"\n",
        "doc2 = \"My father is a data scientist and he is nlp expert\"\n",
        "doc3 = \"My sister has good exposure into android development\"\n",
        "doc_complete = [doc1, doc2, doc3]\n",
        "doc_complete\n",
        "doc3 = \"My sister has good exposure into android development\"\n",
        "doc_complete = [doc1, doc2, doc3]\n",
        "doc_complete"
      ],
      "metadata": {
        "colab": {
          "base_uri": "https://localhost:8080/"
        },
        "id": "bE4RVhpWUIcP",
        "outputId": "60ae16f4-5e7b-42ec-9a48-53da7b5a9cb8"
      },
      "execution_count": null,
      "outputs": [
        {
          "output_type": "execute_result",
          "data": {
            "text/plain": [
              "['I am learning NLP, it is very interesting and exciting. \\nit inclutes machine learning and deep learning',\n",
              " 'My father is a data scientist and he is nlp expert',\n",
              " 'My sister has good exposure into android development']"
            ]
          },
          "metadata": {},
          "execution_count": 16
        }
      ]
    },
    {
      "cell_type": "markdown",
      "source": [
        "***14a. Finding Similarity Between Texts***"
      ],
      "metadata": {
        "id": "yDp9vbjDV3TY"
      }
    },
    {
      "cell_type": "code",
      "source": [
        "from sklearn.feature_extraction.text import TfidfVectorizer\n",
        "documents = doc_complete\n",
        "tfidf_vectorizer = TfidfVectorizer()\n",
        "tfidf_matrix = tfidf_vectorizer.fit_transform(documents)\n",
        "\n",
        "from sklearn.feature_extraction.text import TfidfVectorizer\n",
        "from sklearn.metrics.pairwise import cosine_similarity\n",
        "tfidf_vectorizer = TfidfVectorizer()\n",
        "tfidf_matrix = tfidf_vectorizer.fit_transform(documents)\n",
        "tfidf_matrix.shape"
      ],
      "metadata": {
        "colab": {
          "base_uri": "https://localhost:8080/"
        },
        "id": "1NsxppdeWHQR",
        "outputId": "f0736fff-ae71-4d38-d662-e0a303172a42"
      },
      "execution_count": null,
      "outputs": [
        {
          "output_type": "execute_result",
          "data": {
            "text/plain": [
              "(3, 25)"
            ]
          },
          "metadata": {},
          "execution_count": 18
        }
      ]
    },
    {
      "cell_type": "markdown",
      "source": [
        "***(b). Tagging Part of Speech.***"
      ],
      "metadata": {
        "id": "C8hSvhKfXwvx"
      }
    },
    {
      "cell_type": "code",
      "source": [
        "import nltk\n",
        "nltk.download('stopwords')"
      ],
      "metadata": {
        "colab": {
          "base_uri": "https://localhost:8080/"
        },
        "id": "3jrDW1vKXni-",
        "outputId": "1b555c06-8144-4d9f-feef-ea876512d0ac"
      },
      "execution_count": null,
      "outputs": [
        {
          "output_type": "stream",
          "name": "stderr",
          "text": [
            "[nltk_data] Downloading package stopwords to /root/nltk_data...\n",
            "[nltk_data]   Unzipping corpora/stopwords.zip.\n"
          ]
        },
        {
          "output_type": "execute_result",
          "data": {
            "text/plain": [
              "True"
            ]
          },
          "metadata": {},
          "execution_count": 19
        }
      ]
    },
    {
      "cell_type": "code",
      "source": [
        "import nltk\n",
        "nltk.download('stopwords')\n",
        "from nltk.corpus import stopwords\n",
        "from nltk.tokenize import word_tokenize, sent_tokenize\n",
        "Text = \"I love NLP and I will learn NLP in 2 month\"\n",
        "stop_words = set (stopwords.words('english'))\n",
        "tokens = sent_tokenize (Text) # Use 'Text' instead of 'text\n",
        "for i in tokens:\n",
        " words = nltk.word_tokenize(i)\n",
        " words = [w for w in words if not w in stop_words]\n",
        " tags = nltk.pos_tag(words)"
      ],
      "metadata": {
        "colab": {
          "base_uri": "https://localhost:8080/"
        },
        "id": "Ez9ilFuCYLhB",
        "outputId": "72d8a0a9-e161-4e22-8592-713003fdf9db"
      },
      "execution_count": null,
      "outputs": [
        {
          "output_type": "stream",
          "name": "stderr",
          "text": [
            "[nltk_data] Downloading package stopwords to /root/nltk_data...\n",
            "[nltk_data]   Package stopwords is already up-to-date!\n"
          ]
        }
      ]
    },
    {
      "cell_type": "markdown",
      "source": [
        "***15. Classifying Test: Sentiment Analysis***"
      ],
      "metadata": {
        "id": "jG0_bDMvZRFl"
      }
    },
    {
      "cell_type": "code",
      "source": [
        "import pandas as pd\n",
        "import os\n",
        "current_directory = os.getcwd()\n",
        "print(\"Current working directory:\", current_directory)\n",
        "file_path = os.path.join(current_directory, 'data', 'spam.csv')\n",
        "try:\n",
        "  Email_Data = pd.read_csv(file_path, encoding='latin1')\n",
        "  print(\"File loaded successfully!\")\n",
        "  print (Email_Data.columns)\n",
        "except FileNotFoundError:\n",
        "  print (f\"Error: File not found at {file_path}\")\n",
        "  print(\"Please ensure the file exists and the path is correct.\")\n",
        "except Exception as e:\n",
        "  print(f\"An error occurred: {e}\")"
      ],
      "metadata": {
        "colab": {
          "base_uri": "https://localhost:8080/"
        },
        "id": "2DO_pod2ZkL3",
        "outputId": "1463e8e1-5685-42b5-8f8a-4b54dc2ce9f3"
      },
      "execution_count": null,
      "outputs": [
        {
          "output_type": "stream",
          "name": "stdout",
          "text": [
            "Current working directory: /content\n",
            "Error: File not found at /content/data/spam.csv\n",
            "Please ensure the file exists and the path is correct.\n"
          ]
        }
      ]
    },
    {
      "cell_type": "markdown",
      "source": [
        "***15b. Sentiment Analysis***"
      ],
      "metadata": {
        "id": "1tYXdCfLbJ5d"
      }
    },
    {
      "cell_type": "code",
      "source": [
        "review = \"I like this phone screen quality and camera clarity \\nis really good.\"\n",
        "review2 = \"This tv is not good. Bad quality, no clarity, worst \\nexperience\"\n",
        "\n",
        "from textblob import TextBlob\n",
        "blob = TextBlob (review)\n",
        "blob.sentiment"
      ],
      "metadata": {
        "colab": {
          "base_uri": "https://localhost:8080/"
        },
        "id": "qXp90cSnbVqD",
        "outputId": "f08fe02e-1caa-4c58-995b-4b7e0bd81f25"
      },
      "execution_count": null,
      "outputs": [
        {
          "output_type": "execute_result",
          "data": {
            "text/plain": [
              "Sentiment(polarity=0.7, subjectivity=0.6000000000000001)"
            ]
          },
          "metadata": {},
          "execution_count": 25
        }
      ]
    },
    {
      "cell_type": "code",
      "source": [],
      "metadata": {
        "id": "_TCnLvgkgytL"
      },
      "execution_count": null,
      "outputs": []
    },
    {
      "cell_type": "code",
      "source": [],
      "metadata": {
        "id": "BEmK0weJgyHU"
      },
      "execution_count": null,
      "outputs": []
    },
    {
      "cell_type": "code",
      "source": [],
      "metadata": {
        "id": "j6FSzv7_h1KI"
      },
      "execution_count": null,
      "outputs": []
    },
    {
      "cell_type": "code",
      "source": [],
      "metadata": {
        "id": "c66I-Y_cgMHt"
      },
      "execution_count": null,
      "outputs": []
    },
    {
      "cell_type": "code",
      "source": [],
      "metadata": {
        "id": "sJcM-pSBhUP0"
      },
      "execution_count": null,
      "outputs": []
    },
    {
      "cell_type": "code",
      "source": [],
      "metadata": {
        "id": "4WenbGZNhUBP"
      },
      "execution_count": null,
      "outputs": []
    }
  ]
}