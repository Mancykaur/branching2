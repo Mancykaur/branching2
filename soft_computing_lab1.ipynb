{
  "nbformat": 4,
  "nbformat_minor": 0,
  "metadata": {
    "colab": {
      "provenance": [],
      "authorship_tag": "ABX9TyMSpVg7U+/VMoZ+g/o9YuoY",
      "include_colab_link": true
    },
    "kernelspec": {
      "name": "python3",
      "display_name": "Python 3"
    },
    "language_info": {
      "name": "python"
    }
  },
  "cells": [
    {
      "cell_type": "markdown",
      "metadata": {
        "id": "view-in-github",
        "colab_type": "text"
      },
      "source": [
        "<a href=\"https://colab.research.google.com/github/Mancykaur/branching2/blob/master/soft_computing_lab1.ipynb\" target=\"_parent\"><img src=\"https://colab.research.google.com/assets/colab-badge.svg\" alt=\"Open In Colab\"/></a>"
      ]
    },
    {
      "cell_type": "markdown",
      "source": [
        "***1.Program to implement a Genetic Algorithm.***"
      ],
      "metadata": {
        "id": "bjMCLv6tNsnT"
      }
    },
    {
      "cell_type": "code",
      "source": [
        "import random\n",
        "\n",
        "#Step 1: Initialization\n",
        "\n",
        "def initialize_population (pop_size, chromosome_length):\n",
        "    population = []\n",
        "    for _ in range(pop_size):\n",
        "        chromosome = ''.join(random.choice('01') for _ in range(chromosome_length))\n",
        "        population.append(chromosome)\n",
        "    return population\n",
        "\n",
        "#Step 2: Fitness Function\n",
        "\n",
        "def fitness (chromosome):\n",
        "   return sum(int (gene) for gene in chromosome)\n",
        "\n",
        "#Step 3: Selection\n",
        "\n",
        "def selection (population, fitnesses):\n",
        "    total_fitness = sum (fitnesses)\n",
        "    probabilities = [f/total_fitness for f in fitnesses]\n",
        "    selected_indices =random.choices (range (len(population)), probabilities, k=2)\n",
        "    return population [selected_indices [0]], population [selected_indices[1]]\n",
        "\n",
        "# Parameters\n",
        "\n",
        "population_size = 10\n",
        "chromosome_length = 8\n",
        "\n",
        "#Generate initial population.\n",
        "\n",
        "population = initialize_population (population_size, chromosome_length)\n",
        "\n",
        "#Calculate fitness for each chromosome in the population\n",
        "\n",
        "fitnesses = [fitness (chromosome) for chromosome in population]\n",
        "\n",
        "#Perform selection\n",
        "\n",
        "parent1, parent2 = selection(population, fitnesses)\n",
        "\n",
        "#Display initial population, fitnesses, and selected parents print(\"Initial Population:\")\n",
        "\n",
        "for i, chromosome in enumerate (population):\n",
        "    print (f\"Chromosome (i+1): (chromosome), Fitness: {fitnesses [i]}\")\n",
        "\n",
        "print(\"\\nSelected Parents:\")\n",
        "\n",
        "print(f\"Parent 1: (parent1), Fitness: {fitness (parent1)}\")\n",
        "print (f\"Parent 2: (parent2), Fitness: {fitness (parent2)}\")"
      ],
      "metadata": {
        "colab": {
          "base_uri": "https://localhost:8080/"
        },
        "id": "55mO2Kj0KYjb",
        "outputId": "cc551a0e-f834-4aa4-e4f9-7b74a0a7016f"
      },
      "execution_count": null,
      "outputs": [
        {
          "output_type": "stream",
          "name": "stdout",
          "text": [
            "Chromosome (i+1): (chromosome), Fitness: 3\n",
            "Chromosome (i+1): (chromosome), Fitness: 3\n",
            "Chromosome (i+1): (chromosome), Fitness: 6\n",
            "Chromosome (i+1): (chromosome), Fitness: 6\n",
            "Chromosome (i+1): (chromosome), Fitness: 4\n",
            "Chromosome (i+1): (chromosome), Fitness: 2\n",
            "Chromosome (i+1): (chromosome), Fitness: 7\n",
            "Chromosome (i+1): (chromosome), Fitness: 4\n",
            "Chromosome (i+1): (chromosome), Fitness: 4\n",
            "Chromosome (i+1): (chromosome), Fitness: 4\n",
            "\n",
            "Selected Parents:\n",
            "Parent 1: (parent1), Fitness: 6\n",
            "Parent 2: (parent2), Fitness: 4\n"
          ]
        }
      ]
    },
    {
      "cell_type": "markdown",
      "source": [
        "***2. program to implement genetic alorithm Using crossover and mutation.***"
      ],
      "metadata": {
        "id": "3EQmJHs7JlqT"
      }
    },
    {
      "cell_type": "code",
      "execution_count": null,
      "metadata": {
        "id": "ldHXb3o1x7kp",
        "colab": {
          "base_uri": "https://localhost:8080/"
        },
        "outputId": "2cd3ea33-a657-47a2-f242-30850512bb15"
      },
      "outputs": [
        {
          "output_type": "stream",
          "name": "stdout",
          "text": [
            "initial inpopulation:\n",
            "Chromosome 1: 11101101\n",
            "Chromosome 2: 00001001\n",
            "Chromosome 3: 01001101\n",
            "Chromosome 4: 00110000\n",
            "Chromosome 5: 00010001\n",
            "Chromosome 6: 01100110\n",
            "Chromosome 7: 01000011\n",
            "Chromosome 8: 10011100\n",
            "Chromosome 9: 10110010\n",
            "Chromosome 10: 00011100\n"
          ]
        }
      ],
      "source": [
        "\n",
        "import random\n",
        "\n",
        "# initialization\n",
        "def initialize_population(population_size, chromosome_length):\n",
        "    population = []\n",
        "    for _ in range(population_size):\n",
        "        chromosome = ''.join(random.choice('01') for _ in range(chromosome_length))\n",
        "        population.append(chromosome)\n",
        "    return population\n",
        "\n",
        "population_size = 10\n",
        "chromosome_length = 8\n",
        "initial_population = initialize_population(population_size, chromosome_length)\n",
        "print(\"initial inpopulation:\")\n",
        "for i, chromosome in enumerate(initial_population):\n",
        "        print(f\"Chromosome {i + 1}: {chromosome}\")"
      ]
    },
    {
      "cell_type": "code",
      "source": [
        "def initialize_population(pop_size, chromosome_length):\n",
        "  population = []\n",
        "  for _ in range(pop_size):\n",
        "    chromosome = ''.join(random.choice('01') for _ in range(chromosome_length))\n",
        "    population.append(chromosome)\n",
        "  return population\n",
        "\n",
        "def fitness(chromosome):\n",
        "  return sum(int(gene) for gene in chromosome)\n",
        "\n",
        "def selection(population, fitnesses):\n",
        "  total_fitness = sum(fitnesses)\n",
        "  probabilities = [f / total_fitness for f in fitnesses]\n",
        "  selected_indices = random.choices(range(len(population)), probabilities, k=2)\n",
        "  return population[selected_indices[0]], population[selected_indices[1]]\n",
        "\n",
        "def single_point_crossover(parent1, parent2):\n",
        "  crossover_point = random.randint(1, len(parent1) - 1)\n",
        "  offspring1 = parent1[:crossover_point] + parent2[crossover_point:]\n",
        "  offspring2 = parent2[:crossover_point] + parent1[crossover_point:]\n",
        "  return offspring1, offspring2\n",
        "\n",
        "def mutate(chromosome, mutation_rate):\n",
        "  mutated_chromosome = ''.join( gene if random.random() > mutation_rate else random.choice('01') for gene in chromosome)\n",
        "  return mutated_chromosome\n",
        "\n",
        "\n",
        "\n",
        "def genetic_algorithm(pop_size, chromosome_length, generations, crossover_rate, mutation_rate):\n",
        "    population = initialize_population(pop_size, chromosome_length)\n",
        "\n",
        "    for generation in range(generations):\n",
        "\n",
        "        fitnesses = [fitness(chromosome) for chromosome in population]\n",
        "\n",
        "        next_population = []\n",
        "        while len(next_population) < pop_size:\n",
        "            # Selection\n",
        "            parent1, parent2 = selection(population, fitnesses)\n",
        "\n",
        "            if random.random() < crossover_rate:\n",
        "                offspring1, offspring2 = single_point_crossover(parent1, parent2)\n",
        "            else:\n",
        "                offspring1, offspring2 = parent1, parent2\n",
        "\n",
        "            offspring1 = mutate(offspring1, mutation_rate)\n",
        "            offspring2 = mutate(offspring2, mutation_rate)\n",
        "\n",
        "            next_population.extend([offspring1, offspring2])\n",
        "\n",
        "    population = next_population[:pop_size]\n",
        "\n",
        "    best_fitness = max(fitnesses)\n",
        "    print(f\"Generation {generation + 1}: Best Fitness = {best_fitness}\")\n",
        "\n",
        "    fitnesses = [fitness(chromosome) for chromosome in population]\n",
        "    best_chromosome = population[fitnesses.index(max(fitnesses))]\n",
        "    return best_chromosome, max(fitnesses)\n",
        "\n",
        "\n",
        "#parameters\n",
        "population_size = 10\n",
        "chromosome_length = 8\n",
        "generations = 20\n",
        "crossover_rate = 0.7\n",
        "mutation_rate = 0.01\n",
        "\n",
        "\n",
        "best_chromosome, best_fitness = genetic_algorithm(population_size, chromosome_length, generations, crossover_rate, mutation_rate)\n",
        "print(f\"\\nBest Chromosome: {best_chromosome} with Fitness: {best_fitness}\")\n"
      ],
      "metadata": {
        "colab": {
          "base_uri": "https://localhost:8080/"
        },
        "id": "9zc7tytbS-kn",
        "outputId": "7808e5a1-3aec-464b-a414-179a996ac9e3"
      },
      "execution_count": null,
      "outputs": [
        {
          "output_type": "stream",
          "name": "stdout",
          "text": [
            "Generation 20: Best Fitness = 7\n",
            "\n",
            "Best Chromosome: 11011111 with Fitness: 7\n"
          ]
        }
      ]
    },
    {
      "cell_type": "markdown",
      "source": [
        "***3.Program to implement particle Swarm optimiation (PSO) Algorithm***"
      ],
      "metadata": {
        "id": "1lEKwM4AVbwR"
      }
    },
    {
      "cell_type": "code",
      "source": [
        "import numpy as np\n",
        "def objective_function(x):\n",
        "    return np.sum(x**2)\n",
        "\n",
        "def particle_swarm_optimization(obj_func, bonds, num_particles=30, max_iter=100, w=0.5, c1=1.5, c2=1.5):\n",
        "  num_dimensions = len(bounds)\n",
        "  positions = np.random.rand(num_particles, num_dimensions)\n",
        "  positions = bounds[:,0] + positions * (bounds[:,1] - bounds[:,0])\n",
        "  velocities = np.zeros_like(positions)\n",
        "  personal_best_positions = positions.copy()\n",
        "  personal_best_values = np.apply_along_axis(obj_func, 1, personal_best_positions)\n",
        "  global_best_position = personal_best_positions[np.argmin(personal_best_values)]\n",
        "\n",
        "  for _ in range(max_iter):\n",
        "    r1, r2 = np.random.rand(num_particles, num_dimensions), np.random.rand(num_particles, num_dimensions)\n",
        "    velocities = w * velocities + c1 * r1 * (personal_best_positions - positions) + c2 * r2 * (global_best_position - positions)\n",
        "    positions = np.clip(positions + velocities, bounds[:,0], bounds[:,1])\n",
        "    currents_values = np.apply_along_axis(obj_func, 1, positions)\n",
        "    better_mask = currents_values < personal_best_values\n",
        "    personal_best_positions[better_mask] = positions[better_mask]\n",
        "    personal_best_values[better_mask] = currents_values[better_mask]\n",
        "    global_best_position = personal_best_positions[np.argmin(personal_best_values)]\n",
        "\n",
        "  return global_best_position, obj_func(global_best_position)\n",
        "\n",
        "bounds = np.array([[-10, 10], [-10, 10]])\n",
        "\n",
        "best_position, best_value = particle_swarm_optimization(objective_function, bounds)\n",
        "print(\"best position found:\", best_position)\n",
        "print(\"best value found:\", best_value)"
      ],
      "metadata": {
        "colab": {
          "base_uri": "https://localhost:8080/"
        },
        "id": "4lVkW_OOVdeK",
        "outputId": "767b7a94-0060-4f15-bba2-8d93b4484b9a"
      },
      "execution_count": null,
      "outputs": [
        {
          "output_type": "stream",
          "name": "stdout",
          "text": [
            "best position found: [2.50523046e-12 9.32071727e-13]\n",
            "best value found: 7.144937340916674e-24\n"
          ]
        }
      ]
    },
    {
      "cell_type": "code",
      "source": [
        "import numpy as np\n",
        "import matplotlib.pyplot as plt\n",
        "from mpl_toolkits.mplot3d import Axes3D\n",
        "\n",
        "# Define the Rastrigin function\n",
        "def rastrigin(x):\n",
        "    n = len(x)\n",
        "    return 10*n + sum([xi**2 - 10*np.cos(2*np.pi*xi) for xi in x])\n",
        "\n",
        "# Define the PSO algorithm\n",
        "def pso(cost_func, dim=2, num_particles=30, max_iter=100, w=0.5, c1=1, c2=2):\n",
        "    # Initialize particles and velocities\n",
        "    particles = np.random.uniform(-5.12, 5.12, (num_particles, dim))\n",
        "    velocities = np.zeros((num_particles, dim))\n",
        "\n",
        "    # Initialize the best positions and fitness values\n",
        "    best_positions = np.copy(particles)\n",
        "    best_fitness = np.array([cost_func(p) for p in particles])\n",
        "    swarm_best_position = best_positions[np.argmin(best_fitness)]\n",
        "    swarm_best_fitness = np.min(best_fitness)\n",
        "\n",
        "    # Iterate through the specified number of iterations, updating the velocity and position of each particle at each iteration\n",
        "    for i in range(max_iter):\n",
        "        # Update velocities\n",
        "        r1 = np.random.uniform(0, 1, (num_particles, dim))\n",
        "        r2 = np.random.uniform(0, 1, (num_particles, dim))\n",
        "        velocities = w * velocities + c1 * r1 * (best_positions - particles) + c2 * r2 * (swarm_best_position - particles)\n",
        "\n",
        "        # Update positions\n",
        "        particles += velocities\n",
        "\n",
        "        # Evaluate fitness of each particle\n",
        "        fitness_values = np.array([cost_func(p) for p in particles])\n",
        "\n",
        "        # Update best positions and fitness values\n",
        "        improved_indices = np.where(fitness_values < best_fitness)\n",
        "        best_positions[improved_indices] = particles[improved_indices]\n",
        "        best_fitness[improved_indices] = fitness_values[improved_indices]\n",
        "        if np.min(fitness_values) < swarm_best_fitness:\n",
        "            swarm_best_position = particles[np.argmin(fitness_values)]\n",
        "            swarm_best_fitness = np.min(fitness_values)\n",
        "\n",
        "    # Return the best solution found by the PSO algorithm\n",
        "    return swarm_best_position, swarm_best_fitness\n",
        "\n",
        "# Define the dimensions of the problem\n",
        "dim = 2\n",
        "\n",
        "# Run the PSO algorithm on the Rastrigin function\n",
        "solution, fitness = pso(rastrigin, dim=dim)\n",
        "\n",
        "# Print the solution and fitness value\n",
        "print('Solution:', solution)\n",
        "print('Fitness:', fitness)\n",
        "\n",
        "# Create a meshgrid for visualization\n",
        "x = np.linspace(-5.12, 5.12, 100)\n",
        "y = np.linspace(-5.12, 5.12, 100)\n",
        "X, Y = np.meshgrid(x, y)\n",
        "Z = rastrigin([X, Y])\n",
        "\n",
        "# Create a 3D plot of the Rastrigin function\n",
        "fig = plt.figure()\n",
        "ax = fig.add_subplot(111, projection='3d')\n",
        "ax.plot_surface(X, Y, Z, cmap='viridis')\n",
        "ax.set_xlabel('x')\n",
        "ax.set_ylabel('y')\n",
        "ax.set_zlabel('z')\n",
        "\n",
        "# Plot the solution found by the PSO algorithm\n",
        "ax.scatter(solution[0], solution[1], fitness, color='red')\n",
        "plt.show()\n"
      ],
      "metadata": {
        "colab": {
          "base_uri": "https://localhost:8080/",
          "height": 445
        },
        "id": "9pSMTzKsPY_P",
        "outputId": "16c3fc66-8e95-4178-c492-f87412d56ece"
      },
      "execution_count": null,
      "outputs": [
        {
          "output_type": "stream",
          "name": "stdout",
          "text": [
            "Solution: [-3.14148391e-09  1.37687477e-08]\n",
            "Fitness: 3.907985046680551e-14\n"
          ]
        },
        {
          "output_type": "display_data",
          "data": {
            "text/plain": [
              "<Figure size 640x480 with 1 Axes>"
            ],
            "image/png": "[encoded data removed]"
          },
          "metadata": {}
        }
      ]
    },
    {
      "cell_type": "markdown",
      "source": [
        "***4.Program to implement simple nural network***"
      ],
      "metadata": {
        "id": "5M94rxrxZnYH"
      }
    },
    {
      "cell_type": "code",
      "source": [
        "import numpy as np\n",
        "from typing import List\n",
        "\n",
        "class SimpleNeuralNetwork:\n",
        "    def __init__(self, input_size=2, hidden_size=2, output_size=1):\n",
        "        #Initialize weights and biases.\n",
        "        self.W1 = np.random.rand(input_size, hidden_size)\n",
        "        self.b1 = np.zeros((1, hidden_size))\n",
        "        self.W2 = np.random.rand(hidden_size, output_size)\n",
        "        self.b2 = np.zeros((1, output_size))\n",
        "\n",
        "    def sigmoid(self, x):\n",
        "       return 1/(1 + np.exp(-x))\n",
        "\n",
        "    def sigmoid_derivative(self, x):\n",
        "        return x * (1 - x)\n",
        "\n",
        "    def fit(self, X: List[List[float]], y: List[int], epochs: int, learning_rate: float) -> None:\n",
        "        X = np.array (X)\n",
        "        y = np.array(y).reshape(-1, 1)\n",
        "\n",
        "        for epoch in range(epochs):\n",
        "            #Forward pass\n",
        "            hidden_input = np.dot(X, self.W1) + self.b1\n",
        "            hidden_output = self.sigmoid(hidden_input)\n",
        "            final_input = np.dot (hidden_output, self.W2) + self.b2\n",
        "            final_output = self.sigmoid(final_input)\n",
        "\n",
        "            #Calculate the error\n",
        "            error = y - final_output\n",
        "\n",
        "            #Backpropagation.\n",
        "            d_final_output = error * self.sigmoid_derivative(final_output)\n",
        "            d_hidden_output = d_final_output.dot (self.W2.T) * self.sigmoid_derivative(hidden_output)\n",
        "\n",
        "            #Update weights and biases.\n",
        "            self.W1 += X.T.dot(d_hidden_output) * learning_rate\n",
        "            self.b1 += np.sum(d_hidden_output, axis=0, keepdims=True) * learning_rate\n",
        "            self.W2 += hidden_output.T.dot(d_final_output) * learning_rate\n",
        "            self.b2 += np. sum(d_final_output, axis=0, keepdims=True) * learning_rate\n",
        "\n",
        "    def predict(self, X: List[List[ float]])-> List[int]:\n",
        "      X = np.array(X)\n",
        "      #Forward pass to predict\n",
        "      hidden_input = np.dot(X, self.W1) + self.b1\n",
        "      hidden_output = self.sigmoid(hidden_input)\n",
        "      final_input = np.dot (hidden_output, self.W2) + self.b2\n",
        "      final_output = self.sigmoid(final_input)\n",
        "\n",
        "     #Convert probabilities to class labels (0 or 1)\n",
        "      predictions = (final_output> 0.5).astype(int)\n",
        "      return predictions.flatten().tolist()\n",
        "\n",
        "#Example usage\n",
        "\n",
        "x = [[0.5, 1.5], [1.0, 2.0], [1.5, 1.0], [2.0, 1.5]]\n",
        "y = [0, 0, 1, 1]\n",
        "epochs = 1000\n",
        "learning_rate = 0.01\n",
        "\n",
        "nn = SimpleNeuralNetwork()\n",
        "nn.fit(x, y, epochs, learning_rate)\n",
        "predictions = nn.predict(x)\n",
        "\n",
        "print(\"Predictions:\", predictions)"
      ],
      "metadata": {
        "colab": {
          "base_uri": "https://localhost:8080/"
        },
        "id": "4Qyf9cftmw4M",
        "outputId": "c0170bd0-b751-4c87-f0c7-b7927ec4c3c8"
      },
      "execution_count": null,
      "outputs": [
        {
          "output_type": "stream",
          "name": "stdout",
          "text": [
            "Predictions: [0, 1, 1, 1]\n"
          ]
        }
      ]
    },
    {
      "cell_type": "markdown",
      "source": [
        "***5.Program to implement Ant colony optimiation***"
      ],
      "metadata": {
        "id": "eAF9n6WUdkU_"
      }
    },
    {
      "cell_type": "code",
      "source": [
        "import random\n",
        "import math\n",
        "import numpy as np\n",
        "\n",
        "class AntColony:\n",
        "    def __init__(self, distance_matrix, n_ants, n_best, n_iterations, decay, alpha=1, beta=1):\n",
        "        self.distance_matrix = distance_matrix\n",
        "        self.n_ants = n_ants\n",
        "        self.n_best = n_best\n",
        "        self.n_iterations = n_iterations\n",
        "        self.decay = decay\n",
        "        self.alpha = alpha  # Importance of pheromone\n",
        "        self.beta = beta  # Importance of distance\n",
        "        self.n_cities = len(distance_matrix)\n",
        "\n",
        "        # Pheromone matrix initialization\n",
        "        self.pheromone = np.ones((self.n_cities, self.n_cities)) / self.n_cities\n",
        "\n",
        "    def run(self):\n",
        "        shortest_path = None\n",
        "        shortest_distance = float('inf')\n",
        "        for _ in range(self.n_iterations):\n",
        "            all_paths = self.gen_all_paths()\n",
        "            self.spread_pheromone(all_paths, shortest_path)\n",
        "            shortest_path, shortest_distance = self.get_shortest_path(all_paths, shortest_path, shortest_distance)\n",
        "            self.pheromone *= (1 - self.decay)  # Pheromone evaporation\n",
        "\n",
        "        return shortest_path, shortest_distance\n",
        "\n",
        "    def spread_pheromone(self, all_paths, shortest_path):\n",
        "        if shortest_path:\n",
        "            pheromone_contribution = 1.0 / shortest_path[1]\n",
        "            for move in shortest_path[0]:\n",
        "                self.pheromone[move[0]][move[1]] += pheromone_contribution\n",
        "    def get_shortest_path(self, all_paths, shortest_path, shortest_distance):\n",
        "        for path, dist in all_paths:\n",
        "            if dist < shortest_distance:\n",
        "                shortest_distance = dist\n",
        "                shortest_path = (path, dist)\n",
        "        return shortest_path, shortest_distance\n",
        "\n",
        "    def gen_path(self):\n",
        "        path = []\n",
        "        visited = set()\n",
        "        current_city = random.randint(0, self.n_cities - 1)\n",
        "        visited.add(current_city)\n",
        "\n",
        "        for _ in range(self.n_cities - 1):\n",
        "            next_city = self.select_next_city(current_city, visited)\n",
        "            path.append((current_city, next_city))\n",
        "            visited.add(next_city)\n",
        "            current_city = next_city\n",
        "        return path\n",
        "    def select_next_city(self, current_city, visited):\n",
        "        probabilities = []\n",
        "        for city in range(self.n_cities):\n",
        "            if city not in visited:\n",
        "                pheromone = self.pheromone[current_city][city] ** self.alpha\n",
        "                distance = self.distance_matrix[current_city][city] ** self.beta\n",
        "                prob = pheromone / distance\n",
        "                probabilities.append((city, prob))\n",
        "\n",
        "        if not probabilities:\n",
        "            return random.choice([i for i in range(self.n_cities) if i not in visited])\n",
        "\n",
        "        total = sum([prob for _, prob in probabilities])\n",
        "        probabilities = [(city, prob / total) for city, prob in probabilities]\n",
        "\n",
        "\n",
        "        selected_city = random.choices([city for city, _ in probabilities], weights=[prob for _, prob in probabilities])[0]\n",
        "        return selected_city\n",
        "    def gen_all_paths(self):\n",
        "        all_paths = []\n",
        "        for _ in range(self.n_ants):\n",
        "            path = self.gen_path()\n",
        "            distance = self.calculate_path_distance(path)\n",
        "            all_paths.append((path, distance))\n",
        "        return all_paths\n",
        "    def calculate_path_distance(self, path):\n",
        "        distance = 0\n",
        "        for move in path:\n",
        "            distance += self.distance_matrix[move[0]][move[1]]\n",
        "        return distance\n",
        "# Example usage with a small TSP instance (4 cities)\n",
        "distance_matrix = [\n",
        "    [0, 10, 15, 20],\n",
        "    [10, 0, 35, 25],\n",
        "    [15, 35, 0, 30],\n",
        "    [20, 25, 30, 0]\n",
        "]\n",
        "\n",
        "aco = AntColony(distance_matrix, n_ants=10, n_best=5, n_iterations=100, decay=0.95)\n",
        "best_path, best_distance = aco.run()\n",
        "\n",
        "print(\"Best Path:\", best_path)\n",
        "print(\"Best Distance:\", best_distance)\n",
        ""
      ],
      "metadata": {
        "colab": {
          "base_uri": "https://localhost:8080/"
        },
        "id": "EcVQ8WnGdle-",
        "outputId": "60eff904-3ffe-414c-adc0-7dc6dcebc935"
      },
      "execution_count": 4,
      "outputs": [
        {
          "output_type": "stream",
          "name": "stdout",
          "text": [
            "Best Path: ([(3, 1), (1, 0), (0, 2)], 50)\n",
            "Best Distance: 50\n"
          ]
        }
      ]
    },
    {
      "cell_type": "markdown",
      "source": [
        "***6.Program to implement Multilayer Neural network***"
      ],
      "metadata": {
        "id": "USydbyRqnqGo"
      }
    },
    {
      "cell_type": "code",
      "source": [
        "import numpy as np\n",
        "# Sigmoid activation function\n",
        "def sigmoid(x):\n",
        "    return 1 / (1 + np.exp(-x))[[]]\n",
        "# Derivative of sigmoid\n",
        "def sigmoid_derivative(x):\n",
        "    return x * (1 - x)\n",
        "# Initialize the neural network\n",
        "class NeuralNetwork:\n",
        "    def __init__(self, input_size, hidden_size, output_size):\n",
        "        # Set the sizes of the layers\n",
        "        self.input_size = input_size\n",
        "        self.hidden_size = hidden_size\n",
        "        self.output_size = output_size\n",
        "        # Initialize weights and biases\n",
        "        self.weights_input_hidden = np.random.rand(self.input_size, self.hidden_size)\n",
        "        self.weights_hidden_output = np.random.rand(self.hidden_size, self.output_size)\n",
        "        self.bias_hidden = np.zeros((1, self.hidden_size))\n",
        "        self.bias_output = np.zeros((1, self.output_size))\n",
        "    def forward(self, X):\n",
        "        # Forward pass: Input -> Hidden -> Output\n",
        "        self.input = X\n",
        "        self.hidden_input = np.dot(self.input, self.weights_input_hidden) + self.bias_hidden\n",
        "        self.hidden_output = sigmoid(self.hidden_input)\n",
        "        self.output_input = np.dot(self.hidden_output, self.weights_hidden_output) + self.bias_output\n",
        "        self.output = sigmoid(self.output_input)\n",
        "        return self.output\n",
        "    def backward(self, X, y, learning_rate):\n",
        "        # Backpropagation: Compute gradients and update weights and biases\n",
        "        output_error = y - self.output  # Error at output\n",
        "        output_delta = output_error * sigmoid_derivative(self.output)\n",
        "        hidden_error = output_delta.dot(self.weights_hidden_output.T)  # Error at hidden lay\n",
        "        hidden_delta = hidden_error * sigmoid_derivative(self.hidden_output)\n",
        "        # Update weights and biases\n",
        "        self.weights_hidden_output += self.hidden_output.T.dot(output_delta) * learning_rate\n",
        "        self.weights_input_hidden += X.T.dot(hidden_delta) * learning_rate\n",
        "        self.bias_output += np.sum(output_delta, axis=0, keepdims=True) * learning_rate\n",
        "        self.bias_hidden += np.sum(hidden_delta, axis=0, keepdims=True) * learning_rate\n",
        "    def train(self, X, y, epochs, learning_rate):\n",
        "        # Training loop\n",
        "        for epoch in range(epochs):\n",
        "            self.forward(X)\n",
        "            self.backward(X, y, learning_rate)\n",
        "            if epoch % 1000 == 0:\n",
        "                loss = np.mean(np.square(y - self.output))  # Mean squared error\n",
        "                print(f\"Epoch {epoch}, Loss: {loss}\")\n",
        "   # Example Usage\n",
        "if __name__ == \"__main__\":\n",
        "    # Define dataset (X: inputs, y: expected outputs)\n",
        "    X = np.array([[0, 0], [0, 1], [1, 0], [1, 1]])  # XOR problem\n",
        "    y = np.array([[0], [1], [1], [0]])  # XOR output\n",
        "    # Initialize neural network with 2 input neurons, 4 hidden neurons, and 1 output neuron\n",
        "    nn = NeuralNetwork(input_size=2, hidden_size=4, output_size=1)\n",
        "    # Train the neural network\n",
        "    nn.train(X, y, epochs=10000, learning_rate=0.1)\n",
        "    # Test the neural network\n",
        "    print(\"Test Output:\")\n",
        "    print(nn.forward(X))"
      ],
      "metadata": {
        "colab": {
          "base_uri": "https://localhost:8080/"
        },
        "collapsed": true,
        "id": "tfu5C2smoW26",
        "outputId": "4075ea17-5eab-4895-ce29-b8041979d715"
      },
      "execution_count": 9,
      "outputs": [
        {
          "output_type": "stream",
          "name": "stdout",
          "text": [
            "Epoch 0, Loss: 0.29763222981192894\n",
            "Epoch 1000, Loss: 0.2418695727173955\n",
            "Epoch 2000, Loss: 0.19171514940770493\n",
            "Epoch 3000, Loss: 0.1018325408160654\n",
            "Epoch 4000, Loss: 0.031264335790730444\n",
            "Epoch 5000, Loss: 0.013655445800799377\n",
            "Epoch 6000, Loss: 0.007973781716311107\n",
            "Epoch 7000, Loss: 0.005426250077269088\n",
            "Epoch 8000, Loss: 0.004036446081573171\n",
            "Epoch 9000, Loss: 0.003178952258847439\n",
            "Test Output:\n",
            "[[0.05749779]\n",
            " [0.95172004]\n",
            " [0.95199732]\n",
            " [0.04974926]]\n"
          ]
        }
      ]
    },
    {
      "cell_type": "code",
      "source": [
        "import random\n",
        "\n",
        "def f(x):\n",
        "    # Example function to maximize (can be replaced with any other function)\n",
        "    return -1 * (x - 5)**2 + 25  # Maximum at x = 5\n",
        "\n",
        "# Step 1: Initialization\n",
        "def initialize_population(pop_size, x_min, x_max):\n",
        "    # Generate a population of random integers in the range (x_min, x_max]\n",
        "    return [random.randint(x_min + 1, x_max) for _ in range(pop_size)]\n",
        "\n",
        "# Step 2: Fitness Evaluation\n",
        "def evaluate_population(population):\n",
        "    # Compute fitness for each individual\n",
        "    return [f(x) for x in population]\n",
        "\n",
        "# Step 3: Selection (Roulette Wheel Selection)\n",
        "def select_parent(population, fitnesses):\n",
        "    total_fitness = sum(fitnesses)\n",
        "    probabilities = [fitness / total_fitness for fitness in fitnesses]\n",
        "    cumulative_probs = [sum(probabilities[:i+1]) for i in range(len(probabilities))]\n",
        "    r = random.random()\n",
        "    for i, cumulative_prob in enumerate(cumulative_probs):\n",
        "        if r <= cumulative_prob:\n",
        "            return population[i]\n",
        "\n",
        "# Step 4: Crossover (Single-point crossover)\n",
        "def crossover(parent1, parent2):\n",
        "    # Midpoint crossover\n",
        "    return (parent1 + parent2) // 2\n",
        "\n",
        "# Step 5: Mutation\n",
        "def mutate(x, x_min, x_max, mutation_rate):\n",
        "    if random.random() < mutation_rate:\n",
        "        # Add a random small value to x, keeping it within bounds\n",
        "        x += random.randint(-1, 1)\n",
        "        return max(x_min + 1, min(x, x_max))\n",
        "    return x\n",
        "\n",
        "# Genetic Algorithm\n",
        "def genetic_algorithm(x_min, x_max, population_size, generations, mutation_rate):\n",
        "    # Step 1: Initialize population\n",
        "    population = initialize_population(population_size, x_min, x_max)\n",
        "\n",
        "    for generation in range(generations):\n",
        "        # Step 2: Evaluate fitness\n",
        "        fitnesses = evaluate_population(population)\n",
        "\n",
        "        # Step 3: Create new population\n",
        "        new_population = []\n",
        "        while len(new_population) < population_size:\n",
        "            # Select parents\n",
        "            parent1 = select_parent(population, fitnesses)\n",
        "            parent2 = select_parent(population, fitnesses)\n",
        "\n",
        "            # Perform crossover\n",
        "            offspring = crossover(parent1, parent2)\n",
        "\n",
        "            # Perform mutation\n",
        "            offspring = mutate(offspring, x_min, x_max, mutation_rate)\n",
        "\n",
        "            new_population.append(offspring)\n",
        "\n",
        "        # Update population\n",
        "        population = new_population\n",
        "\n",
        "        # Track the best solution in the current generation\n",
        "        best_fitness = max(fitnesses)\n",
        "        best_x = population[fitnesses.index(best_fitness)]\n",
        "        print(f\"Generation {generation + 1}: Best Fitness = {best_fitness}, Best x = {best_x}\")\n",
        "\n",
        "    # Final evaluation\n",
        "    fitnesses = evaluate_population(population)\n",
        "    best_fitness = max(fitnesses)\n",
        "    best_x = population[fitnesses.index(best_fitness)]\n",
        "\n",
        "    return best_x, best_fitness\n",
        "\n",
        "# Parameters\n",
        "x_min = 0\n",
        "x_max = 10\n",
        "population_size = 10\n",
        "generations = 20\n",
        "mutation_rate = 0.1\n",
        "\n",
        "# Run the Genetic Algorithm\n",
        "best_x, best_fitness = genetic_algorithm(x_min, x_max, population_size, generations, mutation_rate)\n",
        "print(f\"\\nBest x: {best_x} with Best Fitness: {best_fitness}\")\n"
      ],
      "metadata": {
        "colab": {
          "base_uri": "https://localhost:8080/"
        },
        "id": "SV2fvL7q3gVG",
        "outputId": "8e10a4c6-0239-4e1b-9b33-06b1b530aa40"
      },
      "execution_count": 1,
      "outputs": [
        {
          "output_type": "stream",
          "name": "stdout",
          "text": [
            "Generation 1: Best Fitness = 25, Best x = 5\n",
            "Generation 2: Best Fitness = 25, Best x = 5\n",
            "Generation 3: Best Fitness = 25, Best x = 5\n",
            "Generation 4: Best Fitness = 25, Best x = 5\n",
            "Generation 5: Best Fitness = 25, Best x = 5\n",
            "Generation 6: Best Fitness = 25, Best x = 4\n",
            "Generation 7: Best Fitness = 25, Best x = 5\n",
            "Generation 8: Best Fitness = 25, Best x = 4\n",
            "Generation 9: Best Fitness = 25, Best x = 4\n",
            "Generation 10: Best Fitness = 24, Best x = 3\n",
            "Generation 11: Best Fitness = 24, Best x = 3\n",
            "Generation 12: Best Fitness = 24, Best x = 3\n",
            "Generation 13: Best Fitness = 21, Best x = 3\n",
            "Generation 14: Best Fitness = 24, Best x = 3\n",
            "Generation 15: Best Fitness = 21, Best x = 3\n",
            "Generation 16: Best Fitness = 21, Best x = 3\n",
            "Generation 17: Best Fitness = 24, Best x = 3\n",
            "Generation 18: Best Fitness = 24, Best x = 2\n",
            "Generation 19: Best Fitness = 24, Best x = 2\n",
            "Generation 20: Best Fitness = 24, Best x = 2\n",
            "\n",
            "Best x: 3 with Best Fitness: 21\n"
          ]
        }
      ]
    }
  ]
}